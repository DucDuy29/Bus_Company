{
  "cells": [
    {
      "cell_type": "code",
      "execution_count": 15,
      "metadata": {
        "id": "ARR-IyQhJ_8b"
      },
      "outputs": [],
      "source": [
        "from pyspark.sql import SparkSession\n",
        "import numpy as np\n",
        "import pandas as pd\n",
        "import os"
      ]
    },
    {
      "cell_type": "code",
      "execution_count": 16,
      "metadata": {
        "id": "bklgf6kGKSMo"
      },
      "outputs": [],
      "source": [
        "spark = SparkSession.builder \\\n",
        "        .appName(\"Silver\") \\\n",
        "        .master(\"local[*]\") \\\n",
        "        .getOrCreate()"
      ]
    },
    {
      "cell_type": "markdown",
      "metadata": {},
      "source": [
        "#### Import file"
      ]
    },
    {
      "cell_type": "code",
      "execution_count": 17,
      "metadata": {
        "colab": {
          "base_uri": "https://localhost:8080/"
        },
        "id": "NfxL7FNfLP5Q",
        "outputId": "33f5cddd-102b-4544-fb2a-dc07349c00a4"
      },
      "outputs": [
        {
          "name": "stdout",
          "output_type": "stream",
          "text": [
            "+-------+--------------------+----------+----------------+--------------+------------+--------------------+--------------------+--------+--------------------+-----------+\n",
            "|Bus_Key|            Bus_Name|Start_Date|           Route|Departure_Time|Arrival_Time|     Departure_Place|       Arrival_Place|Duration|            Type_Bus|      Price|\n",
            "+-------+--------------------+----------+----------------+--------------+------------+--------------------+--------------------+--------+--------------------+-----------+\n",
            "|      1|   Vũ Linh limousine|07-03-2025|TP.HCM - Can Tho|         10:00|       13:15| • Văn Phòng Sài Gòn|• Văn Phòng Công ...|   3h15m|Huyndai Solati 11...|Từ 200.000đ|\n",
            "|      2|   Vũ Linh limousine|07-03-2025|TP.HCM - Can Tho|         12:00|       15:15| • Văn Phòng Sài Gòn|• Văn Phòng Công ...|   3h15m|Huyndai Solati 11...|Từ 200.000đ|\n",
            "|      3|   Vũ Linh limousine|07-03-2025|TP.HCM - Can Tho|         11:01|       14:16| • Văn Phòng Sài Gòn|• Văn Phòng Công ...|   3h15m|Huyndai Solati 11...|Từ 200.000đ|\n",
            "|      4|            Văn Lang|07-03-2025|TP.HCM - Can Tho|         07:30|       11:00|• Văn Phòng Bình Tân|    • Metro Hưng Lợi|   3h30m|   Giường nằm 41 chỗ|   170.000đ|\n",
            "|      5|           Toàn Khải|07-03-2025|TP.HCM - Can Tho|         18:20|       21:50|   • Bến Xe An Sương|• Bến xe trung tâ...|   3h30m|  Limousine 34 phòng|   200.000đ|\n",
            "|      6|            Văn Lang|07-03-2025|TP.HCM - Can Tho|         09:00|       13:00|  • Văn phòng Quận 5|    • Metro Hưng Lợi|      4h|   Giường nằm 41 chỗ|   170.000đ|\n",
            "|      7|            Văn Lang|07-03-2025|TP.HCM - Can Tho|         14:00|       18:30|  • Văn phòng Quận 5|• Văn phòng Thốt Nốt|   4h30m|   Giường nằm 41 chỗ|   170.000đ|\n",
            "|      8|            Văn Lang|07-03-2025|TP.HCM - Can Tho|         07:00|       11:00|  • Văn phòng Quận 5|    • Metro Hưng Lợi|      4h|   Giường nằm 41 chỗ|   170.000đ|\n",
            "|      9|            Trí Nhân|07-03-2025|TP.HCM - Can Tho|         08:30|       11:57|   • Bến xe Miền Tây|• Cổng Bến xe tru...|   3h27m|   Giường nằm 41 chỗ|   180.000đ|\n",
            "|     10|            Trí Nhân|07-03-2025|TP.HCM - Can Tho|         08:30|       11:57| • Văn Phòng Sài Gòn|• Cổng Bến xe tru...|   3h27m|   Giường nằm 41 chỗ|   180.000đ|\n",
            "|     11|            Trí Nhân|07-03-2025|TP.HCM - Can Tho|         20:30|       23:57|   • Bến xe Miền Tây|• Cổng Bến xe tru...|   3h27m|   Giường nằm 41 chỗ|   180.000đ|\n",
            "|     12|            Trí Nhân|07-03-2025|TP.HCM - Can Tho|         20:30|       23:57| • Văn Phòng Sài Gòn|• Cổng Bến xe tru...|   3h27m|   Giường nằm 41 chỗ|   180.000đ|\n",
            "|     13|           Tuấn Hiệp|07-03-2025|TP.HCM - Can Tho|         07:30|       11:00|   • Bến Xe An Sương|• Bến xe Cần Thơ mới|   3h30m|   Giường nằm 40 chỗ|   200.000đ|\n",
            "|     14|           Tuấn Hiệp|07-03-2025|TP.HCM - Can Tho|         07:20|       11:00|  • Bến xe Ngã Tư Ga|• Bến xe Cần Thơ mới|   3h40m|   Giường nằm 40 chỗ|   200.000đ|\n",
            "|     15|           Tuấn Hiệp|07-03-2025|TP.HCM - Can Tho|         19:20|       23:00|  • Bến xe Ngã Tư Ga|• Bến xe Cần Thơ mới|   3h40m|   Giường nằm 44 chỗ|   200.000đ|\n",
            "|     16|           Tuấn Hiệp|07-03-2025|TP.HCM - Can Tho|         19:30|       23:00|• Bến xe An Sương...|• Bến xe Cần Thơ mới|   3h30m|   Giường nằm 44 chỗ|   200.000đ|\n",
            "|     17|Thiện Thành Limou...|07-03-2025|TP.HCM - Can Tho|         23:35|       05:35|        • VP Tân Phú|       • VP Rạch Giá|      6h|  Limousine 24 phòng|   350.000đ|\n",
            "|     18|Thiện Thành Limou...|07-03-2025|TP.HCM - Can Tho|         23:33|       05:33|        • VP Tân Phú|       • VP Rạch Giá|      6h|  Limousine 24 phòng|   350.000đ|\n",
            "|     19|Thiện Thành Limou...|07-03-2025|TP.HCM - Can Tho|         23:34|       05:34|        • VP Tân Phú|       • VP Rạch Giá|      6h|  Limousine 24 phòng|   350.000đ|\n",
            "|     20|   Vũ Linh limousine|07-03-2025|TP.HCM - Can Tho|         14:00|       17:15| • Văn Phòng Sài Gòn|• Văn Phòng Công ...|   3h15m|Huyndai Solati 11...|Từ 200.000đ|\n",
            "+-------+--------------------+----------+----------------+--------------+------------+--------------------+--------------------+--------+--------------------+-----------+\n",
            "only showing top 20 rows\n",
            "\n"
          ]
        }
      ],
      "source": [
        "bus_ticket = spark.read.csv(\"../raw/bus_data_07-03-2025.csv\", header=True)\n",
        "\n",
        "bus_ticket.show(20)"
      ]
    },
    {
      "cell_type": "markdown",
      "metadata": {},
      "source": [
        "#### Check data type "
      ]
    },
    {
      "cell_type": "code",
      "execution_count": 18,
      "metadata": {
        "colab": {
          "base_uri": "https://localhost:8080/"
        },
        "id": "fP6cRrqrbsOi",
        "outputId": "15f65c05-f5d3-4c29-b3a3-844bf474944d"
      },
      "outputs": [
        {
          "name": "stdout",
          "output_type": "stream",
          "text": [
            "root\n",
            " |-- Bus_Key: string (nullable = true)\n",
            " |-- Bus_Name: string (nullable = true)\n",
            " |-- Start_Date: string (nullable = true)\n",
            " |-- Route: string (nullable = true)\n",
            " |-- Departure_Time: string (nullable = true)\n",
            " |-- Arrival_Time: string (nullable = true)\n",
            " |-- Departure_Place: string (nullable = true)\n",
            " |-- Arrival_Place: string (nullable = true)\n",
            " |-- Duration: string (nullable = true)\n",
            " |-- Type_Bus: string (nullable = true)\n",
            " |-- Price: string (nullable = true)\n",
            "\n"
          ]
        }
      ],
      "source": [
        "bus_ticket.printSchema()"
      ]
    },
    {
      "cell_type": "markdown",
      "metadata": {},
      "source": [
        "#### Edit Bus_Key and sort column Bus_Key"
      ]
    },
    {
      "cell_type": "code",
      "execution_count": 19,
      "metadata": {
        "colab": {
          "base_uri": "https://localhost:8080/"
        },
        "id": "cQy_vybRng0w",
        "outputId": "7a6168c0-ef45-4e21-9f5b-9e8a4ef5a5a7"
      },
      "outputs": [
        {
          "name": "stdout",
          "output_type": "stream",
          "text": [
            "+-------+--------------------+----------+----------------+--------------+------------+--------------------+--------------------+--------+--------------------+-----------+\n",
            "|Bus_Key|            Bus_Name|Start_Date|           Route|Departure_Time|Arrival_Time|     Departure_Place|       Arrival_Place|Duration|            Type_Bus|      Price|\n",
            "+-------+--------------------+----------+----------------+--------------+------------+--------------------+--------------------+--------+--------------------+-----------+\n",
            "|      1|   Vũ Linh limousine|07-03-2025|TP.HCM - Can Tho|         10:00|       13:15| • Văn Phòng Sài Gòn|• Văn Phòng Công ...|   3h15m|Huyndai Solati 11...|Từ 200.000đ|\n",
            "|      2|   Vũ Linh limousine|07-03-2025|TP.HCM - Can Tho|         12:00|       15:15| • Văn Phòng Sài Gòn|• Văn Phòng Công ...|   3h15m|Huyndai Solati 11...|Từ 200.000đ|\n",
            "|      3|   Vũ Linh limousine|07-03-2025|TP.HCM - Can Tho|         11:01|       14:16| • Văn Phòng Sài Gòn|• Văn Phòng Công ...|   3h15m|Huyndai Solati 11...|Từ 200.000đ|\n",
            "|      4|            Văn Lang|07-03-2025|TP.HCM - Can Tho|         07:30|       11:00|• Văn Phòng Bình Tân|    • Metro Hưng Lợi|   3h30m|   Giường nằm 41 chỗ|   170.000đ|\n",
            "|      5|           Toàn Khải|07-03-2025|TP.HCM - Can Tho|         18:20|       21:50|   • Bến Xe An Sương|• Bến xe trung tâ...|   3h30m|  Limousine 34 phòng|   200.000đ|\n",
            "|      6|            Văn Lang|07-03-2025|TP.HCM - Can Tho|         09:00|       13:00|  • Văn phòng Quận 5|    • Metro Hưng Lợi|      4h|   Giường nằm 41 chỗ|   170.000đ|\n",
            "|      7|            Văn Lang|07-03-2025|TP.HCM - Can Tho|         14:00|       18:30|  • Văn phòng Quận 5|• Văn phòng Thốt Nốt|   4h30m|   Giường nằm 41 chỗ|   170.000đ|\n",
            "|      8|            Văn Lang|07-03-2025|TP.HCM - Can Tho|         07:00|       11:00|  • Văn phòng Quận 5|    • Metro Hưng Lợi|      4h|   Giường nằm 41 chỗ|   170.000đ|\n",
            "|      9|            Trí Nhân|07-03-2025|TP.HCM - Can Tho|         08:30|       11:57|   • Bến xe Miền Tây|• Cổng Bến xe tru...|   3h27m|   Giường nằm 41 chỗ|   180.000đ|\n",
            "|     10|            Trí Nhân|07-03-2025|TP.HCM - Can Tho|         08:30|       11:57| • Văn Phòng Sài Gòn|• Cổng Bến xe tru...|   3h27m|   Giường nằm 41 chỗ|   180.000đ|\n",
            "|     11|            Trí Nhân|07-03-2025|TP.HCM - Can Tho|         20:30|       23:57|   • Bến xe Miền Tây|• Cổng Bến xe tru...|   3h27m|   Giường nằm 41 chỗ|   180.000đ|\n",
            "|     12|            Trí Nhân|07-03-2025|TP.HCM - Can Tho|         20:30|       23:57| • Văn Phòng Sài Gòn|• Cổng Bến xe tru...|   3h27m|   Giường nằm 41 chỗ|   180.000đ|\n",
            "|     13|           Tuấn Hiệp|07-03-2025|TP.HCM - Can Tho|         07:30|       11:00|   • Bến Xe An Sương|• Bến xe Cần Thơ mới|   3h30m|   Giường nằm 40 chỗ|   200.000đ|\n",
            "|     14|           Tuấn Hiệp|07-03-2025|TP.HCM - Can Tho|         07:20|       11:00|  • Bến xe Ngã Tư Ga|• Bến xe Cần Thơ mới|   3h40m|   Giường nằm 40 chỗ|   200.000đ|\n",
            "|     15|           Tuấn Hiệp|07-03-2025|TP.HCM - Can Tho|         19:20|       23:00|  • Bến xe Ngã Tư Ga|• Bến xe Cần Thơ mới|   3h40m|   Giường nằm 44 chỗ|   200.000đ|\n",
            "|     16|           Tuấn Hiệp|07-03-2025|TP.HCM - Can Tho|         19:30|       23:00|• Bến xe An Sương...|• Bến xe Cần Thơ mới|   3h30m|   Giường nằm 44 chỗ|   200.000đ|\n",
            "|     17|Thiện Thành Limou...|07-03-2025|TP.HCM - Can Tho|         23:35|       05:35|        • VP Tân Phú|       • VP Rạch Giá|      6h|  Limousine 24 phòng|   350.000đ|\n",
            "|     18|Thiện Thành Limou...|07-03-2025|TP.HCM - Can Tho|         23:33|       05:33|        • VP Tân Phú|       • VP Rạch Giá|      6h|  Limousine 24 phòng|   350.000đ|\n",
            "|     19|Thiện Thành Limou...|07-03-2025|TP.HCM - Can Tho|         23:34|       05:34|        • VP Tân Phú|       • VP Rạch Giá|      6h|  Limousine 24 phòng|   350.000đ|\n",
            "|     20|   Vũ Linh limousine|07-03-2025|TP.HCM - Can Tho|         14:00|       17:15| • Văn Phòng Sài Gòn|• Văn Phòng Công ...|   3h15m|Huyndai Solati 11...|Từ 200.000đ|\n",
            "+-------+--------------------+----------+----------------+--------------+------------+--------------------+--------------------+--------+--------------------+-----------+\n",
            "only showing top 20 rows\n",
            "\n"
          ]
        }
      ],
      "source": [
        "from pyspark.sql.window import Window\n",
        "from pyspark.sql.functions import row_number, monotonically_increasing_id\n",
        "\n",
        "bus_ticket = bus_ticket.withColumn(\"Bus_Key\", bus_ticket[\"Bus_Key\"].cast(\"int\"))\n",
        "\n",
        "# Thêm cột tạm thời để tạo thứ tự (vì monotonically_increasing_id() không liên tiếp)\n",
        "bus_ticket = bus_ticket.withColumn(\"temp_id\", monotonically_increasing_id())\n",
        "\n",
        "# Định nghĩa cửa sổ sắp xếp theo temp_id\n",
        "window_spec = Window.orderBy(\"temp_id\")\n",
        "\n",
        "# Đánh số từ 1\n",
        "bus_ticket = bus_ticket.withColumn(\"Bus_Key\", row_number().over(window_spec))\n",
        "\n",
        "# Xóa cột tạm\n",
        "bus_ticket = bus_ticket.drop(\"temp_id\")\n",
        "\n",
        "bus_ticket.show(20)"
      ]
    },
    {
      "cell_type": "markdown",
      "metadata": {},
      "source": [
        "#### Convert data type column Start_Date"
      ]
    },
    {
      "cell_type": "code",
      "execution_count": 20,
      "metadata": {
        "colab": {
          "base_uri": "https://localhost:8080/"
        },
        "id": "IzlgPOz5ljHb",
        "outputId": "eb53016a-c0fc-4d6d-ea8f-b16c0d541ee4"
      },
      "outputs": [
        {
          "name": "stdout",
          "output_type": "stream",
          "text": [
            "+-------+--------------------+----------+----------------+--------------+------------+--------------------+--------------------+--------+--------------------+-----------+\n",
            "|Bus_Key|            Bus_Name|Start_Date|           Route|Departure_Time|Arrival_Time|     Departure_Place|       Arrival_Place|Duration|            Type_Bus|      Price|\n",
            "+-------+--------------------+----------+----------------+--------------+------------+--------------------+--------------------+--------+--------------------+-----------+\n",
            "|      1|   Vũ Linh limousine|2025-07-03|TP.HCM - Can Tho|         10:00|       13:15| • Văn Phòng Sài Gòn|• Văn Phòng Công ...|   3h15m|Huyndai Solati 11...|Từ 200.000đ|\n",
            "|      2|   Vũ Linh limousine|2025-07-03|TP.HCM - Can Tho|         12:00|       15:15| • Văn Phòng Sài Gòn|• Văn Phòng Công ...|   3h15m|Huyndai Solati 11...|Từ 200.000đ|\n",
            "|      3|   Vũ Linh limousine|2025-07-03|TP.HCM - Can Tho|         11:01|       14:16| • Văn Phòng Sài Gòn|• Văn Phòng Công ...|   3h15m|Huyndai Solati 11...|Từ 200.000đ|\n",
            "|      4|            Văn Lang|2025-07-03|TP.HCM - Can Tho|         07:30|       11:00|• Văn Phòng Bình Tân|    • Metro Hưng Lợi|   3h30m|   Giường nằm 41 chỗ|   170.000đ|\n",
            "|      5|           Toàn Khải|2025-07-03|TP.HCM - Can Tho|         18:20|       21:50|   • Bến Xe An Sương|• Bến xe trung tâ...|   3h30m|  Limousine 34 phòng|   200.000đ|\n",
            "|      6|            Văn Lang|2025-07-03|TP.HCM - Can Tho|         09:00|       13:00|  • Văn phòng Quận 5|    • Metro Hưng Lợi|      4h|   Giường nằm 41 chỗ|   170.000đ|\n",
            "|      7|            Văn Lang|2025-07-03|TP.HCM - Can Tho|         14:00|       18:30|  • Văn phòng Quận 5|• Văn phòng Thốt Nốt|   4h30m|   Giường nằm 41 chỗ|   170.000đ|\n",
            "|      8|            Văn Lang|2025-07-03|TP.HCM - Can Tho|         07:00|       11:00|  • Văn phòng Quận 5|    • Metro Hưng Lợi|      4h|   Giường nằm 41 chỗ|   170.000đ|\n",
            "|      9|            Trí Nhân|2025-07-03|TP.HCM - Can Tho|         08:30|       11:57|   • Bến xe Miền Tây|• Cổng Bến xe tru...|   3h27m|   Giường nằm 41 chỗ|   180.000đ|\n",
            "|     10|            Trí Nhân|2025-07-03|TP.HCM - Can Tho|         08:30|       11:57| • Văn Phòng Sài Gòn|• Cổng Bến xe tru...|   3h27m|   Giường nằm 41 chỗ|   180.000đ|\n",
            "|     11|            Trí Nhân|2025-07-03|TP.HCM - Can Tho|         20:30|       23:57|   • Bến xe Miền Tây|• Cổng Bến xe tru...|   3h27m|   Giường nằm 41 chỗ|   180.000đ|\n",
            "|     12|            Trí Nhân|2025-07-03|TP.HCM - Can Tho|         20:30|       23:57| • Văn Phòng Sài Gòn|• Cổng Bến xe tru...|   3h27m|   Giường nằm 41 chỗ|   180.000đ|\n",
            "|     13|           Tuấn Hiệp|2025-07-03|TP.HCM - Can Tho|         07:30|       11:00|   • Bến Xe An Sương|• Bến xe Cần Thơ mới|   3h30m|   Giường nằm 40 chỗ|   200.000đ|\n",
            "|     14|           Tuấn Hiệp|2025-07-03|TP.HCM - Can Tho|         07:20|       11:00|  • Bến xe Ngã Tư Ga|• Bến xe Cần Thơ mới|   3h40m|   Giường nằm 40 chỗ|   200.000đ|\n",
            "|     15|           Tuấn Hiệp|2025-07-03|TP.HCM - Can Tho|         19:20|       23:00|  • Bến xe Ngã Tư Ga|• Bến xe Cần Thơ mới|   3h40m|   Giường nằm 44 chỗ|   200.000đ|\n",
            "|     16|           Tuấn Hiệp|2025-07-03|TP.HCM - Can Tho|         19:30|       23:00|• Bến xe An Sương...|• Bến xe Cần Thơ mới|   3h30m|   Giường nằm 44 chỗ|   200.000đ|\n",
            "|     17|Thiện Thành Limou...|2025-07-03|TP.HCM - Can Tho|         23:35|       05:35|        • VP Tân Phú|       • VP Rạch Giá|      6h|  Limousine 24 phòng|   350.000đ|\n",
            "|     18|Thiện Thành Limou...|2025-07-03|TP.HCM - Can Tho|         23:33|       05:33|        • VP Tân Phú|       • VP Rạch Giá|      6h|  Limousine 24 phòng|   350.000đ|\n",
            "|     19|Thiện Thành Limou...|2025-07-03|TP.HCM - Can Tho|         23:34|       05:34|        • VP Tân Phú|       • VP Rạch Giá|      6h|  Limousine 24 phòng|   350.000đ|\n",
            "|     20|   Vũ Linh limousine|2025-07-03|TP.HCM - Can Tho|         14:00|       17:15| • Văn Phòng Sài Gòn|• Văn Phòng Công ...|   3h15m|Huyndai Solati 11...|Từ 200.000đ|\n",
            "+-------+--------------------+----------+----------------+--------------+------------+--------------------+--------------------+--------+--------------------+-----------+\n",
            "only showing top 20 rows\n",
            "\n"
          ]
        }
      ],
      "source": [
        "from pyspark.sql.functions import to_date\n",
        "\n",
        "bus_ticket = bus_ticket.withColumn(\"Start_Date\", to_date(\"Start_Date\", \"MM-dd-yyyy\"))\n",
        "\n",
        "bus_ticket.show(20)"
      ]
    },
    {
      "cell_type": "markdown",
      "metadata": {},
      "source": [
        "#### Regex column"
      ]
    },
    {
      "cell_type": "code",
      "execution_count": 21,
      "metadata": {
        "colab": {
          "base_uri": "https://localhost:8080/"
        },
        "id": "WuUiTE2v2nf5",
        "outputId": "f782501d-9159-48ab-b76c-d9dfefe5f5e7"
      },
      "outputs": [
        {
          "name": "stdout",
          "output_type": "stream",
          "text": [
            "+-------+--------------------+----------+----------------+--------------+------------+--------------------+--------------------+--------+--------------------+-----------+\n",
            "|Bus_Key|            Bus_Name|Start_Date|           Route|Departure_Time|Arrival_Time|     Departure_Place|       Arrival_Place|Duration|            Type_Bus|      Price|\n",
            "+-------+--------------------+----------+----------------+--------------+------------+--------------------+--------------------+--------+--------------------+-----------+\n",
            "|      1|   Vũ Linh limousine|2025-07-03|TP.HCM - Can Tho|         10:00|       13:15|   văn phòng sài gòn| văn phòng công t...|   3h15m|Huyndai Solati 11...|Từ 200.000đ|\n",
            "|      2|   Vũ Linh limousine|2025-07-03|TP.HCM - Can Tho|         12:00|       15:15|   văn phòng sài gòn| văn phòng công t...|   3h15m|Huyndai Solati 11...|Từ 200.000đ|\n",
            "|      3|   Vũ Linh limousine|2025-07-03|TP.HCM - Can Tho|         11:01|       14:16|   văn phòng sài gòn| văn phòng công t...|   3h15m|Huyndai Solati 11...|Từ 200.000đ|\n",
            "|      4|            Văn Lang|2025-07-03|TP.HCM - Can Tho|         07:30|       11:00|  văn phòng bình tân|      metro hưng lợi|   3h30m|   Giường nằm 41 chỗ|   170.000đ|\n",
            "|      5|           Toàn Khải|2025-07-03|TP.HCM - Can Tho|         18:20|       21:50|     bến xe an sương| bến xe trung tâm...|   3h30m|  Limousine 34 phòng|   200.000đ|\n",
            "|      6|            Văn Lang|2025-07-03|TP.HCM - Can Tho|         09:00|       13:00|    văn phòng quận 5|      metro hưng lợi|      4h|   Giường nằm 41 chỗ|   170.000đ|\n",
            "|      7|            Văn Lang|2025-07-03|TP.HCM - Can Tho|         14:00|       18:30|    văn phòng quận 5|  văn phòng thốt nốt|   4h30m|   Giường nằm 41 chỗ|   170.000đ|\n",
            "|      8|            Văn Lang|2025-07-03|TP.HCM - Can Tho|         07:00|       11:00|    văn phòng quận 5|      metro hưng lợi|      4h|   Giường nằm 41 chỗ|   170.000đ|\n",
            "|      9|            Trí Nhân|2025-07-03|TP.HCM - Can Tho|         08:30|       11:57|     bến xe miền tây| cổng bến xe trun...|   3h27m|   Giường nằm 41 chỗ|   180.000đ|\n",
            "|     10|            Trí Nhân|2025-07-03|TP.HCM - Can Tho|         08:30|       11:57|   văn phòng sài gòn| cổng bến xe trun...|   3h27m|   Giường nằm 41 chỗ|   180.000đ|\n",
            "|     11|            Trí Nhân|2025-07-03|TP.HCM - Can Tho|         20:30|       23:57|     bến xe miền tây| cổng bến xe trun...|   3h27m|   Giường nằm 41 chỗ|   180.000đ|\n",
            "|     12|            Trí Nhân|2025-07-03|TP.HCM - Can Tho|         20:30|       23:57|   văn phòng sài gòn| cổng bến xe trun...|   3h27m|   Giường nằm 41 chỗ|   180.000đ|\n",
            "|     13|           Tuấn Hiệp|2025-07-03|TP.HCM - Can Tho|         07:30|       11:00|     bến xe an sương|  bến xe cần thơ mới|   3h30m|   Giường nằm 40 chỗ|   200.000đ|\n",
            "|     14|           Tuấn Hiệp|2025-07-03|TP.HCM - Can Tho|         07:20|       11:00|    bến xe ngã tư ga|  bến xe cần thơ mới|   3h40m|   Giường nằm 40 chỗ|   200.000đ|\n",
            "|     15|           Tuấn Hiệp|2025-07-03|TP.HCM - Can Tho|         19:20|       23:00|    bến xe ngã tư ga|  bến xe cần thơ mới|   3h40m|   Giường nằm 44 chỗ|   200.000đ|\n",
            "|     16|           Tuấn Hiệp|2025-07-03|TP.HCM - Can Tho|         19:30|       23:00| bến xe an sương ...|  bến xe cần thơ mới|   3h30m|   Giường nằm 44 chỗ|   200.000đ|\n",
            "|     17|Thiện Thành Limou...|2025-07-03|TP.HCM - Can Tho|         23:35|       05:35|   văn phòng tân phú|  văn phòng rạch giá|      6h|  Limousine 24 phòng|   350.000đ|\n",
            "|     18|Thiện Thành Limou...|2025-07-03|TP.HCM - Can Tho|         23:33|       05:33|   văn phòng tân phú|  văn phòng rạch giá|      6h|  Limousine 24 phòng|   350.000đ|\n",
            "|     19|Thiện Thành Limou...|2025-07-03|TP.HCM - Can Tho|         23:34|       05:34|   văn phòng tân phú|  văn phòng rạch giá|      6h|  Limousine 24 phòng|   350.000đ|\n",
            "|     20|   Vũ Linh limousine|2025-07-03|TP.HCM - Can Tho|         14:00|       17:15|   văn phòng sài gòn| văn phòng công t...|   3h15m|Huyndai Solati 11...|Từ 200.000đ|\n",
            "+-------+--------------------+----------+----------------+--------------+------------+--------------------+--------------------+--------+--------------------+-----------+\n",
            "only showing top 20 rows\n",
            "\n"
          ]
        }
      ],
      "source": [
        "from pyspark.sql.functions import regexp_replace, lower\n",
        "\n",
        "def standardize_string(text):\n",
        "  if text is not None:\n",
        "    text = lower(text)\n",
        "    text = regexp_replace(text, \"[^a-zA-Z0-9\\sáàảãạăắằẳẵặâấầẩẫậéèẻẽẹêếềểễệíìỉĩịóòỏõọôốồổỗộơớờởỡợúùủũụưứừửữựýỳỷỹỵđ]\", \"\")\n",
        "    text = regexp_replace(text, r\"\\bvp\\b\", \"văn phòng\")\n",
        "    return text\n",
        "  else:\n",
        "    return text\n",
        "\n",
        "bus_ticket = bus_ticket.withColumn(\"Departure_Place\", standardize_string(bus_ticket[\"Departure_Place\"]))\n",
        "bus_ticket = bus_ticket.withColumn(\"Arrival_Place\", standardize_string(bus_ticket[\"Arrival_Place\"]))\n",
        "\n",
        "bus_ticket.show(20)"
      ]
    },
    {
      "cell_type": "markdown",
      "metadata": {},
      "source": [
        "#### Calculate and convert column Duration"
      ]
    },
    {
      "cell_type": "code",
      "execution_count": 22,
      "metadata": {
        "id": "iuzR06vUb7fN"
      },
      "outputs": [
        {
          "name": "stdout",
          "output_type": "stream",
          "text": [
            "+-------+--------------------+----------+----------------+--------------+------------+--------------------+--------------------+--------+--------------------+-----------+\n",
            "|Bus_Key|            Bus_Name|Start_Date|           Route|Departure_Time|Arrival_Time|     Departure_Place|       Arrival_Place|Duration|            Type_Bus|      Price|\n",
            "+-------+--------------------+----------+----------------+--------------+------------+--------------------+--------------------+--------+--------------------+-----------+\n",
            "|      1|   Vũ Linh limousine|2025-07-03|TP.HCM - Can Tho|         10:00|       13:15|   văn phòng sài gòn| văn phòng công t...|    3.25|Huyndai Solati 11...|Từ 200.000đ|\n",
            "|      2|   Vũ Linh limousine|2025-07-03|TP.HCM - Can Tho|         12:00|       15:15|   văn phòng sài gòn| văn phòng công t...|    3.25|Huyndai Solati 11...|Từ 200.000đ|\n",
            "|      3|   Vũ Linh limousine|2025-07-03|TP.HCM - Can Tho|         11:01|       14:16|   văn phòng sài gòn| văn phòng công t...|    3.25|Huyndai Solati 11...|Từ 200.000đ|\n",
            "|      4|            Văn Lang|2025-07-03|TP.HCM - Can Tho|         07:30|       11:00|  văn phòng bình tân|      metro hưng lợi|     3.5|   Giường nằm 41 chỗ|   170.000đ|\n",
            "|      5|           Toàn Khải|2025-07-03|TP.HCM - Can Tho|         18:20|       21:50|     bến xe an sương| bến xe trung tâm...|     3.5|  Limousine 34 phòng|   200.000đ|\n",
            "|      6|            Văn Lang|2025-07-03|TP.HCM - Can Tho|         09:00|       13:00|    văn phòng quận 5|      metro hưng lợi|     4.0|   Giường nằm 41 chỗ|   170.000đ|\n",
            "|      7|            Văn Lang|2025-07-03|TP.HCM - Can Tho|         14:00|       18:30|    văn phòng quận 5|  văn phòng thốt nốt|     4.5|   Giường nằm 41 chỗ|   170.000đ|\n",
            "|      8|            Văn Lang|2025-07-03|TP.HCM - Can Tho|         07:00|       11:00|    văn phòng quận 5|      metro hưng lợi|     4.0|   Giường nằm 41 chỗ|   170.000đ|\n",
            "|      9|            Trí Nhân|2025-07-03|TP.HCM - Can Tho|         08:30|       11:57|     bến xe miền tây| cổng bến xe trun...|    3.45|   Giường nằm 41 chỗ|   180.000đ|\n",
            "|     10|            Trí Nhân|2025-07-03|TP.HCM - Can Tho|         08:30|       11:57|   văn phòng sài gòn| cổng bến xe trun...|    3.45|   Giường nằm 41 chỗ|   180.000đ|\n",
            "|     11|            Trí Nhân|2025-07-03|TP.HCM - Can Tho|         20:30|       23:57|     bến xe miền tây| cổng bến xe trun...|    3.45|   Giường nằm 41 chỗ|   180.000đ|\n",
            "|     12|            Trí Nhân|2025-07-03|TP.HCM - Can Tho|         20:30|       23:57|   văn phòng sài gòn| cổng bến xe trun...|    3.45|   Giường nằm 41 chỗ|   180.000đ|\n",
            "|     13|           Tuấn Hiệp|2025-07-03|TP.HCM - Can Tho|         07:30|       11:00|     bến xe an sương|  bến xe cần thơ mới|     3.5|   Giường nằm 40 chỗ|   200.000đ|\n",
            "|     14|           Tuấn Hiệp|2025-07-03|TP.HCM - Can Tho|         07:20|       11:00|    bến xe ngã tư ga|  bến xe cần thơ mới|    3.67|   Giường nằm 40 chỗ|   200.000đ|\n",
            "|     15|           Tuấn Hiệp|2025-07-03|TP.HCM - Can Tho|         19:20|       23:00|    bến xe ngã tư ga|  bến xe cần thơ mới|    3.67|   Giường nằm 44 chỗ|   200.000đ|\n",
            "|     16|           Tuấn Hiệp|2025-07-03|TP.HCM - Can Tho|         19:30|       23:00| bến xe an sương ...|  bến xe cần thơ mới|     3.5|   Giường nằm 44 chỗ|   200.000đ|\n",
            "|     17|Thiện Thành Limou...|2025-07-03|TP.HCM - Can Tho|         23:35|       05:35|   văn phòng tân phú|  văn phòng rạch giá|     6.0|  Limousine 24 phòng|   350.000đ|\n",
            "|     18|Thiện Thành Limou...|2025-07-03|TP.HCM - Can Tho|         23:33|       05:33|   văn phòng tân phú|  văn phòng rạch giá|     6.0|  Limousine 24 phòng|   350.000đ|\n",
            "|     19|Thiện Thành Limou...|2025-07-03|TP.HCM - Can Tho|         23:34|       05:34|   văn phòng tân phú|  văn phòng rạch giá|     6.0|  Limousine 24 phòng|   350.000đ|\n",
            "|     20|   Vũ Linh limousine|2025-07-03|TP.HCM - Can Tho|         14:00|       17:15|   văn phòng sài gòn| văn phòng công t...|    3.25|Huyndai Solati 11...|Từ 200.000đ|\n",
            "+-------+--------------------+----------+----------------+--------------+------------+--------------------+--------------------+--------+--------------------+-----------+\n",
            "only showing top 20 rows\n",
            "\n"
          ]
        }
      ],
      "source": [
        "import re\n",
        "from pyspark.sql.functions import udf, round as F_round\n",
        "from pyspark.sql.types import FloatType\n",
        "\n",
        "def convert_duration(duration):\n",
        "    if duration is None:\n",
        "        return None\n",
        "    match = re.match(r\"(\\d+)h?(\\d*)m?\", duration)\n",
        "    if match:\n",
        "        hours = int(match.group(1)) if match.group(1) else 0\n",
        "        minutes = int(match.group(2)) if match.group(2) else 0\n",
        "        return hours + minutes / 60\n",
        "    return None\n",
        "\n",
        "convert_duration_udf = udf(convert_duration, FloatType())\n",
        "\n",
        "bus_ticket = bus_ticket.withColumn(\"Duration\", F_round(convert_duration_udf(bus_ticket[\"Duration\"]), 2))\n",
        "bus_ticket.show(20)"
      ]
    },
    {
      "cell_type": "markdown",
      "metadata": {},
      "source": [
        "#### Convert column Price"
      ]
    },
    {
      "cell_type": "code",
      "execution_count": 23,
      "metadata": {
        "id": "D_x9mBHWfRKM"
      },
      "outputs": [
        {
          "name": "stdout",
          "output_type": "stream",
          "text": [
            "+-------+--------------------+----------+----------------+--------------+------------+--------------------+--------------------+--------+--------------------+------+\n",
            "|Bus_Key|            Bus_Name|Start_Date|           Route|Departure_Time|Arrival_Time|     Departure_Place|       Arrival_Place|Duration|            Type_Bus| Price|\n",
            "+-------+--------------------+----------+----------------+--------------+------------+--------------------+--------------------+--------+--------------------+------+\n",
            "|      1|   Vũ Linh limousine|2025-07-03|TP.HCM - Can Tho|         10:00|       13:15|   văn phòng sài gòn| văn phòng công t...|    3.25|Huyndai Solati 11...|200000|\n",
            "|      2|   Vũ Linh limousine|2025-07-03|TP.HCM - Can Tho|         12:00|       15:15|   văn phòng sài gòn| văn phòng công t...|    3.25|Huyndai Solati 11...|200000|\n",
            "|      3|   Vũ Linh limousine|2025-07-03|TP.HCM - Can Tho|         11:01|       14:16|   văn phòng sài gòn| văn phòng công t...|    3.25|Huyndai Solati 11...|200000|\n",
            "|      4|            Văn Lang|2025-07-03|TP.HCM - Can Tho|         07:30|       11:00|  văn phòng bình tân|      metro hưng lợi|     3.5|   Giường nằm 41 chỗ|170000|\n",
            "|      5|           Toàn Khải|2025-07-03|TP.HCM - Can Tho|         18:20|       21:50|     bến xe an sương| bến xe trung tâm...|     3.5|  Limousine 34 phòng|200000|\n",
            "|      6|            Văn Lang|2025-07-03|TP.HCM - Can Tho|         09:00|       13:00|    văn phòng quận 5|      metro hưng lợi|     4.0|   Giường nằm 41 chỗ|170000|\n",
            "|      7|            Văn Lang|2025-07-03|TP.HCM - Can Tho|         14:00|       18:30|    văn phòng quận 5|  văn phòng thốt nốt|     4.5|   Giường nằm 41 chỗ|170000|\n",
            "|      8|            Văn Lang|2025-07-03|TP.HCM - Can Tho|         07:00|       11:00|    văn phòng quận 5|      metro hưng lợi|     4.0|   Giường nằm 41 chỗ|170000|\n",
            "|      9|            Trí Nhân|2025-07-03|TP.HCM - Can Tho|         08:30|       11:57|     bến xe miền tây| cổng bến xe trun...|    3.45|   Giường nằm 41 chỗ|180000|\n",
            "|     10|            Trí Nhân|2025-07-03|TP.HCM - Can Tho|         08:30|       11:57|   văn phòng sài gòn| cổng bến xe trun...|    3.45|   Giường nằm 41 chỗ|180000|\n",
            "|     11|            Trí Nhân|2025-07-03|TP.HCM - Can Tho|         20:30|       23:57|     bến xe miền tây| cổng bến xe trun...|    3.45|   Giường nằm 41 chỗ|180000|\n",
            "|     12|            Trí Nhân|2025-07-03|TP.HCM - Can Tho|         20:30|       23:57|   văn phòng sài gòn| cổng bến xe trun...|    3.45|   Giường nằm 41 chỗ|180000|\n",
            "|     13|           Tuấn Hiệp|2025-07-03|TP.HCM - Can Tho|         07:30|       11:00|     bến xe an sương|  bến xe cần thơ mới|     3.5|   Giường nằm 40 chỗ|200000|\n",
            "|     14|           Tuấn Hiệp|2025-07-03|TP.HCM - Can Tho|         07:20|       11:00|    bến xe ngã tư ga|  bến xe cần thơ mới|    3.67|   Giường nằm 40 chỗ|200000|\n",
            "|     15|           Tuấn Hiệp|2025-07-03|TP.HCM - Can Tho|         19:20|       23:00|    bến xe ngã tư ga|  bến xe cần thơ mới|    3.67|   Giường nằm 44 chỗ|200000|\n",
            "|     16|           Tuấn Hiệp|2025-07-03|TP.HCM - Can Tho|         19:30|       23:00| bến xe an sương ...|  bến xe cần thơ mới|     3.5|   Giường nằm 44 chỗ|200000|\n",
            "|     17|Thiện Thành Limou...|2025-07-03|TP.HCM - Can Tho|         23:35|       05:35|   văn phòng tân phú|  văn phòng rạch giá|     6.0|  Limousine 24 phòng|350000|\n",
            "|     18|Thiện Thành Limou...|2025-07-03|TP.HCM - Can Tho|         23:33|       05:33|   văn phòng tân phú|  văn phòng rạch giá|     6.0|  Limousine 24 phòng|350000|\n",
            "|     19|Thiện Thành Limou...|2025-07-03|TP.HCM - Can Tho|         23:34|       05:34|   văn phòng tân phú|  văn phòng rạch giá|     6.0|  Limousine 24 phòng|350000|\n",
            "|     20|   Vũ Linh limousine|2025-07-03|TP.HCM - Can Tho|         14:00|       17:15|   văn phòng sài gòn| văn phòng công t...|    3.25|Huyndai Solati 11...|200000|\n",
            "+-------+--------------------+----------+----------------+--------------+------------+--------------------+--------------------+--------+--------------------+------+\n",
            "only showing top 20 rows\n",
            "\n"
          ]
        }
      ],
      "source": [
        "import re\n",
        "from pyspark.sql.functions import udf, col\n",
        "from pyspark.sql.types import IntegerType\n",
        "\n",
        "def remove_price_chars(price_str):\n",
        "    if price_str is not None:\n",
        "        price_str = re.sub(r\"[^0-9]\", \"\", price_str)\n",
        "        return int(price_str) if price_str else None\n",
        "    return None\n",
        "\n",
        "remove_price_chars_udf = udf(remove_price_chars, IntegerType())\n",
        "\n",
        "bus_ticket = bus_ticket.withColumn(\"Price\", remove_price_chars_udf(col(\"Price\")))\n",
        "bus_ticket.show(20)"
      ]
    },
    {
      "cell_type": "markdown",
      "metadata": {},
      "source": [
        "#### Add column Bus_Type_Categories"
      ]
    },
    {
      "cell_type": "code",
      "execution_count": 24,
      "metadata": {},
      "outputs": [],
      "source": [
        "from pyspark.sql.functions import when, col, lower\n",
        "\n",
        "# Chuyển cột Type_Bus về chữ thường\n",
        "bus_ticket = bus_ticket.withColumn(\"Type_Bus\", lower(col(\"Type_Bus\")))\n",
        "\n",
        "# Phân loại dữ liệu từ cột Type_Bus\n",
        "bus_ticket = bus_ticket.withColumn(\n",
        "    \"Bus_Type_Category\",\n",
        "    when(col(\"Type_Bus\").like(\"%ghế ngồi%\"), \"ghế ngồi\")\n",
        "    .when(col(\"Type_Bus\").like(\"%giường nằm%\") & ~col(\"Type_Bus\").like(\"%limousine%\"), \"giường nằm\")\n",
        "    .when(col(\"Type_Bus\").like(\"%huyndai solati 11 chỗ%\"), \"limousine ghế ngồi\")\n",
        "    .when(col(\"Type_Bus\").like(\"%limousine%\") & col(\"Type_Bus\").like(\"%ghế ngồi%\"), \"limousine ghế ngồi\")\n",
        "    .when(col(\"Type_Bus\").like(\"%limousine%\") & col(\"Type_Bus\").like(\"%giường nằm có wc%\"), \"limousine giường nằm có WC\")\n",
        "    .when(col(\"Type_Bus\").like(\"%limousine%\") & col(\"Type_Bus\").like(\"%giường nằm%\") | col(\"Type_Bus\").like(\"%giường%\") , \"limousine giường nằm\")\n",
        "    .when(col(\"Type_Bus\").like(\"%limousine%\") & col(\"Type_Bus\").like(\"%giường phòng có wc%\"), \"limousine giường phòng có WC\")\n",
        "    .when(col(\"Type_Bus\").like(\"%limousine%\") & col(\"Type_Bus\").like(\"%giường phòng%\") | col(\"Type_Bus\").like(\"%phòng%\"), \"limousine giường phòng\")\n",
        "    .otherwise(\"khác\")  # Loại không xác định\n",
        ")"
      ]
    },
    {
      "cell_type": "code",
      "execution_count": 25,
      "metadata": {},
      "outputs": [
        {
          "name": "stdout",
          "output_type": "stream",
          "text": [
            "+-------+--------------------+----------+----------------+--------------+------------+--------------------+--------------------+--------+--------------------+------+--------------------+\n",
            "|Bus_Key|            Bus_Name|Start_Date|           Route|Departure_Time|Arrival_Time|     Departure_Place|       Arrival_Place|Duration|            Type_Bus| Price|   Bus_Type_Category|\n",
            "+-------+--------------------+----------+----------------+--------------+------------+--------------------+--------------------+--------+--------------------+------+--------------------+\n",
            "|      1|   Vũ Linh limousine|2025-07-03|TP.HCM - Can Tho|         10:00|       13:15|   văn phòng sài gòn| văn phòng công t...|    3.25|huyndai solati 11...|200000|  limousine ghế ngồi|\n",
            "|      2|   Vũ Linh limousine|2025-07-03|TP.HCM - Can Tho|         12:00|       15:15|   văn phòng sài gòn| văn phòng công t...|    3.25|huyndai solati 11...|200000|  limousine ghế ngồi|\n",
            "|      3|   Vũ Linh limousine|2025-07-03|TP.HCM - Can Tho|         11:01|       14:16|   văn phòng sài gòn| văn phòng công t...|    3.25|huyndai solati 11...|200000|  limousine ghế ngồi|\n",
            "|      4|            Văn Lang|2025-07-03|TP.HCM - Can Tho|         07:30|       11:00|  văn phòng bình tân|      metro hưng lợi|     3.5|   giường nằm 41 chỗ|170000|          giường nằm|\n",
            "|      5|           Toàn Khải|2025-07-03|TP.HCM - Can Tho|         18:20|       21:50|     bến xe an sương| bến xe trung tâm...|     3.5|  limousine 34 phòng|200000|limousine giường ...|\n",
            "|      6|            Văn Lang|2025-07-03|TP.HCM - Can Tho|         09:00|       13:00|    văn phòng quận 5|      metro hưng lợi|     4.0|   giường nằm 41 chỗ|170000|          giường nằm|\n",
            "|      7|            Văn Lang|2025-07-03|TP.HCM - Can Tho|         14:00|       18:30|    văn phòng quận 5|  văn phòng thốt nốt|     4.5|   giường nằm 41 chỗ|170000|          giường nằm|\n",
            "|      8|            Văn Lang|2025-07-03|TP.HCM - Can Tho|         07:00|       11:00|    văn phòng quận 5|      metro hưng lợi|     4.0|   giường nằm 41 chỗ|170000|          giường nằm|\n",
            "|      9|            Trí Nhân|2025-07-03|TP.HCM - Can Tho|         08:30|       11:57|     bến xe miền tây| cổng bến xe trun...|    3.45|   giường nằm 41 chỗ|180000|          giường nằm|\n",
            "|     10|            Trí Nhân|2025-07-03|TP.HCM - Can Tho|         08:30|       11:57|   văn phòng sài gòn| cổng bến xe trun...|    3.45|   giường nằm 41 chỗ|180000|          giường nằm|\n",
            "|     11|            Trí Nhân|2025-07-03|TP.HCM - Can Tho|         20:30|       23:57|     bến xe miền tây| cổng bến xe trun...|    3.45|   giường nằm 41 chỗ|180000|          giường nằm|\n",
            "|     12|            Trí Nhân|2025-07-03|TP.HCM - Can Tho|         20:30|       23:57|   văn phòng sài gòn| cổng bến xe trun...|    3.45|   giường nằm 41 chỗ|180000|          giường nằm|\n",
            "|     13|           Tuấn Hiệp|2025-07-03|TP.HCM - Can Tho|         07:30|       11:00|     bến xe an sương|  bến xe cần thơ mới|     3.5|   giường nằm 40 chỗ|200000|          giường nằm|\n",
            "|     14|           Tuấn Hiệp|2025-07-03|TP.HCM - Can Tho|         07:20|       11:00|    bến xe ngã tư ga|  bến xe cần thơ mới|    3.67|   giường nằm 40 chỗ|200000|          giường nằm|\n",
            "|     15|           Tuấn Hiệp|2025-07-03|TP.HCM - Can Tho|         19:20|       23:00|    bến xe ngã tư ga|  bến xe cần thơ mới|    3.67|   giường nằm 44 chỗ|200000|          giường nằm|\n",
            "|     16|           Tuấn Hiệp|2025-07-03|TP.HCM - Can Tho|         19:30|       23:00| bến xe an sương ...|  bến xe cần thơ mới|     3.5|   giường nằm 44 chỗ|200000|          giường nằm|\n",
            "|     17|Thiện Thành Limou...|2025-07-03|TP.HCM - Can Tho|         23:35|       05:35|   văn phòng tân phú|  văn phòng rạch giá|     6.0|  limousine 24 phòng|350000|limousine giường ...|\n",
            "|     18|Thiện Thành Limou...|2025-07-03|TP.HCM - Can Tho|         23:33|       05:33|   văn phòng tân phú|  văn phòng rạch giá|     6.0|  limousine 24 phòng|350000|limousine giường ...|\n",
            "|     19|Thiện Thành Limou...|2025-07-03|TP.HCM - Can Tho|         23:34|       05:34|   văn phòng tân phú|  văn phòng rạch giá|     6.0|  limousine 24 phòng|350000|limousine giường ...|\n",
            "|     20|   Vũ Linh limousine|2025-07-03|TP.HCM - Can Tho|         14:00|       17:15|   văn phòng sài gòn| văn phòng công t...|    3.25|huyndai solati 11...|200000|  limousine ghế ngồi|\n",
            "+-------+--------------------+----------+----------------+--------------+------------+--------------------+--------------------+--------+--------------------+------+--------------------+\n",
            "only showing top 20 rows\n",
            "\n"
          ]
        }
      ],
      "source": [
        "bus_ticket.show(20)"
      ]
    },
    {
      "cell_type": "markdown",
      "metadata": {},
      "source": [
        "#### Read bus id company file csv"
      ]
    },
    {
      "cell_type": "code",
      "execution_count": 26,
      "metadata": {},
      "outputs": [
        {
          "name": "stdout",
          "output_type": "stream",
          "text": [
            "+--------------------+--------------------+----------+\n",
            "|              Bus_Id|            Bus_Name|Company_ID|\n",
            "+--------------------+--------------------+----------+\n",
            "|vu-linh-limousine...|   Vũ Linh limousine|       768|\n",
            "|       ba-chau_13078|             Ba Châu|     13078|\n",
            "|      van-lang_11826|            Văn Lang|     11826|\n",
            "|      tri-nhan_12911|            Trí Nhân|     12911|\n",
            "|     tuan-hiep_11899|           Tuấn Hiệp|     11899|\n",
            "|thien-thanh-limou...|Thiện Thành Limou...|     21843|\n",
            "|           hao_12797|                 Hảo|     12797|\n",
            "|tri-nhan-limousin...|  Trí Nhân Limousine|     12911|\n",
            "|         ha-my_12507|               Hà My|     12507|\n",
            "|     toan-khai_46289|           Toàn Khải|     46289|\n",
            "|     giap-diep_12772|           Giáp Diệp|     12772|\n",
            "|       tu-tien_13184|             Tư Tiến|     13184|\n",
            "|     manh-hung_11188|           Mạnh Hùng|     11188|\n",
            "|     ngoc-diem_40437|           Ngọc Diễm|     40437|\n",
            "|      tan-nien_12462|            Tân Niên|     12462|\n",
            "|duy-thao-kien-gia...|Duy Thảo (Kiên Gi...|     44740|\n",
            "|       dung-le_12944|             Dũng Lệ|     12944|\n",
            "|      hai-luan_36137|            Hải Luân|     36137|\n",
            "|       lien-hung_808|           Liên Hưng|       808|\n",
            "|hung-cuong-an-gia...|Hùng Cường - An G...|       529|\n",
            "+--------------------+--------------------+----------+\n",
            "only showing top 20 rows\n",
            "\n"
          ]
        }
      ],
      "source": [
        "bus_ids_company = spark.read.csv(\"../raw/bus_ids.csv\", header=True)\n",
        "\n",
        "bus_ids_company.show(20)"
      ]
    },
    {
      "cell_type": "markdown",
      "metadata": {},
      "source": [
        "#### Join 2 tables and pick column Bus_Id"
      ]
    },
    {
      "cell_type": "code",
      "execution_count": 27,
      "metadata": {},
      "outputs": [],
      "source": [
        "from pyspark.sql.functions import col\n",
        "\n",
        "def add_bus_id(bus_ticket, bus_ids_company, join_column=\"Bus_Name\"):\n",
        "    bus_ticket_with_id = bus_ticket.join(\n",
        "        bus_ids_company.select(col(join_column), col(\"Bus_Id\")),\n",
        "        on=join_column,\n",
        "        how=\"left\"\n",
        "    )\n",
        "    \n",
        "    # Sắp xếp lại thứ tự cột\n",
        "    columns_order = [\"Bus_Key\", \"Bus_Id\" , \"Bus_Name\"] + [col for col in bus_ticket_with_id.columns if col not in [\"Bus_Key\", \"Bus_Id\", \"Bus_Name\"]]\n",
        "    bus_ticket_with_id = bus_ticket_with_id.select(*columns_order)\n",
        "    \n",
        "    return bus_ticket_with_id\n",
        "\n",
        "# Gọi hàm để thêm cột bus_id và sắp xếp lại thứ tự cột\n",
        "bus_ticket = add_bus_id(bus_ticket, bus_ids_company)"
      ]
    },
    {
      "cell_type": "markdown",
      "metadata": {},
      "source": [
        "#### The last table and convert to delta table"
      ]
    },
    {
      "cell_type": "code",
      "execution_count": 28,
      "metadata": {},
      "outputs": [
        {
          "name": "stdout",
          "output_type": "stream",
          "text": [
            "+-------+--------------------+--------------------+----------+----------------+--------------+------------+--------------------+--------------------+--------+--------------------+------+--------------------+\n",
            "|Bus_Key|              Bus_Id|            Bus_Name|Start_Date|           Route|Departure_Time|Arrival_Time|     Departure_Place|       Arrival_Place|Duration|            Type_Bus| Price|   Bus_Type_Category|\n",
            "+-------+--------------------+--------------------+----------+----------------+--------------+------------+--------------------+--------------------+--------+--------------------+------+--------------------+\n",
            "|      1|vu-linh-limousine...|   Vũ Linh limousine|2025-07-03|TP.HCM - Can Tho|         10:00|       13:15|   văn phòng sài gòn| văn phòng công t...|    3.25|huyndai solati 11...|200000|  limousine ghế ngồi|\n",
            "|      2|vu-linh-limousine...|   Vũ Linh limousine|2025-07-03|TP.HCM - Can Tho|         12:00|       15:15|   văn phòng sài gòn| văn phòng công t...|    3.25|huyndai solati 11...|200000|  limousine ghế ngồi|\n",
            "|      3|vu-linh-limousine...|   Vũ Linh limousine|2025-07-03|TP.HCM - Can Tho|         11:01|       14:16|   văn phòng sài gòn| văn phòng công t...|    3.25|huyndai solati 11...|200000|  limousine ghế ngồi|\n",
            "|      4|      van-lang_11826|            Văn Lang|2025-07-03|TP.HCM - Can Tho|         07:30|       11:00|  văn phòng bình tân|      metro hưng lợi|     3.5|   giường nằm 41 chỗ|170000|          giường nằm|\n",
            "|      5|     toan-khai_46289|           Toàn Khải|2025-07-03|TP.HCM - Can Tho|         18:20|       21:50|     bến xe an sương| bến xe trung tâm...|     3.5|  limousine 34 phòng|200000|limousine giường ...|\n",
            "|      6|      van-lang_11826|            Văn Lang|2025-07-03|TP.HCM - Can Tho|         09:00|       13:00|    văn phòng quận 5|      metro hưng lợi|     4.0|   giường nằm 41 chỗ|170000|          giường nằm|\n",
            "|      7|      van-lang_11826|            Văn Lang|2025-07-03|TP.HCM - Can Tho|         14:00|       18:30|    văn phòng quận 5|  văn phòng thốt nốt|     4.5|   giường nằm 41 chỗ|170000|          giường nằm|\n",
            "|      8|      van-lang_11826|            Văn Lang|2025-07-03|TP.HCM - Can Tho|         07:00|       11:00|    văn phòng quận 5|      metro hưng lợi|     4.0|   giường nằm 41 chỗ|170000|          giường nằm|\n",
            "|      9|      tri-nhan_12911|            Trí Nhân|2025-07-03|TP.HCM - Can Tho|         08:30|       11:57|     bến xe miền tây| cổng bến xe trun...|    3.45|   giường nằm 41 chỗ|180000|          giường nằm|\n",
            "|     10|      tri-nhan_12911|            Trí Nhân|2025-07-03|TP.HCM - Can Tho|         08:30|       11:57|   văn phòng sài gòn| cổng bến xe trun...|    3.45|   giường nằm 41 chỗ|180000|          giường nằm|\n",
            "|     11|      tri-nhan_12911|            Trí Nhân|2025-07-03|TP.HCM - Can Tho|         20:30|       23:57|     bến xe miền tây| cổng bến xe trun...|    3.45|   giường nằm 41 chỗ|180000|          giường nằm|\n",
            "|     12|      tri-nhan_12911|            Trí Nhân|2025-07-03|TP.HCM - Can Tho|         20:30|       23:57|   văn phòng sài gòn| cổng bến xe trun...|    3.45|   giường nằm 41 chỗ|180000|          giường nằm|\n",
            "|     13|     tuan-hiep_11899|           Tuấn Hiệp|2025-07-03|TP.HCM - Can Tho|         07:30|       11:00|     bến xe an sương|  bến xe cần thơ mới|     3.5|   giường nằm 40 chỗ|200000|          giường nằm|\n",
            "|     14|     tuan-hiep_11899|           Tuấn Hiệp|2025-07-03|TP.HCM - Can Tho|         07:20|       11:00|    bến xe ngã tư ga|  bến xe cần thơ mới|    3.67|   giường nằm 40 chỗ|200000|          giường nằm|\n",
            "|     15|     tuan-hiep_11899|           Tuấn Hiệp|2025-07-03|TP.HCM - Can Tho|         19:20|       23:00|    bến xe ngã tư ga|  bến xe cần thơ mới|    3.67|   giường nằm 44 chỗ|200000|          giường nằm|\n",
            "|     16|     tuan-hiep_11899|           Tuấn Hiệp|2025-07-03|TP.HCM - Can Tho|         19:30|       23:00| bến xe an sương ...|  bến xe cần thơ mới|     3.5|   giường nằm 44 chỗ|200000|          giường nằm|\n",
            "|     17|thien-thanh-limou...|Thiện Thành Limou...|2025-07-03|TP.HCM - Can Tho|         23:35|       05:35|   văn phòng tân phú|  văn phòng rạch giá|     6.0|  limousine 24 phòng|350000|limousine giường ...|\n",
            "|     18|thien-thanh-limou...|Thiện Thành Limou...|2025-07-03|TP.HCM - Can Tho|         23:33|       05:33|   văn phòng tân phú|  văn phòng rạch giá|     6.0|  limousine 24 phòng|350000|limousine giường ...|\n",
            "|     19|thien-thanh-limou...|Thiện Thành Limou...|2025-07-03|TP.HCM - Can Tho|         23:34|       05:34|   văn phòng tân phú|  văn phòng rạch giá|     6.0|  limousine 24 phòng|350000|limousine giường ...|\n",
            "|     20|vu-linh-limousine...|   Vũ Linh limousine|2025-07-03|TP.HCM - Can Tho|         14:00|       17:15|   văn phòng sài gòn| văn phòng công t...|    3.25|huyndai solati 11...|200000|  limousine ghế ngồi|\n",
            "|     21|vu-linh-limousine...|   Vũ Linh limousine|2025-07-03|TP.HCM - Can Tho|         13:00|       16:15|   văn phòng sài gòn| văn phòng công t...|    3.25|huyndai solati 11...|200000|  limousine ghế ngồi|\n",
            "|     22|      van-lang_11826|            Văn Lang|2025-07-03|TP.HCM - Can Tho|         17:00|       20:40|  văn phòng bình tân|     văn phòng ô môn|    3.67|   giường nằm 41 chỗ|170000|          giường nằm|\n",
            "|     23|      van-lang_11826|            Văn Lang|2025-07-03|TP.HCM - Can Tho|         16:30|       21:00|    văn phòng quận 5|  văn phòng thốt nốt|     4.5|   giường nằm 41 chỗ|170000|          giường nằm|\n",
            "|     24|thien-thanh-limou...|Thiện Thành Limou...|2025-07-03|TP.HCM - Can Tho|         23:30|       05:30|   văn phòng tân phú|  văn phòng rạch giá|     6.0|  limousine 24 phòng|350000|limousine giường ...|\n",
            "|     25|thien-thanh-limou...|Thiện Thành Limou...|2025-07-03|TP.HCM - Can Tho|         23:32|       05:32|   văn phòng tân phú|  văn phòng rạch giá|     6.0|  limousine 24 phòng|350000|limousine giường ...|\n",
            "|     26|       tu-tien_13184|             Tư Tiến|2025-07-03|TP.HCM - Can Tho|         10:00|       15:00| khu du lịch suối...| chợ sao mai tân ...|     5.0|limousine 24 phòn...|190000|limousine giường ...|\n",
            "|     27|           hao_12797|                 Hảo|2025-07-03|TP.HCM - Can Tho|         19:30|       23:02|        trạm sài gòn| cần thơ dọc quốc...|    3.53|   giường nằm 40 chỗ|190000|          giường nằm|\n",
            "|     28|           hao_12797|                 Hảo|2025-07-03|TP.HCM - Can Tho|         07:00|       10:10|     bến xe miền tây| cần thơ dọc quốc...|    3.17|   giường nằm 40 chỗ|280000|          giường nằm|\n",
            "|     29|tri-nhan-limousin...|  Trí Nhân Limousine|2025-07-03|TP.HCM - Can Tho|         11:00|       14:27|     bến xe miền tây|            cái răng|    3.45|limousine giường ...|280000|limousine giường nằm|\n",
            "|     30|tri-nhan-limousin...|  Trí Nhân Limousine|2025-07-03|TP.HCM - Can Tho|         11:00|       14:27|   văn phòng sài gòn|            cái răng|    3.45|limousine giường ...|200000|limousine giường nằm|\n",
            "+-------+--------------------+--------------------+----------+----------------+--------------+------------+--------------------+--------------------+--------+--------------------+------+--------------------+\n",
            "only showing top 30 rows\n",
            "\n"
          ]
        }
      ],
      "source": [
        "bus_ticket.show(30)"
      ]
    }
  ],
  "metadata": {
    "colab": {
      "provenance": []
    },
    "kernelspec": {
      "display_name": "Python 3",
      "name": "python3"
    },
    "language_info": {
      "codemirror_mode": {
        "name": "ipython",
        "version": 3
      },
      "file_extension": ".py",
      "mimetype": "text/x-python",
      "name": "python",
      "nbconvert_exporter": "python",
      "pygments_lexer": "ipython3",
      "version": "3.11.6"
    }
  },
  "nbformat": 4,
  "nbformat_minor": 0
}
