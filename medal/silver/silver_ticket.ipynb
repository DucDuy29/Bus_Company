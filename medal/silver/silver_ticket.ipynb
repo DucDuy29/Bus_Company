{
  "cells": [
    {
      "cell_type": "code",
      "execution_count": 1,
      "metadata": {
        "id": "ARR-IyQhJ_8b"
      },
      "outputs": [],
      "source": [
        "from pyspark.sql import SparkSession\n",
        "import numpy as np\n",
        "import pandas as pd\n",
        "import os"
      ]
    },
    {
      "cell_type": "code",
      "execution_count": 2,
      "metadata": {
        "id": "bklgf6kGKSMo"
      },
      "outputs": [],
      "source": [
        "spark = SparkSession.builder \\\n",
        "        .appName(\"Silver\") \\\n",
        "        .master(\"local[*]\") \\\n",
        "        .getOrCreate()"
      ]
    },
    {
      "cell_type": "code",
      "execution_count": 3,
      "metadata": {
        "colab": {
          "base_uri": "https://localhost:8080/",
          "height": 219
        },
        "id": "mKL_wwMBgXZF",
        "outputId": "fdb795db-2e52-4cc3-e84f-f139421943c3"
      },
      "outputs": [
        {
          "data": {
            "text/html": [
              "\n",
              "            <div>\n",
              "                <p><b>SparkSession - in-memory</b></p>\n",
              "                \n",
              "        <div>\n",
              "            <p><b>SparkContext</b></p>\n",
              "\n",
              "            <p><a href=\"http://6531531c8009:4040\">Spark UI</a></p>\n",
              "\n",
              "            <dl>\n",
              "              <dt>Version</dt>\n",
              "                <dd><code>v3.5.5</code></dd>\n",
              "              <dt>Master</dt>\n",
              "                <dd><code>local[*]</code></dd>\n",
              "              <dt>AppName</dt>\n",
              "                <dd><code>Silver</code></dd>\n",
              "            </dl>\n",
              "        </div>\n",
              "        \n",
              "            </div>\n",
              "        "
            ],
            "text/plain": [
              "<pyspark.sql.session.SparkSession at 0x7b6392b4dc10>"
            ]
          },
          "execution_count": 3,
          "metadata": {},
          "output_type": "execute_result"
        }
      ],
      "source": [
        "spark"
      ]
    },
    {
      "cell_type": "code",
      "execution_count": 4,
      "metadata": {
        "colab": {
          "base_uri": "https://localhost:8080/"
        },
        "id": "NfxL7FNfLP5Q",
        "outputId": "33f5cddd-102b-4544-fb2a-dc07349c00a4"
      },
      "outputs": [
        {
          "name": "stdout",
          "output_type": "stream",
          "text": [
            "+-------+--------------------+----------+----------------+--------------+------------+--------------------+--------------------+--------+--------------------+-----------+\n",
            "|Bus_Key|            Bus_Name|Start_Date|           Route|Departure_Time|Arrival_Time|     Departure_Place|       Arrival_Place|Duration|            Type_Bus|      Price|\n",
            "+-------+--------------------+----------+----------------+--------------+------------+--------------------+--------------------+--------+--------------------+-----------+\n",
            "|      1|   Vũ Linh limousine|07-03-2025|TP.HCM - Can Tho|         10:00|       13:15| • Văn Phòng Sài Gòn|• Văn Phòng Công ...|   3h15m|Huyndai Solati 11...|Từ 200.000đ|\n",
            "|      2|   Vũ Linh limousine|07-03-2025|TP.HCM - Can Tho|         12:00|       15:15| • Văn Phòng Sài Gòn|• Văn Phòng Công ...|   3h15m|Huyndai Solati 11...|Từ 200.000đ|\n",
            "|      3|   Vũ Linh limousine|07-03-2025|TP.HCM - Can Tho|         11:01|       14:16| • Văn Phòng Sài Gòn|• Văn Phòng Công ...|   3h15m|Huyndai Solati 11...|Từ 200.000đ|\n",
            "|      4|            Văn Lang|07-03-2025|TP.HCM - Can Tho|         07:30|       11:00|• Văn Phòng Bình Tân|    • Metro Hưng Lợi|   3h30m|   Giường nằm 41 chỗ|   170.000đ|\n",
            "|      5|           Toàn Khải|07-03-2025|TP.HCM - Can Tho|         18:20|       21:50|   • Bến Xe An Sương|• Bến xe trung tâ...|   3h30m|  Limousine 34 phòng|   200.000đ|\n",
            "|      6|            Văn Lang|07-03-2025|TP.HCM - Can Tho|         09:00|       13:00|  • Văn phòng Quận 5|    • Metro Hưng Lợi|      4h|   Giường nằm 41 chỗ|   170.000đ|\n",
            "|      7|            Văn Lang|07-03-2025|TP.HCM - Can Tho|         14:00|       18:30|  • Văn phòng Quận 5|• Văn phòng Thốt Nốt|   4h30m|   Giường nằm 41 chỗ|   170.000đ|\n",
            "|      8|            Văn Lang|07-03-2025|TP.HCM - Can Tho|         07:00|       11:00|  • Văn phòng Quận 5|    • Metro Hưng Lợi|      4h|   Giường nằm 41 chỗ|   170.000đ|\n",
            "|      9|            Trí Nhân|07-03-2025|TP.HCM - Can Tho|         08:30|       11:57|   • Bến xe Miền Tây|• Cổng Bến xe tru...|   3h27m|   Giường nằm 41 chỗ|   180.000đ|\n",
            "|     10|            Trí Nhân|07-03-2025|TP.HCM - Can Tho|         08:30|       11:57| • Văn Phòng Sài Gòn|• Cổng Bến xe tru...|   3h27m|   Giường nằm 41 chỗ|   180.000đ|\n",
            "|     11|            Trí Nhân|07-03-2025|TP.HCM - Can Tho|         20:30|       23:57|   • Bến xe Miền Tây|• Cổng Bến xe tru...|   3h27m|   Giường nằm 41 chỗ|   180.000đ|\n",
            "|     12|            Trí Nhân|07-03-2025|TP.HCM - Can Tho|         20:30|       23:57| • Văn Phòng Sài Gòn|• Cổng Bến xe tru...|   3h27m|   Giường nằm 41 chỗ|   180.000đ|\n",
            "|     13|           Tuấn Hiệp|07-03-2025|TP.HCM - Can Tho|         07:30|       11:00|   • Bến Xe An Sương|• Bến xe Cần Thơ mới|   3h30m|   Giường nằm 40 chỗ|   200.000đ|\n",
            "|     14|           Tuấn Hiệp|07-03-2025|TP.HCM - Can Tho|         07:20|       11:00|  • Bến xe Ngã Tư Ga|• Bến xe Cần Thơ mới|   3h40m|   Giường nằm 40 chỗ|   200.000đ|\n",
            "|     15|           Tuấn Hiệp|07-03-2025|TP.HCM - Can Tho|         19:20|       23:00|  • Bến xe Ngã Tư Ga|• Bến xe Cần Thơ mới|   3h40m|   Giường nằm 44 chỗ|   200.000đ|\n",
            "|     16|           Tuấn Hiệp|07-03-2025|TP.HCM - Can Tho|         19:30|       23:00|• Bến xe An Sương...|• Bến xe Cần Thơ mới|   3h30m|   Giường nằm 44 chỗ|   200.000đ|\n",
            "|     17|Thiện Thành Limou...|07-03-2025|TP.HCM - Can Tho|         23:35|       05:35|        • VP Tân Phú|       • VP Rạch Giá|      6h|  Limousine 24 phòng|   350.000đ|\n",
            "|     18|Thiện Thành Limou...|07-03-2025|TP.HCM - Can Tho|         23:33|       05:33|        • VP Tân Phú|       • VP Rạch Giá|      6h|  Limousine 24 phòng|   350.000đ|\n",
            "|     19|Thiện Thành Limou...|07-03-2025|TP.HCM - Can Tho|         23:34|       05:34|        • VP Tân Phú|       • VP Rạch Giá|      6h|  Limousine 24 phòng|   350.000đ|\n",
            "|     20|   Vũ Linh limousine|07-03-2025|TP.HCM - Can Tho|         14:00|       17:15| • Văn Phòng Sài Gòn|• Văn Phòng Công ...|   3h15m|Huyndai Solati 11...|Từ 200.000đ|\n",
            "+-------+--------------------+----------+----------------+--------------+------------+--------------------+--------------------+--------+--------------------+-----------+\n",
            "only showing top 20 rows\n",
            "\n"
          ]
        }
      ],
      "source": [
        "bus_ticket = spark.read.csv(\"/content/bus_data_07-03-2025.csv\", header=True)\n",
        "\n",
        "bus_ticket.show(20)"
      ]
    },
    {
      "cell_type": "code",
      "execution_count": 5,
      "metadata": {
        "colab": {
          "base_uri": "https://localhost:8080/"
        },
        "id": "fP6cRrqrbsOi",
        "outputId": "15f65c05-f5d3-4c29-b3a3-844bf474944d"
      },
      "outputs": [
        {
          "name": "stdout",
          "output_type": "stream",
          "text": [
            "root\n",
            " |-- Bus_Key: string (nullable = true)\n",
            " |-- Bus_Name: string (nullable = true)\n",
            " |-- Start_Date: string (nullable = true)\n",
            " |-- Route: string (nullable = true)\n",
            " |-- Departure_Time: string (nullable = true)\n",
            " |-- Arrival_Time: string (nullable = true)\n",
            " |-- Departure_Place: string (nullable = true)\n",
            " |-- Arrival_Place: string (nullable = true)\n",
            " |-- Duration: string (nullable = true)\n",
            " |-- Type_Bus: string (nullable = true)\n",
            " |-- Price: string (nullable = true)\n",
            "\n"
          ]
        }
      ],
      "source": [
        "bus_ticket.printSchema()"
      ]
    },
    {
      "cell_type": "code",
      "execution_count": 6,
      "metadata": {
        "colab": {
          "base_uri": "https://localhost:8080/"
        },
        "id": "cQy_vybRng0w",
        "outputId": "7a6168c0-ef45-4e21-9f5b-9e8a4ef5a5a7"
      },
      "outputs": [
        {
          "name": "stdout",
          "output_type": "stream",
          "text": [
            "+-------+--------------------+----------+-------------------+--------------+------------+--------------------+--------------------+--------+--------------------+-----------+\n",
            "|Bus_Key|            Bus_Name|Start_Date|              Route|Departure_Time|Arrival_Time|     Departure_Place|       Arrival_Place|Duration|            Type_Bus|      Price|\n",
            "+-------+--------------------+----------+-------------------+--------------+------------+--------------------+--------------------+--------+--------------------+-----------+\n",
            "|      1|   Vũ Linh limousine|07-03-2025|   TP.HCM - Can Tho|         10:00|       13:15| • Văn Phòng Sài Gòn|• Văn Phòng Công ...|   3h15m|Huyndai Solati 11...|Từ 200.000đ|\n",
            "|      2|   Vũ Linh limousine|07-03-2025|   TP.HCM - Can Tho|         12:00|       15:15| • Văn Phòng Sài Gòn|• Văn Phòng Công ...|   3h15m|Huyndai Solati 11...|Từ 200.000đ|\n",
            "|      3|   Vũ Linh limousine|07-03-2025|   TP.HCM - Can Tho|         11:01|       14:16| • Văn Phòng Sài Gòn|• Văn Phòng Công ...|   3h15m|Huyndai Solati 11...|Từ 200.000đ|\n",
            "|      4|            Văn Lang|07-03-2025|   TP.HCM - Can Tho|         07:30|       11:00|• Văn Phòng Bình Tân|    • Metro Hưng Lợi|   3h30m|   Giường nằm 41 chỗ|   170.000đ|\n",
            "|      5|           Toàn Khải|07-03-2025|   TP.HCM - Can Tho|         18:20|       21:50|   • Bến Xe An Sương|• Bến xe trung tâ...|   3h30m|  Limousine 34 phòng|   200.000đ|\n",
            "|      6|            Văn Lang|07-03-2025|   TP.HCM - Can Tho|         09:00|       13:00|  • Văn phòng Quận 5|    • Metro Hưng Lợi|      4h|   Giường nằm 41 chỗ|   170.000đ|\n",
            "|      7|            Văn Lang|07-03-2025|   TP.HCM - Can Tho|         14:00|       18:30|  • Văn phòng Quận 5|• Văn phòng Thốt Nốt|   4h30m|   Giường nằm 41 chỗ|   170.000đ|\n",
            "|      8|            Văn Lang|07-03-2025|   TP.HCM - Can Tho|         07:00|       11:00|  • Văn phòng Quận 5|    • Metro Hưng Lợi|      4h|   Giường nằm 41 chỗ|   170.000đ|\n",
            "|      9|            Trí Nhân|07-03-2025|   TP.HCM - Can Tho|         08:30|       11:57|   • Bến xe Miền Tây|• Cổng Bến xe tru...|   3h27m|   Giường nằm 41 chỗ|   180.000đ|\n",
            "|     10|            Trí Nhân|07-03-2025|   TP.HCM - Can Tho|         08:30|       11:57| • Văn Phòng Sài Gòn|• Cổng Bến xe tru...|   3h27m|   Giường nằm 41 chỗ|   180.000đ|\n",
            "|     11|            Trí Nhân|07-03-2025|   TP.HCM - Can Tho|         20:30|       23:57|   • Bến xe Miền Tây|• Cổng Bến xe tru...|   3h27m|   Giường nằm 41 chỗ|   180.000đ|\n",
            "|     12|            Trí Nhân|07-03-2025|   TP.HCM - Can Tho|         20:30|       23:57| • Văn Phòng Sài Gòn|• Cổng Bến xe tru...|   3h27m|   Giường nằm 41 chỗ|   180.000đ|\n",
            "|     13|           Tuấn Hiệp|07-03-2025|   TP.HCM - Can Tho|         07:30|       11:00|   • Bến Xe An Sương|• Bến xe Cần Thơ mới|   3h30m|   Giường nằm 40 chỗ|   200.000đ|\n",
            "|     14|           Tuấn Hiệp|07-03-2025|   TP.HCM - Can Tho|         07:20|       11:00|  • Bến xe Ngã Tư Ga|• Bến xe Cần Thơ mới|   3h40m|   Giường nằm 40 chỗ|   200.000đ|\n",
            "|     15|           Tuấn Hiệp|07-03-2025|   TP.HCM - Can Tho|         19:20|       23:00|  • Bến xe Ngã Tư Ga|• Bến xe Cần Thơ mới|   3h40m|   Giường nằm 44 chỗ|   200.000đ|\n",
            "|     16|           Tuấn Hiệp|07-03-2025|   TP.HCM - Can Tho|         19:30|       23:00|• Bến xe An Sương...|• Bến xe Cần Thơ mới|   3h30m|   Giường nằm 44 chỗ|   200.000đ|\n",
            "|     17|Thiện Thành Limou...|07-03-2025|   TP.HCM - Can Tho|         23:35|       05:35|        • VP Tân Phú|       • VP Rạch Giá|      6h|  Limousine 24 phòng|   350.000đ|\n",
            "|     18|Thiện Thành Limou...|07-03-2025|   TP.HCM - Can Tho|         23:33|       05:33|        • VP Tân Phú|       • VP Rạch Giá|      6h|  Limousine 24 phòng|   350.000đ|\n",
            "|     19|Thiện Thành Limou...|07-03-2025|   TP.HCM - Can Tho|         23:34|       05:34|        • VP Tân Phú|       • VP Rạch Giá|      6h|  Limousine 24 phòng|   350.000đ|\n",
            "|     20|   Vũ Linh limousine|07-03-2025|   TP.HCM - Can Tho|         14:00|       17:15| • Văn Phòng Sài Gòn|• Văn Phòng Công ...|   3h15m|Huyndai Solati 11...|Từ 200.000đ|\n",
            "|     21|   Vũ Linh limousine|07-03-2025|   TP.HCM - Can Tho|         13:00|       16:15| • Văn Phòng Sài Gòn|• Văn Phòng Công ...|   3h15m|Huyndai Solati 11...|Từ 200.000đ|\n",
            "|     22|            Văn Lang|07-03-2025|   TP.HCM - Can Tho|         17:00|       20:40|• Văn Phòng Bình Tân|   • Văn Phòng Ô Môn|   3h40m|   Giường nằm 41 chỗ|   170.000đ|\n",
            "|     23|            Văn Lang|07-03-2025|   TP.HCM - Can Tho|         16:30|       21:00|  • Văn phòng Quận 5|• Văn phòng Thốt Nốt|   4h30m|   Giường nằm 41 chỗ|   170.000đ|\n",
            "|     24|Thiện Thành Limou...|07-03-2025|   TP.HCM - Can Tho|         23:30|       05:30|        • VP Tân Phú|       • VP Rạch Giá|      6h|  Limousine 24 phòng|   350.000đ|\n",
            "|     25|Thiện Thành Limou...|07-03-2025|   TP.HCM - Can Tho|         23:32|       05:32|        • VP Tân Phú|       • VP Rạch Giá|      6h|  Limousine 24 phòng|   350.000đ|\n",
            "|     26|             Tư Tiến|07-03-2025|   TP.HCM - Can Tho|         10:00|       15:00|• Khu du lịch Suố...|• Chợ Sao Mai Tân...|      5h|Limousine 24 Phòn...|   190.000đ|\n",
            "|     27|                 Hảo|07-03-2025|   TP.HCM - Can Tho|         19:30|       23:02|      • Trạm Sài Gòn|• Cần Thơ (Dọc Qu...|   3h32m|   Giường nằm 40 chỗ|   190.000đ|\n",
            "|     28|                 Hảo|07-03-2025|   TP.HCM - Can Tho|         07:00|       10:10|   • Bến xe Miền Tây|• Cần Thơ (Dọc Qu...|   3h10m|   Giường nằm 40 chỗ|   280.000đ|\n",
            "|     29|  Trí Nhân Limousine|07-03-2025|   TP.HCM - Can Tho|         11:00|       14:27|   • Bến xe Miền Tây|          • Cái Răng|   3h27m|Limousine Giường ...|   280.000đ|\n",
            "|     30|  Trí Nhân Limousine|07-03-2025|   TP.HCM - Can Tho|         11:00|       14:27| • Văn Phòng Sài Gòn|          • Cái Răng|   3h27m|Limousine Giường ...|   200.000đ|\n",
            "|     31|           Tuấn Hiệp|07-03-2025|   TP.HCM - Can Tho|         07:00|       11:40|         • Suối Tiên|• Cần Thơ (Dọc Qu...|   4h40m|   Giường nằm 40 chỗ|   200.000đ|\n",
            "|     32|           Tuấn Hiệp|07-03-2025|   TP.HCM - Can Tho|         18:40|       22:40|         • Suối Tiên|• Cần Thơ (Dọc Qu...|      4h|   Giường nằm 40 chỗ|   210.000đ|\n",
            "|     33|           Giáp Diệp|07-03-2025|   TP.HCM - Can Tho|         18:00|       22:35|    • Ngã 4 An Sương|• Cần Thơ (Dọc Qu...|   4h35m|   Giường nằm 40 chỗ|   250.000đ|\n",
            "|     34|             Tư Tiến|07-03-2025|   TP.HCM - Can Tho|         06:00|       10:00| • Cầu Vượt An Sương|        • Vĩnh Thạnh|      4h|   Giường Nằm 44 chỗ|   200.000đ|\n",
            "|     35|               Hà My|07-03-2025|   TP.HCM - Can Tho|         20:00|       00:00|        • VP Sài Gòn|           • Cần Thơ|      4h|   Giường nằm 44 chỗ|   200.000đ|\n",
            "|     36|           Toàn Khải|07-03-2025|   TP.HCM - Can Tho|         18:00|       21:50|• Trạm Xăng Dầu Z...|• Bến xe trung tâ...|   3h50m|  Limousine 34 phòng|   220.000đ|\n",
            "|     37|Duy Thảo (Kiên Gi...|07-03-2025|   TP.HCM - Can Tho|         17:50|       22:20|   • Ngã Tư An Sương|• Bến xe trung tâ...|   4h30m|   Giường nằm 40 chỗ|   220.000đ|\n",
            "|     38|               Hà My|07-03-2025|   TP.HCM - Can Tho|         08:00|       12:00|        • VP Sài Gòn|           • Cần Thơ|      4h|    Limousine 34 chỗ|   210.000đ|\n",
            "|     39|           Giáp Diệp|07-03-2025|   TP.HCM - Can Tho|         17:00|       22:35|• Cầu vượt Linh Xuân|• Cần Thơ (Dọc Qu...|   5h35m|   Giường nằm 40 chỗ|Từ 200.000đ|\n",
            "|     40|   Vũ Linh limousine|07-03-2025|   TP.HCM - Can Tho|         16:00|       19:15| • Văn Phòng Sài Gòn|• Văn Phòng Công ...|   3h15m|Huyndai Solati 11...|Từ 200.000đ|\n",
            "|     41|   Vũ Linh limousine|07-03-2025|   TP.HCM - Can Tho|         15:00|       18:15| • Văn Phòng Sài Gòn|• Văn Phòng Công ...|   3h15m|Huyndai Solati 11...|Từ 200.000đ|\n",
            "|     42|   Vũ Linh limousine|07-03-2025|   TP.HCM - Can Tho|         09:00|       12:15| • Văn Phòng Sài Gòn|• Văn Phòng Công ...|   3h15m|Huyndai Solati 11...|Từ 200.000đ|\n",
            "|     43|   Vũ Linh limousine|07-03-2025|   TP.HCM - Can Tho|         07:00|       10:15| • Văn Phòng Sài Gòn|• Văn Phòng Công ...|   3h15m|Huyndai Solati 11...|Từ 200.000đ|\n",
            "|     44|   Vũ Linh limousine|07-03-2025|   TP.HCM - Can Tho|         20:00|       23:15| • Văn Phòng Sài Gòn|• Văn Phòng Công ...|   3h15m|Huyndai Solati 11...|Từ 200.000đ|\n",
            "|     45|   Vũ Linh limousine|07-03-2025|   TP.HCM - Can Tho|         17:00|       20:15| • Văn Phòng Sài Gòn|• Văn Phòng Công ...|   3h15m|Huyndai Solati 11...|Từ 200.000đ|\n",
            "|     46|   Vũ Linh limousine|07-03-2025|   TP.HCM - Can Tho|         03:00|       06:15| • Văn Phòng Sài Gòn|• Văn Phòng Công ...|   3h15m|Huyndai Solati 11...|Từ 200.000đ|\n",
            "|     47|   Vũ Linh limousine|07-03-2025|   TP.HCM - Can Tho|         06:00|       09:15| • Văn Phòng Sài Gòn|• Văn Phòng Công ...|   3h15m|Huyndai Solati 11...|Từ 200.000đ|\n",
            "|     48|   Vũ Linh limousine|07-03-2025|   TP.HCM - Can Tho|         19:00|       22:15| • Văn Phòng Sài Gòn|• Văn Phòng Công ...|   3h15m|Huyndai Solati 11...|Từ 200.000đ|\n",
            "|     49|   Vũ Linh limousine|07-03-2025|   TP.HCM - Can Tho|         18:00|       21:15| • Văn Phòng Sài Gòn|• Văn Phòng Công ...|   3h15m|Huyndai Solati 11...|Từ 200.000đ|\n",
            "|     50|   Vũ Linh limousine|07-03-2025|   TP.HCM - Can Tho|         05:00|       08:15| • Văn Phòng Sài Gòn|• Văn Phòng Công ...|   3h15m|Huyndai Solati 11...|Từ 200.000đ|\n",
            "|     51|   Vũ Linh limousine|07-03-2025|   TP.HCM - Can Tho|         04:00|       07:15| • Văn Phòng Sài Gòn|• Văn Phòng Công ...|   3h15m|Huyndai Solati 11...|   170.000đ|\n",
            "|     52|            Văn Lang|07-03-2025|   TP.HCM - Can Tho|         07:00|       11:10|  • Văn phòng Quận 5|   • Văn Phòng Ô Môn|   4h10m|   Giường nằm 41 chỗ|   170.000đ|\n",
            "|     53|            Văn Lang|07-03-2025|   TP.HCM - Can Tho|         09:30|       13:30|• Văn Phòng Bình Tân|• Văn phòng Thốt Nốt|      4h|   Giường nằm 41 chỗ|   170.000đ|\n",
            "|     54|            Văn Lang|07-03-2025|   TP.HCM - Can Tho|         09:00|       13:30|  • Văn phòng Quận 5|• Văn phòng Thốt Nốt|   4h30m|   Giường nằm 41 chỗ|   170.000đ|\n",
            "|     55|            Văn Lang|07-03-2025|   TP.HCM - Can Tho|         14:30|       18:30|• Văn Phòng Bình Tân|• Văn phòng Thốt Nốt|      4h|   Giường nằm 41 chỗ|   170.000đ|\n",
            "|     56|            Văn Lang|07-03-2025|   TP.HCM - Can Tho|         07:30|       11:10|• Văn Phòng Bình Tân|   • Văn Phòng Ô Môn|   3h40m|   Giường nằm 41 chỗ|   170.000đ|\n",
            "|     57|            Văn Lang|07-03-2025|   TP.HCM - Can Tho|         07:30|       11:30|• Văn Phòng Bình Tân|• Văn phòng Thốt Nốt|      4h|   Giường nằm 41 chỗ|   170.000đ|\n",
            "|     58|            Văn Lang|07-03-2025|   TP.HCM - Can Tho|         07:00|       11:30|  • Văn phòng Quận 5|• Văn phòng Thốt Nốt|   4h30m|   Giường nằm 41 chỗ|   170.000đ|\n",
            "|     59|            Văn Lang|07-03-2025|   TP.HCM - Can Tho|         16:30|       20:40|  • Văn phòng Quận 5|   • Văn Phòng Ô Môn|   4h10m|   Giường nằm 41 chỗ|   170.000đ|\n",
            "|     60|            Văn Lang|07-03-2025|   TP.HCM - Can Tho|         17:00|       21:00|• Văn Phòng Bình Tân|• Văn phòng Thốt Nốt|      4h|   Giường nằm 41 chỗ|   170.000đ|\n",
            "|     61|            Văn Lang|07-03-2025|   TP.HCM - Can Tho|         16:30|       20:30|  • Văn phòng Quận 5|    • Metro Hưng Lợi|      4h|   Giường nằm 41 chỗ|   170.000đ|\n",
            "|     62|            Văn Lang|07-03-2025|   TP.HCM - Can Tho|         09:00|       13:10|  • Văn phòng Quận 5|   • Văn Phòng Ô Môn|   4h10m|   Giường nằm 41 chỗ|   170.000đ|\n",
            "|     63|            Văn Lang|07-03-2025|   TP.HCM - Can Tho|         09:30|       13:00|• Văn Phòng Bình Tân|    • Metro Hưng Lợi|   3h30m|   Giường nằm 41 chỗ|   170.000đ|\n",
            "|     64|            Văn Lang|07-03-2025|   TP.HCM - Can Tho|         09:30|       13:10|• Văn Phòng Bình Tân|   • Văn Phòng Ô Môn|   3h40m|   Giường nằm 41 chỗ|   170.000đ|\n",
            "|     65|            Văn Lang|07-03-2025|   TP.HCM - Can Tho|         14:30|       18:10|• Văn Phòng Bình Tân|   • Văn Phòng Ô Môn|   3h40m|   Giường nằm 41 chỗ|   170.000đ|\n",
            "|     66|            Văn Lang|07-03-2025|   TP.HCM - Can Tho|         14:30|       18:00|• Văn Phòng Bình Tân|    • Metro Hưng Lợi|   3h30m|   Giường nằm 41 chỗ|   170.000đ|\n",
            "|     67|            Văn Lang|07-03-2025|   TP.HCM - Can Tho|         17:00|       20:30|• Văn Phòng Bình Tân|    • Metro Hưng Lợi|   3h30m|   Giường nằm 41 chỗ|   170.000đ|\n",
            "|     68|            Văn Lang|07-03-2025|   TP.HCM - Can Tho|         14:00|       18:00|  • Văn phòng Quận 5|    • Metro Hưng Lợi|      4h|   Giường nằm 41 chỗ|   170.000đ|\n",
            "|     69|            Văn Lang|07-03-2025|   TP.HCM - Can Tho|         14:00|       18:10|  • Văn phòng Quận 5|   • Văn Phòng Ô Môn|   4h10m|   Giường nằm 41 chỗ|   350.000đ|\n",
            "|     70|Thiện Thành Limou...|07-03-2025|   TP.HCM - Can Tho|         11:00|       17:00|        • VP Tân Phú|       • VP Rạch Giá|      6h|  Limousine 24 phòng|   350.000đ|\n",
            "|     71|Thiện Thành Limou...|07-03-2025|   TP.HCM - Can Tho|         23:31|       05:31|        • VP Tân Phú|       • VP Rạch Giá|      6h|  Limousine 24 phòng|   350.000đ|\n",
            "|     72|Thiện Thành Limou...|07-03-2025|   TP.HCM - Can Tho|         09:00|       15:00|        • VP Tân Phú|       • VP Rạch Giá|      6h|  Limousine 24 phòng|   350.000đ|\n",
            "|     73|Thiện Thành Limou...|07-03-2025|   TP.HCM - Can Tho|         13:00|       19:00|        • VP Tân Phú|       • VP Rạch Giá|      6h|  Limousine 24 phòng|   350.000đ|\n",
            "|     74|Thiện Thành Limou...|07-03-2025|   TP.HCM - Can Tho|         17:00|       23:00|        • VP Tân Phú|       • VP Rạch Giá|      6h|  Limousine 24 phòng|   350.000đ|\n",
            "|     75|Thiện Thành Limou...|07-03-2025|   TP.HCM - Can Tho|         15:00|       21:00|        • VP Tân Phú|       • VP Rạch Giá|      6h|  Limousine 24 phòng|Từ 200.000đ|\n",
            "|     76|   Vũ Linh limousine|07-03-2025|   TP.HCM - Can Tho|         03:15|       06:15|• Cây xăng COMECO 15|• Văn Phòng Công ...|      3h|Huyndai Solati 11...|   190.000đ|\n",
            "|     77|                 Hảo|07-03-2025|   TP.HCM - Can Tho|         11:00|       14:40|      • Trạm Sài Gòn|• Cần Thơ (Dọc Qu...|   3h40m|   Giường nằm 40 chỗ|   190.000đ|\n",
            "|     78|                 Hảo|07-03-2025|   TP.HCM - Can Tho|         18:30|       22:10|      • Trạm Sài Gòn|• Cần Thơ (Dọc Qu...|   3h40m|   Giường nằm 40 chỗ|   190.000đ|\n",
            "|     79|                 Hảo|07-03-2025|   TP.HCM - Can Tho|         10:30|       13:32|   • Bến xe Miền Tây|• Cần Thơ (Dọc Qu...|    3h2m|   Giường nằm 40 chỗ|   190.000đ|\n",
            "|     80|                 Hảo|07-03-2025|   TP.HCM - Can Tho|         14:30|       18:10|      • Trạm Sài Gòn|• Cần Thơ (Dọc Qu...|   3h40m|   Giường nằm 40 chỗ|   310.000đ|\n",
            "|     81|                 Hảo|07-03-2025|   TP.HCM - Can Tho|         12:30|       16:07|      • Trạm Sài Gòn|• Cần Thơ (Dọc Qu...|   3h37m| Giường phòng 22 chỗ|   190.000đ|\n",
            "|     82|                 Hảo|07-03-2025|   TP.HCM - Can Tho|         10:00|       13:32|      • Trạm Sài Gòn|• Cần Thơ (Dọc Qu...|   3h32m|   Giường nằm 40 chỗ|   190.000đ|\n",
            "|     83|                 Hảo|07-03-2025|   TP.HCM - Can Tho|         15:30|       19:10|      • Trạm Sài Gòn|• Cần Thơ (Dọc Qu...|   3h40m|   Giường nằm 40 chỗ|   190.000đ|\n",
            "|     84|                 Hảo|07-03-2025|   TP.HCM - Can Tho|         12:30|       15:40|   • Bến xe Miền Tây|• Cần Thơ (Dọc Qu...|   3h10m|   Giường nằm 40 chỗ|Từ 200.000đ|\n",
            "|     85|   Vũ Linh limousine|07-03-2025|   TP.HCM - Can Tho|         07:15|       10:15|• Cây xăng COMECO 15|• Văn Phòng Công ...|      3h|Huyndai Solati 11...|   190.000đ|\n",
            "|     86|                 Hảo|07-03-2025|   TP.HCM - Can Tho|         13:30|       16:40|   • Bến xe Miền Tây|• Cần Thơ (Dọc Qu...|   3h10m|   Giường nằm 34 chỗ|   190.000đ|\n",
            "|     87|                 Hảo|07-03-2025|   TP.HCM - Can Tho|         23:30|       02:40|   • Bến xe Miền Tây|• Cần Thơ (Dọc Qu...|   3h10m|   Giường nằm 40 chỗ|   190.000đ|\n",
            "|     88|                 Hảo|07-03-2025|   TP.HCM - Can Tho|         06:30|       10:10|      • Trạm Sài Gòn|• Cần Thơ (Dọc Qu...|   3h40m|   Giường nằm 40 chỗ|   190.000đ|\n",
            "|     89|                 Hảo|07-03-2025|   TP.HCM - Can Tho|         17:00|       20:02|   • Bến xe Miền Tây|• Cần Thơ (Dọc Qu...|    3h2m|   Giường nằm 40 chỗ|Từ 200.000đ|\n",
            "|     90|   Vũ Linh limousine|07-03-2025|   TP.HCM - Can Tho|         18:15|       21:15|• Cây xăng COMECO 15|• Văn Phòng Công ...|      3h|Huyndai Solati 11...|   190.000đ|\n",
            "|     91|                 Hảo|07-03-2025|   TP.HCM - Can Tho|         14:00|       17:10|   • Bến xe Miền Tây|• Cần Thơ (Dọc Qu...|   3h10m|   Giường nằm 40 chỗ|   330.000đ|\n",
            "|     92|                 Hảo|07-03-2025|   TP.HCM - Can Tho|         09:30|       12:32|   • Bến xe Miền Tây|• Cần Thơ (Dọc Qu...|    3h2m| Giường phòng 22 chỗ|   190.000đ|\n",
            "|     93|                 Hảo|07-03-2025|   TP.HCM - Can Tho|         16:30|       20:02|      • Trạm Sài Gòn|• Cần Thơ (Dọc Qu...|   3h32m|   Giường nằm 40 chỗ|   220.000đ|\n",
            "|     94|           Tuấn Hiệp|07-03-2025|   TP.HCM - Can Tho|         23:50|       03:10|         • Suối Tiên|• Cần Thơ (Dọc Qu...|   3h20m|Limousine giường ...|   200.000đ|\n",
            "|     95|           Tuấn Hiệp|07-03-2025|   TP.HCM - Can Tho|         18:30|       22:40|• Cổng Bến xe Miề...|• Cần Thơ (Dọc Qu...|   4h10m|   Giường nằm 40 chỗ|Từ 200.000đ|\n",
            "|     96|   Vũ Linh limousine|07-03-2025|   TP.HCM - Can Tho|         13:15|       16:15|• Cây xăng COMECO 15|• Văn Phòng Công ...|      3h|Huyndai Solati 11...|Từ 200.000đ|\n",
            "|     97|   Vũ Linh limousine|07-03-2025|   TP.HCM - Can Tho|         14:15|       17:15|• Cây xăng COMECO 15|• Văn Phòng Công ...|      3h|Huyndai Solati 11...|   190.000đ|\n",
            "|     98|                 Hảo|07-03-2025|   TP.HCM - Can Tho|         07:30|       11:02|      • Trạm Sài Gòn|• Cần Thơ (Dọc Qu...|   3h32m|   Giường nằm 41 chỗ|Từ 200.000đ|\n",
            "|     99|   Vũ Linh limousine|07-03-2025|   TP.HCM - Can Tho|         16:15|       19:15|• Cây xăng COMECO 15|• Văn Phòng Công ...|      3h|Huyndai Solati 11...|Từ 200.000đ|\n",
            "|    100|   Vũ Linh limousine|07-03-2025|   TP.HCM - Can Tho|         09:15|       12:15|• Cây xăng COMECO 15|• Văn Phòng Công ...|      3h|Huyndai Solati 11...|   310.000đ|\n",
            "|    101|                 Hảo|07-03-2025|   TP.HCM - Can Tho|         10:30|       14:07|      • Trạm Sài Gòn|• Cần Thơ (Dọc Qu...|   3h37m| Giường phòng 22 chỗ|   200.000đ|\n",
            "|    102|           Tuấn Hiệp|07-03-2025|   TP.HCM - Can Tho|         18:10|       22:40|• Cổng Bến xe Miề...|• Cần Thơ (Dọc Qu...|   4h30m|   Giường nằm 40 chỗ|   200.000đ|\n",
            "|    103|           Tuấn Hiệp|07-03-2025|   TP.HCM - Can Tho|         06:10|       11:00|• Cổng Bến xe Miề...|• Cần Thơ (Dọc Qu...|   4h50m|   Giường nằm 40 chỗ|Từ 200.000đ|\n",
            "|    104|   Vũ Linh limousine|07-03-2025|   TP.HCM - Can Tho|         20:15|       23:15|• Cây xăng COMECO 15|• Văn Phòng Công ...|      3h|Huyndai Solati 11...|   190.000đ|\n",
            "|    105|                 Hảo|07-03-2025|   TP.HCM - Can Tho|         19:00|       22:10|   • Bến xe Miền Tây|• Cần Thơ (Dọc Qu...|   3h10m|   Giường nằm 40 chỗ|   310.000đ|\n",
            "|    106|                 Hảo|07-03-2025|   TP.HCM - Can Tho|         13:00|       16:07|   • Bến xe Miền Tây|• Cần Thơ (Dọc Qu...|    3h7m| Giường phòng 22 chỗ|   200.000đ|\n",
            "|    107|           Tuấn Hiệp|07-03-2025|   TP.HCM - Can Tho|         06:50|       11:40|• Cổng Bến xe Miề...|• Cần Thơ (Dọc Qu...|   4h50m|   Giường nằm 40 chỗ|   250.000đ|\n",
            "|    108|             Tư Tiến|07-03-2025|   TP.HCM - Can Tho|         05:30|       10:00|• Khu du lịch Suố...|        • Vĩnh Thạnh|   4h30m|   Giường Nằm 44 chỗ|   250.000đ|\n",
            "|    109|             Tư Tiến|07-03-2025|   TP.HCM - Can Tho|         20:45|       00:45| • Cầu Vượt An Sương|        • Vĩnh Thạnh|      4h|   Giường Nằm 44 chỗ|   190.000đ|\n",
            "|    110|                 Hảo|07-03-2025|   TP.HCM - Can Tho|         09:15|       12:55|      • Trạm Sài Gòn|• Cần Thơ (Dọc Qu...|   3h40m|   Giường nằm 40 chỗ|   190.000đ|\n",
            "|    111|                 Hảo|07-03-2025|   TP.HCM - Can Tho|         08:00|       11:02|   • Bến xe Miền Tây|• Cần Thơ (Dọc Qu...|    3h2m|   Giường nằm 41 chỗ|   190.000đ|\n",
            "|    112|                 Hảo|07-03-2025|   TP.HCM - Can Tho|         23:00|       02:40|      • Trạm Sài Gòn|• Cần Thơ (Dọc Qu...|   3h40m|   Giường nằm 40 chỗ|   250.000đ|\n",
            "|    113|             Tư Tiến|07-03-2025|   TP.HCM - Can Tho|         20:15|       00:45|• Khu du lịch Suố...|        • Vĩnh Thạnh|   4h30m|   Giường Nằm 44 chỗ|   190.000đ|\n",
            "|    114|                 Hảo|07-03-2025|   TP.HCM - Can Tho|         12:00|       15:10|   • Bến xe Miền Tây|• Cần Thơ (Dọc Qu...|   3h10m|   Giường nằm 34 chỗ|   190.000đ|\n",
            "|    115|                 Hảo|07-03-2025|   TP.HCM - Can Tho|         11:30|       15:10|      • Trạm Sài Gòn|• Cần Thơ (Dọc Qu...|   3h40m|   Giường nằm 34 chỗ|   190.000đ|\n",
            "|    116|                 Hảo|07-03-2025|   TP.HCM - Can Tho|         15:00|       18:10|   • Bến xe Miền Tây|• Cần Thơ (Dọc Qu...|   3h10m|   Giường nằm 40 chỗ|   190.000đ|\n",
            "|    117|                 Hảo|07-03-2025|   TP.HCM - Can Tho|         12:00|       15:40|      • Trạm Sài Gòn|• Cần Thơ (Dọc Qu...|   3h40m|   Giường nằm 40 chỗ|   190.000đ|\n",
            "|    118|                 Hảo|07-03-2025|   TP.HCM - Can Tho|         16:00|       19:10|   • Bến xe Miền Tây|• Cần Thơ (Dọc Qu...|   3h10m|   Giường nằm 40 chỗ|   190.000đ|\n",
            "|    119|                 Hảo|07-03-2025|   TP.HCM - Can Tho|         09:30|       13:10|      • Trạm Sài Gòn|• Cần Thơ (Dọc Qu...|   3h40m|   Giường nằm 34 chỗ|   250.000đ|\n",
            "|    120|             Tư Tiến|07-03-2025|   TP.HCM - Can Tho|         20:00|       00:30|• Khu du lịch Suố...|        • Vĩnh Thạnh|   4h30m|   Giường Nằm 44 chỗ|Từ 200.000đ|\n",
            "|    121|   Vũ Linh limousine|07-03-2025|   TP.HCM - Can Tho|         10:15|       13:15|• Cây xăng COMECO 15|• Văn Phòng Công ...|      3h|Huyndai Solati 11...|   190.000đ|\n",
            "|    122|                 Hảo|07-03-2025|   TP.HCM - Can Tho|         10:00|       13:10|   • Bến xe Miền Tây|• Cần Thơ (Dọc Qu...|   3h10m|   Giường nằm 34 chỗ|Từ 200.000đ|\n",
            "|    123|   Vũ Linh limousine|07-03-2025|   TP.HCM - Can Tho|         06:15|       09:15|• Cây xăng COMECO 15|• Văn Phòng Công ...|      3h|Huyndai Solati 11...|   190.000đ|\n",
            "|    124|                 Hảo|07-03-2025|   TP.HCM - Can Tho|         09:45|       12:55|   • Bến xe Miền Tây|• Cần Thơ (Dọc Qu...|   3h10m|   Giường nằm 40 chỗ|Từ 200.000đ|\n",
            "|    125|   Vũ Linh limousine|07-03-2025|   TP.HCM - Can Tho|         12:15|       15:15|• Cây xăng COMECO 15|• Văn Phòng Công ...|      3h|Huyndai Solati 11...|   200.000đ|\n",
            "|    126|           Tuấn Hiệp|07-03-2025|   TP.HCM - Can Tho|         19:00|       23:00|• Cầu vượt Linh Xuân|• Bến xe Cần Thơ mới|      4h|   Giường nằm 44 chỗ|Từ 200.000đ|\n",
            "|    127|   Vũ Linh limousine|07-03-2025|   TP.HCM - Can Tho|         04:15|       07:15|• Cây xăng COMECO 15|• Văn Phòng Công ...|      3h|Huyndai Solati 11...|Từ 200.000đ|\n",
            "|    128|   Vũ Linh limousine|07-03-2025|   TP.HCM - Can Tho|         15:15|       18:15|• Cây xăng COMECO 15|• Văn Phòng Công ...|      3h|Huyndai Solati 11...|   190.000đ|\n",
            "|    129|                 Hảo|07-03-2025|   TP.HCM - Can Tho|         20:00|       23:02|   • Bến xe Miền Tây|• Cần Thơ (Dọc Qu...|    3h2m|   Giường nằm 40 chỗ|Từ 200.000đ|\n",
            "|    130|   Vũ Linh limousine|07-03-2025|   TP.HCM - Can Tho|         17:15|       20:15|• Cây xăng COMECO 15|• Văn Phòng Công ...|      3h|Huyndai Solati 11...|   190.000đ|\n",
            "|    131|                 Hảo|07-03-2025|   TP.HCM - Can Tho|         13:30|       17:10|      • Trạm Sài Gòn|• Cần Thơ (Dọc Qu...|   3h40m|   Giường nằm 40 chỗ|   190.000đ|\n",
            "|    132|                 Hảo|07-03-2025|   TP.HCM - Can Tho|         23:00|       02:10|   • Bến xe Miền Tây|• Cần Thơ (Dọc Qu...|   3h10m|   Giường nằm 40 chỗ|   190.000đ|\n",
            "|    133|                 Hảo|07-03-2025|   TP.HCM - Can Tho|         22:30|       02:10|      • Trạm Sài Gòn|• Cần Thơ (Dọc Qu...|   3h40m|   Giường nằm 40 chỗ|Từ 200.000đ|\n",
            "|    134|   Vũ Linh limousine|07-03-2025|   TP.HCM - Can Tho|         19:15|       22:15|• Cây xăng COMECO 15|• Văn Phòng Công ...|      3h|Huyndai Solati 11...|   200.000đ|\n",
            "|    135|           Tuấn Hiệp|07-03-2025|   TP.HCM - Can Tho|         08:00|       11:20|• Sài Gòn (Nguyễn...|• Bến xe Cần Thơ mới|   3h20m|Limousine giường ...|Từ 200.000đ|\n",
            "|    136|   Vũ Linh limousine|07-03-2025|   TP.HCM - Can Tho|         05:15|       08:15|• Cây xăng COMECO 15|• Văn Phòng Công ...|      3h|Huyndai Solati 11...|   190.000đ|\n",
            "|    137|                 Hảo|07-03-2025|   TP.HCM - Can Tho|         14:00|       17:40|      • Trạm Sài Gòn|• Cần Thơ (Dọc Qu...|   3h40m|   Giường nằm 40 chỗ|   190.000đ|\n",
            "|    138|                 Hảo|07-03-2025|   TP.HCM - Can Tho|         13:00|       16:40|      • Trạm Sài Gòn|• Cần Thơ (Dọc Qu...|   3h40m|   Giường nằm 34 chỗ|   200.000đ|\n",
            "|    139|           Tuấn Hiệp|07-03-2025|   TP.HCM - Can Tho|         18:30|       22:40|         • Suối Tiên|• Cần Thơ (Dọc Qu...|   4h10m|   Giường nằm 40 chỗ|   190.000đ|\n",
            "|    140|                 Hảo|07-03-2025|   TP.HCM - Can Tho|         11:30|       14:40|   • Bến xe Miền Tây|• Cần Thơ (Dọc Qu...|   3h10m|   Giường nằm 40 chỗ|   190.000đ|\n",
            "|    141|                 Hảo|07-03-2025|   TP.HCM - Can Tho|         14:30|       17:40|   • Bến xe Miền Tây|• Cần Thơ (Dọc Qu...|   3h10m|   Giường nằm 40 chỗ|   310.000đ|\n",
            "|    142|                 Hảo|07-03-2025|   TP.HCM - Can Tho|         14:30|       18:07|      • Trạm Sài Gòn|• Cần Thơ (Dọc Qu...|   3h37m| Giường phòng 22 chỗ|   200.000đ|\n",
            "|    143|           Tuấn Hiệp|07-03-2025|   TP.HCM - Can Tho|         19:40|       23:50|         • Suối Tiên|• Cần Thơ (Dọc Qu...|   4h10m|   Giường nằm 40 chỗ|   190.000đ|\n",
            "|    144|                 Hảo|07-03-2025|   TP.HCM - Can Tho|         17:00|       20:40|      • Trạm Sài Gòn|• Cần Thơ (Dọc Qu...|   3h40m|   Giường nằm 40 chỗ|   330.000đ|\n",
            "|    145|                 Hảo|07-03-2025|   TP.HCM - Can Tho|         09:00|       12:32|      • Trạm Sài Gòn|• Cần Thơ (Dọc Qu...|   3h32m| Giường phòng 22 chỗ|   280.000đ|\n",
            "|    146|  Trí Nhân Limousine|07-03-2025|   TP.HCM - Can Tho|         20:30|       23:57|   • Bến xe Miền Tây|          • Cái Răng|   3h27m|Limousine Giường ...|   310.000đ|\n",
            "|    147|                 Hảo|07-03-2025|   TP.HCM - Can Tho|         11:00|       14:07|   • Bến xe Miền Tây|• Cần Thơ (Dọc Qu...|    3h7m| Giường phòng 22 chỗ|   200.000đ|\n",
            "|    148|           Tuấn Hiệp|07-03-2025|   TP.HCM - Can Tho|         19:30|       23:50|• Cổng Bến xe Miề...|• Cần Thơ (Dọc Qu...|   4h20m|   Giường nằm 40 chỗ|   310.000đ|\n",
            "|    149|                 Hảo|07-03-2025|   TP.HCM - Can Tho|         15:00|       18:07|   • Bến xe Miền Tây|• Cần Thơ (Dọc Qu...|    3h7m| Giường phòng 22 chỗ|   250.000đ|\n",
            "|    150|             Tư Tiến|07-03-2025|   TP.HCM - Can Tho|         20:30|       00:30| • Cầu Vượt An Sương|        • Vĩnh Thạnh|      4h|   Giường Nằm 44 chỗ|   220.000đ|\n",
            "|    151|           Tuấn Hiệp|07-03-2025|   TP.HCM - Can Tho|         23:40|       03:10|• Cổng Bến xe Miề...|• Cần Thơ (Dọc Qu...|   3h30m|Limousine giường ...|   280.000đ|\n",
            "|    152|  Trí Nhân Limousine|07-03-2025|   TP.HCM - Can Tho|         20:30|       23:57| • Văn Phòng Sài Gòn|          • Cái Răng|   3h27m|Limousine Giường ...|   220.000đ|\n",
            "|    153|           Tuấn Hiệp|07-03-2025|   TP.HCM - Can Tho|         19:10|       23:30|         • Suối Tiên|• Cần Thơ (Dọc Qu...|   4h20m|Limousine giường ...|   220.000đ|\n",
            "|    154|           Tuấn Hiệp|07-03-2025|   TP.HCM - Can Tho|         18:50|       23:30|• Cổng Bến xe Miề...|• Cần Thơ (Dọc Qu...|   4h40m|Limousine giường ...|   330.000đ|\n",
            "|    155|                 Hảo|07-03-2025|   TP.HCM - Can Tho|         20:30|       00:02|      • Trạm Sài Gòn|• Cần Thơ (Dọc Qu...|   3h32m| Giường phòng 22 chỗ|   310.000đ|\n",
            "|    156|                 Hảo|07-03-2025|   TP.HCM - Can Tho|         22:30|       01:37|   • Bến xe Miền Tây|• Cần Thơ (Dọc Qu...|    3h7m| Giường phòng 22 chỗ|Từ 350.000đ|\n",
            "|    157|           Tuấn Hiệp|07-03-2025|   TP.HCM - Can Tho|         19:40|       23:10|    • Ngã 4 An Sương|• Cần Thơ (Dọc Qu...|   3h30m|Limousine 22 phòn...|   200.000đ|\n",
            "|    158|           Tuấn Hiệp|07-03-2025|   TP.HCM - Can Tho|         06:20|       11:00|         • Suối Tiên|• Cần Thơ (Dọc Qu...|   4h40m|   Giường nằm 40 chỗ|   310.000đ|\n",
            "|    159|           Giáp Diệp|07-03-2025|   TP.HCM - Can Tho|         22:00|       00:55|   • Bến Xe Miền Tây|• Cần Thơ (Dọc Qu...|   2h55m|Limousine giường ...|Từ 350.000đ|\n",
            "|    160|           Tuấn Hiệp|07-03-2025|   TP.HCM - Can Tho|         19:10|       23:10|• Cổng Bến xe Miề...|• Cần Thơ (Dọc Qu...|      4h|Limousine 22 phòn...|   190.000đ|\n",
            "|    161|                 Hảo|07-03-2025|   TP.HCM - Can Tho|         17:30|       20:40|   • Bến xe Miền Tây|• Cần Thơ (Dọc Qu...|   3h10m|   Giường nằm 40 chỗ|Từ 350.000đ|\n",
            "|    162|           Tuấn Hiệp|07-03-2025|   TP.HCM - Can Tho|         19:20|       23:10|         • Suối Tiên|• Cần Thơ (Dọc Qu...|   3h50m|Limousine 22 phòn...|Từ 200.000đ|\n",
            "|    163|   Vũ Linh limousine|07-03-2025|   TP.HCM - Can Tho|         11:16|       14:16|• Cây xăng COMECO 15|• Văn Phòng Công ...|      3h|Huyndai Solati 11...|   220.000đ|\n",
            "|    164|Duy Thảo (Kiên Gi...|07-03-2025|   TP.HCM - Can Tho|         17:30|       22:20|  • Ngã 4 Bình Phước|• Bến xe trung tâ...|   4h50m|   Giường nằm 40 chỗ|   200.000đ|\n",
            "|    165|           Tuấn Hiệp|07-03-2025|   TP.HCM - Can Tho|         07:00|       11:00|• Cầu vượt Linh Xuân|• Bến xe Cần Thơ mới|      4h|   Giường nằm 40 chỗ|   210.000đ|\n",
            "|    166|           Giáp Diệp|07-03-2025|   TP.HCM - Can Tho|         16:00|       22:35|• Bến xe Miền Đôn...|• Cần Thơ (Dọc Qu...|   6h35m|   Giường nằm 40 chỗ|   210.000đ|\n",
            "|    167|           Giáp Diệp|07-03-2025|   TP.HCM - Can Tho|         17:30|       22:35|• Ngã 4 Bình Phướ...|• Cần Thơ (Dọc Qu...|    5h5m|   Giường nằm 40 chỗ|   210.000đ|\n",
            "|    168|           Giáp Diệp|07-03-2025|   TP.HCM - Can Tho|         19:00|       22:35|   • Bến Xe Miền Tây|• Cần Thơ (Dọc Qu...|   3h35m|   Giường nằm 40 chỗ|   310.000đ|\n",
            "|    169|                 Hảo|07-03-2025|   TP.HCM - Can Tho|         22:00|       01:37|      • Trạm Sài Gòn|• Cần Thơ (Dọc Qu...|   3h37m| Giường phòng 22 chỗ|   330.000đ|\n",
            "|    170|                 Hảo|07-03-2025|   TP.HCM - Can Tho|         21:00|       00:02|   • Bến xe Miền Tây|• Cần Thơ (Dọc Qu...|    3h2m| Giường phòng 22 chỗ|   250.000đ|\n",
            "|    171|           Tuấn Hiệp|07-03-2025|   TP.HCM - Can Tho|         21:50|       02:55|   • Ngã 4 An Sương.|• Cần Thơ (Dọc Qu...|    5h5m|Limousine giường ...|   250.000đ|\n",
            "|    172|           Tuấn Hiệp|07-03-2025|   TP.HCM - Can Tho|         21:10|       02:55|• Cổng Bến xe Miề...|• Cần Thơ (Dọc Qu...|   5h45m|Limousine giường ...|   250.000đ|\n",
            "|    173|           Tuấn Hiệp|07-03-2025|   TP.HCM - Can Tho|         21:10|       02:55|         • Suối Tiên|• Cần Thơ (Dọc Qu...|   5h45m|Limousine giường ...|   310.000đ|\n",
            "|    174|           Giáp Diệp|07-03-2025|   TP.HCM - Can Tho|         21:01|       23:56|   • Bến Xe Miền Tây|• Cần Thơ (Dọc Qu...|   2h55m|Limousine giường ...|Từ 350.000đ|\n",
            "|    175|           Mạnh Hùng|07-03-2025|   TP.HCM - Can Tho|         05:10|       09:30|• Cổng Bến xe Miề...|• Bến xe trung tâ...|   4h20m|Limousine 24 Phòn...|   200.000đ|\n",
            "|    176|           Mạnh Hùng|07-03-2025|   TP.HCM - Can Tho|         05:01|       09:21|• Cổng Bến xe Miề...|• Bến xe trung tâ...|   4h20m|  Limousine 24 Phòng|   300.000đ|\n",
            "|    177|             Dũng Lệ|07-03-2025|   TP.HCM - Can Tho|         05:15|       07:35|      • Vp. Bình Tân|• Bến xe trung tâ...|   2h20m|Limousine 24 Phòn...|   200.000đ|\n",
            "|    178|            Hải Luân|07-03-2025|   TP.HCM - Can Tho|         01:45|       06:00|• Siêu thị Đá An ...|• Bến xe trung tâ...|   4h15m| Limousine 34 giường|Từ 350.000đ|\n",
            "|    179|             Kế Nghi|07-03-2025|   TP.HCM - Can Tho|         02:00|       05:00|    • Ngã 4 An Sương|     • BX TT Cần Thơ|      3h|  Limousine 34 phòng|   200.000đ|\n",
            "|    180|            Hải Luân|07-03-2025|   TP.HCM - Can Tho|         02:00|       06:00|  • Vòng xoay An Lạc|• Bến xe trung tâ...|      4h| Limousine 34 giường|Từ 350.000đ|\n",
            "|    181|           Mạnh Hùng|07-03-2025|   TP.HCM - Can Tho|         06:01|       09:21|   • Ngã 4 An Sương.|• Bến xe trung tâ...|   3h20m|  Limousine 24 Phòng|Từ 350.000đ|\n",
            "|    182|           Mạnh Hùng|07-03-2025|   TP.HCM - Can Tho|         06:20|       09:30|      • Ngã 4 Gò Mây|• Bến xe trung tâ...|   3h10m|Limousine 24 Phòn...|Từ 350.000đ|\n",
            "|    183|           Mạnh Hùng|07-03-2025|   TP.HCM - Can Tho|         06:20|       09:30| • Cổng KCN Vĩnh Lộc|• Bến xe trung tâ...|   3h10m|Limousine 24 Phòn...|Từ 350.000đ|\n",
            "|    184|            Tân Niên|07-03-2025|   TP.HCM - Can Tho|         00:55|       04:35|• Chân Cầu Vượt S...|• Bến Xe Trung Tâ...|   3h40m|Limousine Phòng Đ...|Từ 350.000đ|\n",
            "|    185|            Hải Luân|07-03-2025|   TP.HCM - Can Tho|         01:35|       06:00|         • Ngã Tư Ga|• Bến xe trung tâ...|   4h25m| Limousine 34 giường|Từ 350.000đ|\n",
            "|    186|            Tân Niên|07-03-2025|   TP.HCM - Can Tho|         03:10|       08:00|• Trạm thu phí An...|   • Thốt Nốt (QL91)|   4h50m|Limousine Phòng Đ...|Từ 350.000đ|\n",
            "|    187|            Tân Niên|07-03-2025|   TP.HCM - Can Tho|         02:50|       07:30|    • Ngã 4 An Sương|      • Bến xe Ô Môn|   4h40m|Limousine Phòng Đ...|Từ 350.000đ|\n",
            "|    188|           Mạnh Hùng|07-03-2025|   TP.HCM - Can Tho|         06:00|       09:30|• Cầu vượt Tân Th...|• Bến xe trung tâ...|   3h30m|Limousine 24 Phòn...|   220.000đ|\n",
            "|    189|            Tân Niên|07-03-2025|   TP.HCM - Can Tho|         02:50|       08:00|    • Ngã 4 An Sương|   • Thốt Nốt (QL91)|   5h10m|Limousine Phòng Đ...|   220.000đ|\n",
            "|    190|           Mạnh Hùng|07-03-2025|   TP.HCM - Can Tho|         05:51|       09:21|• Cầu vượt Tân Th...|• Bến xe trung tâ...|   3h30m|  Limousine 24 Phòng|   200.000đ|\n",
            "|    191|           Mạnh Hùng|07-03-2025|   TP.HCM - Can Tho|         05:40|       09:30|          • Ngã 4 Ga|• Bến xe trung tâ...|   3h50m|Limousine 24 Phòn...|   687.000đ|\n",
            "|    192|            Tân Niên|07-03-2025|   TP.HCM - Can Tho|         03:10|       06:45|• Trạm thu phí An...|• Bến Xe Trung Tâ...|   3h35m|Limousine Phòng Đ...|Từ 350.000đ|\n",
            "|    193|            Tân Niên|07-03-2025|   TP.HCM - Can Tho|         03:10|       07:00|• Trạm thu phí An...|• Trạm Xăng Dầu T...|   3h50m|Limousine Phòng Đ...|Từ 350.000đ|\n",
            "|    194|           Mạnh Hùng|07-03-2025|   TP.HCM - Can Tho|         05:30|       09:30| • Ngã Tư Bình Phước|• Bến xe trung tâ...|      4h|Limousine 24 Phòn...|Từ 350.000đ|\n",
            "|    195|           Mạnh Hùng|07-03-2025|   TP.HCM - Can Tho|         06:10|       09:30|   • Ngã 4 An Sương.|• Bến xe trung tâ...|   3h20m|Limousine 24 Phòn...|Từ 350.000đ|\n",
            "|    196|            Tân Niên|07-03-2025|   TP.HCM - Can Tho|         02:50|       06:45|    • Ngã 4 An Sương|• Bến Xe Trung Tâ...|   3h55m|Limousine Phòng Đ...|Từ 350.000đ|\n",
            "|    197|            Tân Niên|07-03-2025|   TP.HCM - Can Tho|         03:10|       07:30|• Trạm thu phí An...|      • Bến xe Ô Môn|   4h20m|Limousine Phòng Đ...|Từ 350.000đ|\n",
            "|    198|            Tân Niên|07-03-2025|   TP.HCM - Can Tho|         02:50|       07:00|    • Ngã 4 An Sương|• Trạm Xăng Dầu T...|   4h10m|Limousine Phòng Đ...|Từ 350.000đ|\n",
            "|    199|           Mạnh Hùng|07-03-2025|   TP.HCM - Can Tho|         05:31|       09:21|          • Ngã 4 Ga|• Bến xe trung tâ...|   3h50m|  Limousine 24 Phòng|Từ 350.000đ|\n",
            "|    200|           Mạnh Hùng|07-03-2025|   TP.HCM - Can Tho|         05:50|       09:30|• Cầu Vượt Quang ...|• Bến xe trung tâ...|   3h40m|Limousine 24 Phòn...|Từ 350.000đ|\n",
            "|    201|           Mạnh Hùng|07-03-2025|   TP.HCM - Can Tho|         05:20|       09:30|• Cầu vượt Linh Xuân|• Bến xe trung tâ...|   4h10m|Limousine 24 Phòn...|Từ 350.000đ|\n",
            "|    202|           Mạnh Hùng|07-03-2025|   TP.HCM - Can Tho|         05:21|       09:21| • Ngã Tư Bình Phước|• Bến xe trung tâ...|      4h|  Limousine 24 Phòng|Từ 350.000đ|\n",
            "|    203|Duy Thảo (Kiên Gi...|07-03-2025|   TP.HCM - Can Tho|         05:00|       09:50|  • Ngã 4 Bình Phước|• Bến xe trung tâ...|   4h50m|   Giường nằm 40 chỗ|Từ 350.000đ|\n",
            "|    204|           Mạnh Hùng|07-03-2025|   TP.HCM - Can Tho|         05:11|       09:21|• Cầu vượt Linh Xuân|• Bến xe trung tâ...|   4h10m|  Limousine 24 Phòng|Từ 350.000đ|\n",
            "|    205|           Mạnh Hùng|07-03-2025|   TP.HCM - Can Tho|         05:41|       09:21|• Cầu Vượt Quang ...|• Bến xe trung tâ...|   3h40m|  Limousine 24 Phòng|Từ 350.000đ|\n",
            "|    206|Duy Thảo (Kiên Gi...|07-03-2025|   TP.HCM - Can Tho|         05:20|       09:50|   • Ngã Tư An Sương|• Bến xe trung tâ...|   4h30m|   Giường nằm 40 chỗ|Từ 350.000đ|\n",
            "|    207|            Hải Luân|07-03-2025|   TP.HCM - Can Tho|         01:32|       06:00|• Ngã 4 Bình Phướ...|• Bến xe trung tâ...|   4h28m| Limousine 34 giường|Từ 350.000đ|\n",
            "|    208|           Mạnh Hùng|07-03-2025|   TP.HCM - Can Tho|         06:11|       09:21| • Cổng KCN Vĩnh Lộc|• Bến xe trung tâ...|   3h10m|  Limousine 24 Phòng|   200.000đ|\n",
            "|    209|           Mạnh Hùng|07-03-2025|   TP.HCM - Can Tho|         06:11|       09:21|      • Ngã 4 Gò Mây|• Bến xe trung tâ...|   3h10m|  Limousine 24 Phòng|   200.000đ|\n",
            "|    210|           Liên Hưng|07-03-2025|   TP.HCM - Can Tho|         01:00|       05:00|• Ngã tư An Sương...|• Bến xe trung tâ...|      4h|Limousine 21 phòn...|   200.000đ|\n",
            "|    211|            Tân Niên|07-03-2025|   TP.HCM - Can Tho|         01:00|       04:50|• Cổng Đại Học Nô...|• Trạm Xăng Dầu T...|   3h50m|Limousine Phòng Đ...|   200.000đ|\n",
            "|    212|            Tân Niên|07-03-2025|   TP.HCM - Can Tho|         01:00|       05:20|• Cổng Đại Học Nô...|      • Bến xe Ô Môn|   4h20m|Limousine Phòng Đ...|   230.000đ|\n",
            "|    213|            Tân Niên|07-03-2025|   TP.HCM - Can Tho|         01:00|       06:20|• Cổng Đại Học Nô...|        • Vĩnh Thạnh|   5h20m|Limousine Phòng Đ...|   280.000đ|\n",
            "|    214|            Tân Niên|07-03-2025|   TP.HCM - Can Tho|         01:30|       04:50|    • Ngã 4 An Sương|• Trạm Xăng Dầu T...|   3h20m|Limousine Phòng Đ...|   250.000đ|\n",
            "|    215|          Hiệp Thành|07-03-2025|  TP.HCM - An Giang|         07:00|       12:00|   • Bến xe Miền Tây|   • Bến xe Tân Châu|      5h|Limousine 34 phòn...|   210.000đ|\n",
            "|    216|   Thiên Thiên Hương|07-03-2025|  TP.HCM - An Giang|         21:30|       03:10|• Bến Xe Miền Tây...|      • Vp. Tân Châu|   5h40m|Limousine 34 Phòn...|   210.000đ|\n",
            "|    217|   Thiên Thiên Hương|07-03-2025|  TP.HCM - An Giang|         13:30|       19:10|• Bến Xe Miền Tây...|      • Vp. Tân Châu|   5h40m|Limousine 34 Phòn...|   210.000đ|\n",
            "|    218|   Thiên Thiên Hương|07-03-2025|  TP.HCM - An Giang|         12:30|       19:10| • Văn phòng Sài Gòn|      • Vp. Tân Châu|   6h40m|Limousine 34 Phòn...|   210.000đ|\n",
            "|    219|   Thiên Thiên Hương|07-03-2025|  TP.HCM - An Giang|         09:00|       14:40|• Bến Xe Miền Tây...|      • Vp. Tân Châu|   5h40m|Limousine 34 Phòn...|   250.000đ|\n",
            "|    220|          Hiệp Thành|07-03-2025|  TP.HCM - An Giang|         19:00|       00:00|   • Bến xe Miền Tây|   • Bến xe Tân Châu|      5h|Limousine 34 phòn...|   210.000đ|\n",
            "|    221|          Hiệp Thành|07-03-2025|  TP.HCM - An Giang|         13:00|       18:00|   • Bến xe Miền Tây|   • Bến xe Tân Châu|      5h|   Giường nằm 40 chỗ|   210.000đ|\n",
            "|    222|          Hiệp Thành|07-03-2025|  TP.HCM - An Giang|         15:00|       20:00|   • Bến xe Miền Tây|   • Bến xe Tân Châu|      5h|Limousine 34 phòn...|   250.000đ|\n",
            "|    223|           Anh Chính|07-03-2025|  TP.HCM - An Giang|         19:45|       01:20|• Sài Gòn - Nga...|• Bến xe khách Óc Eo|   5h35m|   Giường nằm 40 chỗ|   210.000đ|\n",
            "|    224|     Quang Hạnh (NT)|07-03-2025|  TP.HCM - An Giang|         21:30|       05:15|• Ngã tư An Sương...|   • Bến Xe Châu Đốc|   7h45m|  Limousine 24 phòng|   210.000đ|\n",
            "|    225|   Thiên Thiên Hương|07-03-2025|  TP.HCM - An Giang|         11:00|       17:40| • Văn phòng Sài Gòn|      • Vp. Tân Châu|   6h40m|Limousine 34 Phòn...|   210.000đ|\n",
            "|    226|   Thiên Thiên Hương|07-03-2025|  TP.HCM - An Giang|         07:30|       13:10|• Bến Xe Miền Tây...|      • Vp. Tân Châu|   5h40m|Limousine 34 Phòn...|   210.000đ|\n",
            "|    227|          Hiệp Thành|07-03-2025|  TP.HCM - An Giang|         08:00|       13:00|   • Bến xe Miền Tây|   • Bến xe Tân Châu|      5h|Limousine 34 phòn...|   210.000đ|\n",
            "|    228|          Hiệp Thành|07-03-2025|  TP.HCM - An Giang|         19:00|       23:00|   • Bến xe Miền Tây|   • Bến phà Chợ Vàm|      4h|Limousine 34 phòn...|   210.000đ|\n",
            "|    229|     Quang Hạnh (NT)|07-03-2025|  TP.HCM - An Giang|         21:30|       04:00|• Ngã tư An Sương...|• Sân vận động An...|   6h30m|  Limousine 24 phòng|   210.000đ|\n",
            "|    230|           Anh Chính|07-03-2025|  TP.HCM - An Giang|         06:15|       11:50|• Sài Gòn - Nga...|• Bến xe khách Óc Eo|   5h35m|   Giường nằm 40 chỗ|   210.000đ|\n",
            "|    231|     Quang Hạnh (NT)|07-03-2025|  TP.HCM - An Giang|         21:30|       05:30|• Ngã tư An Sương...|• Miếu Bà Chúa Xứ...|      8h|  Limousine 24 phòng|   210.000đ|\n",
            "|    232|   Thiên Thiên Hương|07-03-2025|  TP.HCM - An Giang|         17:00|       22:40|• Bến Xe Miền Tây...|      • Vp. Tân Châu|   5h40m|Limousine 34 Phòn...|   210.000đ|\n",
            "|    233|          Hiệp Thành|07-03-2025|  TP.HCM - An Giang|         17:00|       22:00|   • Bến xe Miền Tây|   • Bến xe Tân Châu|      5h|Limousine 34 phòn...|   210.000đ|\n",
            "|    234|   Thiên Thiên Hương|07-03-2025|  TP.HCM - An Giang|         06:30|       13:10| • Văn phòng Sài Gòn|      • Vp. Tân Châu|   6h40m|Limousine 34 Phòn...|   210.000đ|\n",
            "|    235|   Thiên Thiên Hương|07-03-2025|  TP.HCM - An Giang|         18:00|       00:40| • Văn phòng Sài Gòn|      • Vp. Tân Châu|   6h40m|Limousine 34 Phòn...|   210.000đ|\n",
            "|    236|   Thiên Thiên Hương|07-03-2025|  TP.HCM - An Giang|         14:30|       21:10| • Văn phòng Sài Gòn|      • Vp. Tân Châu|   6h40m|Limousine 34 Phòn...|   210.000đ|\n",
            "|    237|   Thiên Thiên Hương|07-03-2025|  TP.HCM - An Giang|         10:30|       16:10|• Bến Xe Miền Tây...|      • Vp. Tân Châu|   5h40m|Limousine 34 Phòn...|   210.000đ|\n",
            "|    238|   Thiên Thiên Hương|07-03-2025|  TP.HCM - An Giang|         09:30|       16:10| • Văn phòng Sài Gòn|      • Vp. Tân Châu|   6h40m|Limousine 34 Phòn...|   210.000đ|\n",
            "|    239|   Thiên Thiên Hương|07-03-2025|  TP.HCM - An Giang|         15:30|       21:10|• Bến Xe Miền Tây...|      • Vp. Tân Châu|   5h40m|Limousine 34 Phòn...|   210.000đ|\n",
            "|    240|   Thiên Thiên Hương|07-03-2025|  TP.HCM - An Giang|         12:00|       17:40|• Bến Xe Miền Tây...|      • Vp. Tân Châu|   5h40m|Limousine 34 Phòn...|   210.000đ|\n",
            "|    241|   Thiên Thiên Hương|07-03-2025|  TP.HCM - An Giang|         20:30|       03:10| • Văn phòng Sài Gòn|      • Vp. Tân Châu|   6h40m|Limousine 34 Phòn...|   200.000đ|\n",
            "|    242|   Thiên Thiên Hương|07-03-2025|  TP.HCM - An Giang|         08:00|       14:40| • Văn phòng Sài Gòn|      • Vp. Tân Châu|   6h40m|Limousine 34 Phòn...|   220.000đ|\n",
            "|    243|   Thiên Thiên Hương|07-03-2025|  TP.HCM - An Giang|         16:00|       22:40| • Văn phòng Sài Gòn|      • Vp. Tân Châu|   6h40m|Limousine 34 Phòn...|   220.000đ|\n",
            "|    244|          Hiệp Thành|07-03-2025|  TP.HCM - An Giang|         21:01|       02:01|   • Bến xe Miền Tây|   • Bến xe Tân Châu|      5h|Limousine 34 phòn...|   200.000đ|\n",
            "|    245|          Hiệp Thành|07-03-2025|  TP.HCM - An Giang|         21:01|       01:01|   • Bến xe Miền Tây|   • Bến phà Chợ Vàm|      4h|Limousine 34 phòn...|   200.000đ|\n",
            "|    246|          Hiệp Thành|07-03-2025|  TP.HCM - An Giang|         21:00|       02:00|   • Bến xe Miền Tây|   • Bến xe Tân Châu|      5h|Limousine 34 phòn...|   220.000đ|\n",
            "|    247|          Hiệp Thành|07-03-2025|  TP.HCM - An Giang|         08:00|       12:00|   • Bến xe Miền Tây|   • Bến phà Chợ Vàm|      4h|Limousine 34 phòn...|   210.000đ|\n",
            "|    248|          Hiệp Thành|07-03-2025|  TP.HCM - An Giang|         11:00|       16:00|   • Bến xe Miền Tây|   • Bến xe Tân Châu|      5h|Limousine 34 phòn...|   220.000đ|\n",
            "|    249|          Hiệp Thành|07-03-2025|  TP.HCM - An Giang|         21:00|       01:00|   • Bến xe Miền Tây|   • Bến phà Chợ Vàm|      4h|Limousine 34 phòn...|   200.000đ|\n",
            "|    250|          Hiệp Thành|07-03-2025|  TP.HCM - An Giang|         12:00|       17:00|   • Bến xe Miền Tây|   • Bến xe Tân Châu|      5h|Limousine 34 phòn...|   210.000đ|\n",
            "|    251|          Hiệp Thành|07-03-2025|  TP.HCM - An Giang|         09:00|       14:00|   • Bến xe Miền Tây|   • Bến xe Tân Châu|      5h|Limousine 34 phòn...|   200.000đ|\n",
            "|    252|          Hiệp Thành|07-03-2025|  TP.HCM - An Giang|         10:00|       15:00|   • Bến xe Miền Tây|   • Bến xe Tân Châu|      5h|Limousine 34 phòn...|   220.000đ|\n",
            "|    253|          Hiệp Thành|07-03-2025|  TP.HCM - An Giang|         13:00|       17:00|   • Bến xe Miền Tây|   • Bến phà Chợ Vàm|      4h|   Giường nằm 40 chỗ|   200.000đ|\n",
            "|    254|          Hiệp Thành|07-03-2025|  TP.HCM - An Giang|         17:00|       21:00|   • Bến xe Miền Tây|   • Bến phà Chợ Vàm|      4h|Limousine 34 phòn...|   220.000đ|\n",
            "|    255|          Hiệp Thành|07-03-2025|  TP.HCM - An Giang|         09:00|       13:00|   • Bến xe Miền Tây|   • Bến phà Chợ Vàm|      4h|Limousine 34 phòn...|   200.000đ|\n",
            "|    256|          Hiệp Thành|07-03-2025|  TP.HCM - An Giang|         10:00|       14:00|   • Bến xe Miền Tây|   • Bến phà Chợ Vàm|      4h|Limousine 34 phòn...|   220.000đ|\n",
            "|    257|          Hiệp Thành|07-03-2025|  TP.HCM - An Giang|         15:00|       19:00|   • Bến xe Miền Tây|   • Bến phà Chợ Vàm|      4h|Limousine 34 phòn...|   200.000đ|\n",
            "|    258|          Hiệp Thành|07-03-2025|  TP.HCM - An Giang|         12:00|       16:00|   • Bến xe Miền Tây|   • Bến phà Chợ Vàm|      4h|Limousine 34 phòn...|   250.000đ|\n",
            "|    259|          Hiệp Thành|07-03-2025|  TP.HCM - An Giang|         11:00|       15:00|   • Bến xe Miền Tây|   • Bến phà Chợ Vàm|      4h|Limousine 34 phòn...|   200.000đ|\n",
            "|    260|          Hiệp Thành|07-03-2025|  TP.HCM - An Giang|         07:00|       11:00|   • Bến xe Miền Tây|   • Bến phà Chợ Vàm|      4h|Limousine 34 phòn...|   200.000đ|\n",
            "|    261|   Thiên Thiên Hương|07-03-2025|  TP.HCM - An Giang|         21:20|       02:20|    • Ngã 4 An Sương|      • Vp. Tân Châu|      5h|Limousine 34 Phòn...|   250.000đ|\n",
            "|    262|   Thiên Thiên Hương|07-03-2025|  TP.HCM - An Giang|         09:20|       14:20|    • Ngã 4 An Sương|      • Vp. Tân Châu|      5h|Limousine 34 Phòn...|   250.000đ|\n",
            "|    263|     Quang Hạnh (NT)|07-03-2025|  TP.HCM - An Giang|         21:30|       06:45|• Ngã tư An Sương...|  • Bến Xe Tịnh Biên|   9h15m|  Limousine 24 phòng|   250.000đ|\n",
            "|    264|     Quang Hạnh (NT)|07-03-2025|  TP.HCM - An Giang|         20:50|       05:30|• Cổng Đại Học Nô...|• Miếu Bà Chúa Xứ...|   8h40m|  Limousine 24 phòng|   190.000đ|\n",
            "|    265|     Quang Hạnh (NT)|07-03-2025|  TP.HCM - An Giang|         21:05|       05:30|  • Ngã 4 Bình Phước|• Miếu Bà Chúa Xứ...|   8h25m|  Limousine 24 phòng|   190.000đ|\n",
            "|    266|     Quang Hạnh (NT)|07-03-2025|  TP.HCM - An Giang|         20:50|       05:15|• Cổng Đại Học Nô...|   • Bến Xe Châu Đốc|   8h25m|  Limousine 24 phòng|   190.000đ|\n",
            "|    267|     Quang Hạnh (NT)|07-03-2025|  TP.HCM - An Giang|         21:05|       06:45|  • Ngã 4 Bình Phước|  • Bến Xe Tịnh Biên|   9h40m|  Limousine 24 phòng|   190.000đ|\n",
            "|    268|     Quang Hạnh (NT)|07-03-2025|  TP.HCM - An Giang|         21:05|       05:15|  • Ngã 4 Bình Phước|   • Bến Xe Châu Đốc|   8h10m|  Limousine 24 phòng|   190.000đ|\n",
            "|    269|     Quang Hạnh (NT)|07-03-2025|  TP.HCM - An Giang|         20:50|       04:00|• Cổng Đại Học Nô...|• Sân vận động An...|   7h10m|  Limousine 24 phòng|   200.000đ|\n",
            "|    270|     Quang Hạnh (NT)|07-03-2025|  TP.HCM - An Giang|         20:50|       06:45|• Cổng Đại Học Nô...|  • Bến Xe Tịnh Biên|   9h55m|  Limousine 24 phòng|   200.000đ|\n",
            "|    271|     Quang Hạnh (NT)|07-03-2025|  TP.HCM - An Giang|         21:05|       04:00|  • Ngã 4 Bình Phước|• Sân vận động An...|   6h55m|  Limousine 24 phòng|   200.000đ|\n",
            "|    272|           Huệ Nghĩa|07-03-2025|  TP.HCM - An Giang|         14:00|       20:02|• 508 Kinh Dương ...|    • Vp. Long Xuyên|    6h2m| Limousine 34 Giường|   200.000đ|\n",
            "|    273|           Huệ Nghĩa|07-03-2025|  TP.HCM - An Giang|         19:45|       04:02|       • SG. Sài Gòn|       • Vp. Tri Tôn|   8h17m| Limousine 34 Giường|   200.000đ|\n",
            "|    274|           Huệ Nghĩa|07-03-2025|  TP.HCM - An Giang|         20:30|       04:02|• 508 Kinh Dương ...|       • Vp. Tri Tôn|   7h32m| Limousine 34 Giường|   210.000đ|\n",
            "|    275|           Huệ Nghĩa|07-03-2025|  TP.HCM - An Giang|         09:15|       16:02|       • SG. Sài Gòn|    • Vp. Long Xuyên|   6h47m| Limousine 34 Giường|   200.000đ|\n",
            "|    276|           Huệ Nghĩa|07-03-2025|  TP.HCM - An Giang|         13:15|       20:02|       • SG. Sài Gòn|    • Vp. Long Xuyên|   6h47m| Limousine 34 Giường|   200.000đ|\n",
            "|    277|           Huệ Nghĩa|07-03-2025|  TP.HCM - An Giang|         09:15|       17:32|       • SG. Sài Gòn|       • Vp. Tri Tôn|   8h17m| Limousine 34 Giường|   190.000đ|\n",
            "|    278|           Huệ Nghĩa|07-03-2025|  TP.HCM - An Giang|         20:00|       03:02|     • Trạm An Sương|             • Óc Eo|    7h2m|   Giường nằm 40 chỗ|   200.000đ|\n",
            "|    279|           Huệ Nghĩa|07-03-2025|  TP.HCM - An Giang|         22:00|       05:32|     • Trạm An Sương|       • Vp. Tri Tôn|   7h32m|   Giường nằm 40 chỗ|   200.000đ|\n",
            "|    280|           Huệ Nghĩa|07-03-2025|  TP.HCM - An Giang|         20:00|       02:02|     • Trạm An Sương|    • Vp. Long Xuyên|    6h2m|   Giường nằm 40 chỗ|   250.000đ|\n",
            "|    281|           Huệ Nghĩa|07-03-2025|  TP.HCM - An Giang|         20:00|       02:42|     • Trạm An Sương|           • Núi Sập|   6h42m|   Giường nằm 40 chỗ|   200.000đ|\n",
            "|    282|           Huệ Nghĩa|07-03-2025|  TP.HCM - An Giang|         10:00|       16:02|• 508 Kinh Dương ...|    • Vp. Long Xuyên|    6h2m| Limousine 34 Giường|   200.000đ|\n",
            "|    283|           Huệ Nghĩa|07-03-2025|  TP.HCM - An Giang|         10:00|       17:32|• 508 Kinh Dương ...|       • Vp. Tri Tôn|   7h32m| Limousine 34 Giường|   250.000đ|\n",
            "|    284|           Huệ Nghĩa|07-03-2025|  TP.HCM - An Giang|         22:00|       04:02|     • Trạm An Sương|    • Vp. Long Xuyên|    6h2m|   Giường nằm 40 chỗ|   250.000đ|\n",
            "|    285|           Thảo Châu|07-03-2025|TP.HCM - Tien Giang|         07:40|       09:20|         • VP Quận 5|         • VP Mỹ Tho|   1h40m|Ghế ngồi 28 chỗ (...|    90.000đ|\n",
            "|    286|           Thảo Châu|07-03-2025|TP.HCM - Tien Giang|         18:10|       19:50|         • VP Quận 5|         • VP Mỹ Tho|   1h40m|Ghế ngồi 28 chỗ (...|    90.000đ|\n",
            "|    287|           Thảo Châu|07-03-2025|TP.HCM - Tien Giang|         05:40|       07:20|         • VP Quận 5|         • VP Mỹ Tho|   1h40m|Ghế ngồi 28 chỗ (...|    90.000đ|\n",
            "|    288|           Thảo Châu|07-03-2025|TP.HCM - Tien Giang|         08:10|       09:50|         • VP Quận 5|         • VP Mỹ Tho|   1h40m|Ghế ngồi 28 chỗ (...|    90.000đ|\n",
            "|    289|             Duy Quý|07-03-2025|TP.HCM - Tien Giang|         20:00|       22:00|             • VP SG|         • VP Mỹ Tho|      2h|     Ghế ngồi 28 chỗ|   100.000đ|\n",
            "|    290|             Duy Quý|07-03-2025|TP.HCM - Tien Giang|         10:30|       12:30|             • VP SG|         • VP Mỹ Tho|      2h|     Ghế ngồi 28 chỗ|   100.000đ|\n",
            "|    291|             Duy Quý|07-03-2025|TP.HCM - Tien Giang|         09:30|       11:30|             • VP SG|         • VP Mỹ Tho|      2h|     Ghế ngồi 28 chỗ|   100.000đ|\n",
            "|    292|             Duy Quý|07-03-2025|TP.HCM - Tien Giang|         14:00|       16:00|             • VP SG|         • VP Mỹ Tho|      2h|     Ghế ngồi 28 chỗ|   100.000đ|\n",
            "|    293|   Kim Anh (Bến Tre)|07-03-2025|TP.HCM - Tien Giang|         10:00|       11:20| • Văn phòng Sài Gòn| • Ngã 3 Trung Lương|   1h20m|     Ghế ngồi 29 chỗ|   110.000đ|\n",
            "|    294|   Vũ Linh limousine|07-03-2025|TP.HCM - Tien Giang|         07:00|       08:45| • Văn Phòng Sài Gòn|   • Cai Lậy (QL 1A)|   1h45m|Huyndai Solati 11...|Từ 200.000đ|\n",
            "|    295|   Kim Anh (Bến Tre)|07-03-2025|TP.HCM - Tien Giang|         13:00|       14:20| • Văn phòng Sài Gòn| • Ngã 3 Trung Lương|   1h20m|Ghế ngồi 34 chỗ (...|   110.000đ|\n",
            "|    296|  Ngọc Ánh (Sài Gòn)|07-03-2025|TP.HCM - Tien Giang|         22:00|       23:50|• Văn phòng Sài G...|• Dọc Quốc Lộ Đườ...|   1h50m|   Giường nằm 44 chỗ|   180.000đ|\n",
            "|    297|   Vũ Linh limousine|07-03-2025|TP.HCM - Tien Giang|         17:00|       18:45| • Văn Phòng Sài Gòn|   • Cai Lậy (QL 1A)|   1h45m|Huyndai Solati 11...|Từ 200.000đ|\n",
            "|    298|            Trí Nhân|07-03-2025|TP.HCM - Tien Giang|         08:30|       10:42| • Văn Phòng Sài Gòn|    • Cái Bè (QL 1A)|   2h12m|   Giường nằm 41 chỗ|   180.000đ|\n",
            "|    299|   Vũ Linh limousine|07-03-2025|TP.HCM - Tien Giang|         18:00|       19:45| • Văn Phòng Sài Gòn|   • Cai Lậy (QL 1A)|   1h45m|Huyndai Solati 11...|Từ 200.000đ|\n",
            "|    300|               Hà My|07-03-2025|TP.HCM - Tien Giang|         10:00|       12:00|        • VP Sài Gòn|        • Tiền Giang|      2h|   Giường nằm 44 chỗ|   200.000đ|\n",
            "+-------+--------------------+----------+-------------------+--------------+------------+--------------------+--------------------+--------+--------------------+-----------+\n",
            "only showing top 300 rows\n",
            "\n"
          ]
        }
      ],
      "source": [
        "from pyspark.sql.window import Window\n",
        "from pyspark.sql.functions import row_number, monotonically_increasing_id\n",
        "\n",
        "bus_ticket = bus_ticket.withColumn(\"Bus_Key\", bus_ticket[\"Bus_Key\"].cast(\"int\"))\n",
        "\n",
        "# Thêm cột tạm thời để tạo thứ tự (vì monotonically_increasing_id() không liên tiếp)\n",
        "bus_ticket = bus_ticket.withColumn(\"temp_id\", monotonically_increasing_id())\n",
        "\n",
        "# Định nghĩa cửa sổ sắp xếp theo temp_id\n",
        "window_spec = Window.orderBy(\"temp_id\")\n",
        "\n",
        "# Đánh số từ 1\n",
        "bus_ticket = bus_ticket.withColumn(\"Bus_Key\", row_number().over(window_spec))\n",
        "\n",
        "# Xóa cột tạm\n",
        "bus_ticket = bus_ticket.drop(\"temp_id\")\n",
        "\n",
        "bus_ticket.show(300)"
      ]
    },
    {
      "cell_type": "code",
      "execution_count": 7,
      "metadata": {
        "colab": {
          "base_uri": "https://localhost:8080/"
        },
        "id": "IzlgPOz5ljHb",
        "outputId": "eb53016a-c0fc-4d6d-ea8f-b16c0d541ee4"
      },
      "outputs": [
        {
          "name": "stdout",
          "output_type": "stream",
          "text": [
            "+-------+-----------------+----------+----------------+--------------+------------+--------------------+--------------------+--------+--------------------+-----------+\n",
            "|Bus_Key|         Bus_Name|Start_Date|           Route|Departure_Time|Arrival_Time|     Departure_Place|       Arrival_Place|Duration|            Type_Bus|      Price|\n",
            "+-------+-----------------+----------+----------------+--------------+------------+--------------------+--------------------+--------+--------------------+-----------+\n",
            "|      1|Vũ Linh limousine|2025-07-03|TP.HCM - Can Tho|         10:00|       13:15| • Văn Phòng Sài Gòn|• Văn Phòng Công ...|   3h15m|Huyndai Solati 11...|Từ 200.000đ|\n",
            "|      2|Vũ Linh limousine|2025-07-03|TP.HCM - Can Tho|         12:00|       15:15| • Văn Phòng Sài Gòn|• Văn Phòng Công ...|   3h15m|Huyndai Solati 11...|Từ 200.000đ|\n",
            "|      3|Vũ Linh limousine|2025-07-03|TP.HCM - Can Tho|         11:01|       14:16| • Văn Phòng Sài Gòn|• Văn Phòng Công ...|   3h15m|Huyndai Solati 11...|Từ 200.000đ|\n",
            "|      4|         Văn Lang|2025-07-03|TP.HCM - Can Tho|         07:30|       11:00|• Văn Phòng Bình Tân|    • Metro Hưng Lợi|   3h30m|   Giường nằm 41 chỗ|   170.000đ|\n",
            "|      5|        Toàn Khải|2025-07-03|TP.HCM - Can Tho|         18:20|       21:50|   • Bến Xe An Sương|• Bến xe trung tâ...|   3h30m|  Limousine 34 phòng|   200.000đ|\n",
            "+-------+-----------------+----------+----------------+--------------+------------+--------------------+--------------------+--------+--------------------+-----------+\n",
            "only showing top 5 rows\n",
            "\n"
          ]
        }
      ],
      "source": [
        "from pyspark.sql.functions import to_date\n",
        "\n",
        "bus_ticket = bus_ticket.withColumn(\"Start_Date\", to_date(\"Start_Date\", \"MM-dd-yyyy\"))\n",
        "\n",
        "bus_ticket.show(5)"
      ]
    },
    {
      "cell_type": "code",
      "execution_count": 8,
      "metadata": {
        "colab": {
          "base_uri": "https://localhost:8080/"
        },
        "id": "WuUiTE2v2nf5",
        "outputId": "f782501d-9159-48ab-b76c-d9dfefe5f5e7"
      },
      "outputs": [
        {
          "name": "stdout",
          "output_type": "stream",
          "text": [
            "+-------+-----------------+----------+----------------+--------------+------------+-------------------+--------------------+--------+--------------------+-----------+\n",
            "|Bus_Key|         Bus_Name|Start_Date|           Route|Departure_Time|Arrival_Time|    Departure_Place|       Arrival_Place|Duration|            Type_Bus|      Price|\n",
            "+-------+-----------------+----------+----------------+--------------+------------+-------------------+--------------------+--------+--------------------+-----------+\n",
            "|      1|Vũ Linh limousine|2025-07-03|TP.HCM - Can Tho|         10:00|       13:15|  văn phòng sài gòn| văn phòng công t...|   3h15m|Huyndai Solati 11...|Từ 200.000đ|\n",
            "|      2|Vũ Linh limousine|2025-07-03|TP.HCM - Can Tho|         12:00|       15:15|  văn phòng sài gòn| văn phòng công t...|   3h15m|Huyndai Solati 11...|Từ 200.000đ|\n",
            "|      3|Vũ Linh limousine|2025-07-03|TP.HCM - Can Tho|         11:01|       14:16|  văn phòng sài gòn| văn phòng công t...|   3h15m|Huyndai Solati 11...|Từ 200.000đ|\n",
            "|      4|         Văn Lang|2025-07-03|TP.HCM - Can Tho|         07:30|       11:00| văn phòng bình tân|      metro hưng lợi|   3h30m|   Giường nằm 41 chỗ|   170.000đ|\n",
            "|      5|        Toàn Khải|2025-07-03|TP.HCM - Can Tho|         18:20|       21:50|    bến xe an sương| bến xe trung tâm...|   3h30m|  Limousine 34 phòng|   200.000đ|\n",
            "+-------+-----------------+----------+----------------+--------------+------------+-------------------+--------------------+--------+--------------------+-----------+\n",
            "only showing top 5 rows\n",
            "\n"
          ]
        }
      ],
      "source": [
        "from pyspark.sql.functions import regexp_replace, lower\n",
        "\n",
        "def standardize_string(text):\n",
        "  if text is not None:\n",
        "    text = lower(text)\n",
        "    text = regexp_replace(text, \"[^a-zA-Z0-9\\sáàảãạăắằẳẵặâấầẩẫậéèẻẽẹêếềểễệíìỉĩịóòỏõọôốồổỗộơớờởỡợúùủũụưứừửữựýỳỷỹỵđ]\", \"\")\n",
        "    return text\n",
        "  else:\n",
        "    return text\n",
        "\n",
        "bus_ticket = bus_ticket.withColumn(\"Departure_Place\", standardize_string(bus_ticket[\"Departure_Place\"]))\n",
        "bus_ticket = bus_ticket.withColumn(\"Arrival_Place\", standardize_string(bus_ticket[\"Arrival_Place\"]))\n",
        "\n",
        "bus_ticket.show(5)"
      ]
    },
    {
      "cell_type": "code",
      "execution_count": 9,
      "metadata": {
        "id": "iuzR06vUb7fN"
      },
      "outputs": [],
      "source": [
        "import re\n",
        "from pyspark.sql.functions import udf, round as F_round\n",
        "from pyspark.sql.types import FloatType\n",
        "\n",
        "def convert_duration(duration):\n",
        "    if duration is None:\n",
        "        return None\n",
        "    match = re.match(r\"(\\d+)h?(\\d*)m?\", duration)\n",
        "    if match:\n",
        "        hours = int(match.group(1)) if match.group(1) else 0\n",
        "        minutes = int(match.group(2)) if match.group(2) else 0\n",
        "        return hours + minutes / 60\n",
        "    return None\n",
        "\n",
        "convert_duration_udf = udf(convert_duration, FloatType())\n",
        "\n",
        "bus_ticket = bus_ticket.withColumn(\"Duration\", F_round(convert_duration_udf(bus_ticket[\"Duration\"]), 2))"
      ]
    },
    {
      "cell_type": "code",
      "execution_count": 10,
      "metadata": {
        "colab": {
          "base_uri": "https://localhost:8080/"
        },
        "id": "0u7XkLmxfMNt",
        "outputId": "66888f51-e74d-4aea-d893-869920fcaafd"
      },
      "outputs": [
        {
          "name": "stdout",
          "output_type": "stream",
          "text": [
            "+-------+-----------------+----------+----------------+--------------+------------+-------------------+--------------------+--------+--------------------+-----------+\n",
            "|Bus_Key|         Bus_Name|Start_Date|           Route|Departure_Time|Arrival_Time|    Departure_Place|       Arrival_Place|Duration|            Type_Bus|      Price|\n",
            "+-------+-----------------+----------+----------------+--------------+------------+-------------------+--------------------+--------+--------------------+-----------+\n",
            "|      1|Vũ Linh limousine|2025-07-03|TP.HCM - Can Tho|         10:00|       13:15|  văn phòng sài gòn| văn phòng công t...|    3.25|Huyndai Solati 11...|Từ 200.000đ|\n",
            "|      2|Vũ Linh limousine|2025-07-03|TP.HCM - Can Tho|         12:00|       15:15|  văn phòng sài gòn| văn phòng công t...|    3.25|Huyndai Solati 11...|Từ 200.000đ|\n",
            "|      3|Vũ Linh limousine|2025-07-03|TP.HCM - Can Tho|         11:01|       14:16|  văn phòng sài gòn| văn phòng công t...|    3.25|Huyndai Solati 11...|Từ 200.000đ|\n",
            "|      4|         Văn Lang|2025-07-03|TP.HCM - Can Tho|         07:30|       11:00| văn phòng bình tân|      metro hưng lợi|     3.5|   Giường nằm 41 chỗ|   170.000đ|\n",
            "|      5|        Toàn Khải|2025-07-03|TP.HCM - Can Tho|         18:20|       21:50|    bến xe an sương| bến xe trung tâm...|     3.5|  Limousine 34 phòng|   200.000đ|\n",
            "|      6|         Văn Lang|2025-07-03|TP.HCM - Can Tho|         09:00|       13:00|   văn phòng quận 5|      metro hưng lợi|     4.0|   Giường nằm 41 chỗ|   170.000đ|\n",
            "|      7|         Văn Lang|2025-07-03|TP.HCM - Can Tho|         14:00|       18:30|   văn phòng quận 5|  văn phòng thốt nốt|     4.5|   Giường nằm 41 chỗ|   170.000đ|\n",
            "|      8|         Văn Lang|2025-07-03|TP.HCM - Can Tho|         07:00|       11:00|   văn phòng quận 5|      metro hưng lợi|     4.0|   Giường nằm 41 chỗ|   170.000đ|\n",
            "|      9|         Trí Nhân|2025-07-03|TP.HCM - Can Tho|         08:30|       11:57|    bến xe miền tây| cổng bến xe trun...|    3.45|   Giường nằm 41 chỗ|   180.000đ|\n",
            "|     10|         Trí Nhân|2025-07-03|TP.HCM - Can Tho|         08:30|       11:57|  văn phòng sài gòn| cổng bến xe trun...|    3.45|   Giường nằm 41 chỗ|   180.000đ|\n",
            "+-------+-----------------+----------+----------------+--------------+------------+-------------------+--------------------+--------+--------------------+-----------+\n",
            "only showing top 10 rows\n",
            "\n"
          ]
        }
      ],
      "source": [
        "bus_ticket.show(10)"
      ]
    },
    {
      "cell_type": "code",
      "execution_count": 11,
      "metadata": {
        "id": "D_x9mBHWfRKM"
      },
      "outputs": [],
      "source": [
        "import re\n",
        "from pyspark.sql.functions import udf, col\n",
        "from pyspark.sql.types import IntegerType\n",
        "\n",
        "def remove_price_chars(price_str):\n",
        "    if price_str is not None:\n",
        "        price_str = re.sub(r\"[^0-9]\", \"\", price_str)\n",
        "        return int(price_str) if price_str else None\n",
        "    return None\n",
        "\n",
        "remove_price_chars_udf = udf(remove_price_chars, IntegerType())\n",
        "\n",
        "bus_ticket = bus_ticket.withColumn(\"Price\", remove_price_chars_udf(col(\"Price\")))"
      ]
    },
    {
      "cell_type": "code",
      "execution_count": 12,
      "metadata": {
        "colab": {
          "base_uri": "https://localhost:8080/"
        },
        "id": "9882fPb1h8_O",
        "outputId": "25e59ee2-92d8-4f27-ca43-00cc2b64ac15"
      },
      "outputs": [
        {
          "name": "stdout",
          "output_type": "stream",
          "text": [
            "+-------+--------------------+----------+----------------+--------------+------------+--------------------+--------------------+--------+--------------------+------+\n",
            "|Bus_Key|            Bus_Name|Start_Date|           Route|Departure_Time|Arrival_Time|     Departure_Place|       Arrival_Place|Duration|            Type_Bus| Price|\n",
            "+-------+--------------------+----------+----------------+--------------+------------+--------------------+--------------------+--------+--------------------+------+\n",
            "|      1|   Vũ Linh limousine|2025-07-03|TP.HCM - Can Tho|         10:00|       13:15|   văn phòng sài gòn| văn phòng công t...|    3.25|Huyndai Solati 11...|200000|\n",
            "|      2|   Vũ Linh limousine|2025-07-03|TP.HCM - Can Tho|         12:00|       15:15|   văn phòng sài gòn| văn phòng công t...|    3.25|Huyndai Solati 11...|200000|\n",
            "|      3|   Vũ Linh limousine|2025-07-03|TP.HCM - Can Tho|         11:01|       14:16|   văn phòng sài gòn| văn phòng công t...|    3.25|Huyndai Solati 11...|200000|\n",
            "|      4|            Văn Lang|2025-07-03|TP.HCM - Can Tho|         07:30|       11:00|  văn phòng bình tân|      metro hưng lợi|     3.5|   Giường nằm 41 chỗ|170000|\n",
            "|      5|           Toàn Khải|2025-07-03|TP.HCM - Can Tho|         18:20|       21:50|     bến xe an sương| bến xe trung tâm...|     3.5|  Limousine 34 phòng|200000|\n",
            "|      6|            Văn Lang|2025-07-03|TP.HCM - Can Tho|         09:00|       13:00|    văn phòng quận 5|      metro hưng lợi|     4.0|   Giường nằm 41 chỗ|170000|\n",
            "|      7|            Văn Lang|2025-07-03|TP.HCM - Can Tho|         14:00|       18:30|    văn phòng quận 5|  văn phòng thốt nốt|     4.5|   Giường nằm 41 chỗ|170000|\n",
            "|      8|            Văn Lang|2025-07-03|TP.HCM - Can Tho|         07:00|       11:00|    văn phòng quận 5|      metro hưng lợi|     4.0|   Giường nằm 41 chỗ|170000|\n",
            "|      9|            Trí Nhân|2025-07-03|TP.HCM - Can Tho|         08:30|       11:57|     bến xe miền tây| cổng bến xe trun...|    3.45|   Giường nằm 41 chỗ|180000|\n",
            "|     10|            Trí Nhân|2025-07-03|TP.HCM - Can Tho|         08:30|       11:57|   văn phòng sài gòn| cổng bến xe trun...|    3.45|   Giường nằm 41 chỗ|180000|\n",
            "|     11|            Trí Nhân|2025-07-03|TP.HCM - Can Tho|         20:30|       23:57|     bến xe miền tây| cổng bến xe trun...|    3.45|   Giường nằm 41 chỗ|180000|\n",
            "|     12|            Trí Nhân|2025-07-03|TP.HCM - Can Tho|         20:30|       23:57|   văn phòng sài gòn| cổng bến xe trun...|    3.45|   Giường nằm 41 chỗ|180000|\n",
            "|     13|           Tuấn Hiệp|2025-07-03|TP.HCM - Can Tho|         07:30|       11:00|     bến xe an sương|  bến xe cần thơ mới|     3.5|   Giường nằm 40 chỗ|200000|\n",
            "|     14|           Tuấn Hiệp|2025-07-03|TP.HCM - Can Tho|         07:20|       11:00|    bến xe ngã tư ga|  bến xe cần thơ mới|    3.67|   Giường nằm 40 chỗ|200000|\n",
            "|     15|           Tuấn Hiệp|2025-07-03|TP.HCM - Can Tho|         19:20|       23:00|    bến xe ngã tư ga|  bến xe cần thơ mới|    3.67|   Giường nằm 44 chỗ|200000|\n",
            "|     16|           Tuấn Hiệp|2025-07-03|TP.HCM - Can Tho|         19:30|       23:00| bến xe an sương ...|  bến xe cần thơ mới|     3.5|   Giường nằm 44 chỗ|200000|\n",
            "|     17|Thiện Thành Limou...|2025-07-03|TP.HCM - Can Tho|         23:35|       05:35|          vp tân phú|         vp rạch giá|     6.0|  Limousine 24 phòng|350000|\n",
            "|     18|Thiện Thành Limou...|2025-07-03|TP.HCM - Can Tho|         23:33|       05:33|          vp tân phú|         vp rạch giá|     6.0|  Limousine 24 phòng|350000|\n",
            "|     19|Thiện Thành Limou...|2025-07-03|TP.HCM - Can Tho|         23:34|       05:34|          vp tân phú|         vp rạch giá|     6.0|  Limousine 24 phòng|350000|\n",
            "|     20|   Vũ Linh limousine|2025-07-03|TP.HCM - Can Tho|         14:00|       17:15|   văn phòng sài gòn| văn phòng công t...|    3.25|Huyndai Solati 11...|200000|\n",
            "+-------+--------------------+----------+----------------+--------------+------------+--------------------+--------------------+--------+--------------------+------+\n",
            "only showing top 20 rows\n",
            "\n"
          ]
        }
      ],
      "source": [
        "bus_ticket.show()"
      ]
    },
    {
      "cell_type": "code",
      "execution_count": 13,
      "metadata": {
        "colab": {
          "base_uri": "https://localhost:8080/"
        },
        "id": "W3WHOKlVji1U",
        "outputId": "3dda5ae6-26c2-4a41-cccf-bcbde38e5be6"
      },
      "outputs": [
        {
          "name": "stdout",
          "output_type": "stream",
          "text": [
            "root\n",
            " |-- Bus_Key: integer (nullable = false)\n",
            " |-- Bus_Name: string (nullable = true)\n",
            " |-- Start_Date: date (nullable = true)\n",
            " |-- Route: string (nullable = true)\n",
            " |-- Departure_Time: string (nullable = true)\n",
            " |-- Arrival_Time: string (nullable = true)\n",
            " |-- Departure_Place: string (nullable = true)\n",
            " |-- Arrival_Place: string (nullable = true)\n",
            " |-- Duration: float (nullable = true)\n",
            " |-- Type_Bus: string (nullable = true)\n",
            " |-- Price: integer (nullable = true)\n",
            "\n"
          ]
        }
      ],
      "source": [
        "bus_ticket.printSchema()"
      ]
    }
  ],
  "metadata": {
    "colab": {
      "provenance": []
    },
    "kernelspec": {
      "display_name": "Python 3",
      "name": "python3"
    },
    "language_info": {
      "name": "python"
    }
  },
  "nbformat": 4,
  "nbformat_minor": 0
}
