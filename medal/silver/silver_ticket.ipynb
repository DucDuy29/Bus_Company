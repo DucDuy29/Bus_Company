{
  "cells": [
    {
      "cell_type": "code",
      "execution_count": 1,
      "metadata": {
        "id": "ARR-IyQhJ_8b"
      },
      "outputs": [],
      "source": [
        "from pyspark.sql import SparkSession\n",
        "import numpy as np\n",
        "import pandas as pd\n",
        "import os"
      ]
    },
    {
      "cell_type": "code",
      "execution_count": 2,
      "metadata": {
        "id": "bklgf6kGKSMo"
      },
      "outputs": [],
      "source": [
        "spark = SparkSession.builder \\\n",
        "        .appName(\"Silver\") \\\n",
        "        .master(\"local[*]\") \\\n",
        "        .getOrCreate()"
      ]
    },
    {
      "cell_type": "markdown",
      "metadata": {},
      "source": [
        "#### Import file"
      ]
    },
    {
      "cell_type": "code",
      "execution_count": 3,
      "metadata": {
        "colab": {
          "base_uri": "https://localhost:8080/"
        },
        "id": "NfxL7FNfLP5Q",
        "outputId": "33f5cddd-102b-4544-fb2a-dc07349c00a4"
      },
      "outputs": [
        {
          "name": "stdout",
          "output_type": "stream",
          "text": [
            "+-------+--------------------+----------+----------------+--------------+------------+--------------------+--------------------+--------+--------------------+-----------+\n",
            "|Bus_Key|            Bus_Name|Start_Date|           Route|Departure_Time|Arrival_Time|     Departure_Place|       Arrival_Place|Duration|            Type_Bus|      Price|\n",
            "+-------+--------------------+----------+----------------+--------------+------------+--------------------+--------------------+--------+--------------------+-----------+\n",
            "|      1|   Vũ Linh limousine|07-03-2025|TP.HCM - Can Tho|         10:00|       13:15| • Văn Phòng Sài Gòn|• Văn Phòng Công ...|   3h15m|Huyndai Solati 11...|Từ 200.000đ|\n",
            "|      2|   Vũ Linh limousine|07-03-2025|TP.HCM - Can Tho|         12:00|       15:15| • Văn Phòng Sài Gòn|• Văn Phòng Công ...|   3h15m|Huyndai Solati 11...|Từ 200.000đ|\n",
            "|      3|   Vũ Linh limousine|07-03-2025|TP.HCM - Can Tho|         11:01|       14:16| • Văn Phòng Sài Gòn|• Văn Phòng Công ...|   3h15m|Huyndai Solati 11...|Từ 200.000đ|\n",
            "|      4|            Văn Lang|07-03-2025|TP.HCM - Can Tho|         07:30|       11:00|• Văn Phòng Bình Tân|    • Metro Hưng Lợi|   3h30m|   Giường nằm 41 chỗ|   170.000đ|\n",
            "|      5|           Toàn Khải|07-03-2025|TP.HCM - Can Tho|         18:20|       21:50|   • Bến Xe An Sương|• Bến xe trung tâ...|   3h30m|  Limousine 34 phòng|   200.000đ|\n",
            "|      6|            Văn Lang|07-03-2025|TP.HCM - Can Tho|         09:00|       13:00|  • Văn phòng Quận 5|    • Metro Hưng Lợi|      4h|   Giường nằm 41 chỗ|   170.000đ|\n",
            "|      7|            Văn Lang|07-03-2025|TP.HCM - Can Tho|         14:00|       18:30|  • Văn phòng Quận 5|• Văn phòng Thốt Nốt|   4h30m|   Giường nằm 41 chỗ|   170.000đ|\n",
            "|      8|            Văn Lang|07-03-2025|TP.HCM - Can Tho|         07:00|       11:00|  • Văn phòng Quận 5|    • Metro Hưng Lợi|      4h|   Giường nằm 41 chỗ|   170.000đ|\n",
            "|      9|            Trí Nhân|07-03-2025|TP.HCM - Can Tho|         08:30|       11:57|   • Bến xe Miền Tây|• Cổng Bến xe tru...|   3h27m|   Giường nằm 41 chỗ|   180.000đ|\n",
            "|     10|            Trí Nhân|07-03-2025|TP.HCM - Can Tho|         08:30|       11:57| • Văn Phòng Sài Gòn|• Cổng Bến xe tru...|   3h27m|   Giường nằm 41 chỗ|   180.000đ|\n",
            "|     11|            Trí Nhân|07-03-2025|TP.HCM - Can Tho|         20:30|       23:57|   • Bến xe Miền Tây|• Cổng Bến xe tru...|   3h27m|   Giường nằm 41 chỗ|   180.000đ|\n",
            "|     12|            Trí Nhân|07-03-2025|TP.HCM - Can Tho|         20:30|       23:57| • Văn Phòng Sài Gòn|• Cổng Bến xe tru...|   3h27m|   Giường nằm 41 chỗ|   180.000đ|\n",
            "|     13|           Tuấn Hiệp|07-03-2025|TP.HCM - Can Tho|         07:30|       11:00|   • Bến Xe An Sương|• Bến xe Cần Thơ mới|   3h30m|   Giường nằm 40 chỗ|   200.000đ|\n",
            "|     14|           Tuấn Hiệp|07-03-2025|TP.HCM - Can Tho|         07:20|       11:00|  • Bến xe Ngã Tư Ga|• Bến xe Cần Thơ mới|   3h40m|   Giường nằm 40 chỗ|   200.000đ|\n",
            "|     15|           Tuấn Hiệp|07-03-2025|TP.HCM - Can Tho|         19:20|       23:00|  • Bến xe Ngã Tư Ga|• Bến xe Cần Thơ mới|   3h40m|   Giường nằm 44 chỗ|   200.000đ|\n",
            "|     16|           Tuấn Hiệp|07-03-2025|TP.HCM - Can Tho|         19:30|       23:00|• Bến xe An Sương...|• Bến xe Cần Thơ mới|   3h30m|   Giường nằm 44 chỗ|   200.000đ|\n",
            "|     17|Thiện Thành Limou...|07-03-2025|TP.HCM - Can Tho|         23:35|       05:35|        • VP Tân Phú|       • VP Rạch Giá|      6h|  Limousine 24 phòng|   350.000đ|\n",
            "|     18|Thiện Thành Limou...|07-03-2025|TP.HCM - Can Tho|         23:33|       05:33|        • VP Tân Phú|       • VP Rạch Giá|      6h|  Limousine 24 phòng|   350.000đ|\n",
            "|     19|Thiện Thành Limou...|07-03-2025|TP.HCM - Can Tho|         23:34|       05:34|        • VP Tân Phú|       • VP Rạch Giá|      6h|  Limousine 24 phòng|   350.000đ|\n",
            "|     20|   Vũ Linh limousine|07-03-2025|TP.HCM - Can Tho|         14:00|       17:15| • Văn Phòng Sài Gòn|• Văn Phòng Công ...|   3h15m|Huyndai Solati 11...|Từ 200.000đ|\n",
            "+-------+--------------------+----------+----------------+--------------+------------+--------------------+--------------------+--------+--------------------+-----------+\n",
            "only showing top 20 rows\n",
            "\n"
          ]
        }
      ],
      "source": [
        "bus_ticket = spark.read.csv(\"../raw/bus_data_07-03-2025.csv\", header=True)\n",
        "\n",
        "bus_ticket.show(20)"
      ]
    },
    {
      "cell_type": "markdown",
      "metadata": {},
      "source": [
        "#### Check data type "
      ]
    },
    {
      "cell_type": "code",
      "execution_count": 17,
      "metadata": {
        "colab": {
          "base_uri": "https://localhost:8080/"
        },
        "id": "fP6cRrqrbsOi",
        "outputId": "15f65c05-f5d3-4c29-b3a3-844bf474944d"
      },
      "outputs": [
        {
          "name": "stdout",
          "output_type": "stream",
          "text": [
            "root\n",
            " |-- Bus_Key: string (nullable = true)\n",
            " |-- Bus_Name: string (nullable = true)\n",
            " |-- Start_Date: string (nullable = true)\n",
            " |-- Route: string (nullable = true)\n",
            " |-- Departure_Time: string (nullable = true)\n",
            " |-- Arrival_Time: string (nullable = true)\n",
            " |-- Departure_Place: string (nullable = true)\n",
            " |-- Arrival_Place: string (nullable = true)\n",
            " |-- Duration: string (nullable = true)\n",
            " |-- Type_Bus: string (nullable = true)\n",
            " |-- Price: string (nullable = true)\n",
            "\n"
          ]
        }
      ],
      "source": [
        "bus_ticket.printSchema()"
      ]
    },
    {
      "cell_type": "markdown",
      "metadata": {},
      "source": [
        "#### Edit Bus_Key and sort column Bus_Key"
      ]
    },
    {
      "cell_type": "code",
      "execution_count": 18,
      "metadata": {
        "colab": {
          "base_uri": "https://localhost:8080/"
        },
        "id": "cQy_vybRng0w",
        "outputId": "7a6168c0-ef45-4e21-9f5b-9e8a4ef5a5a7"
      },
      "outputs": [
        {
          "name": "stdout",
          "output_type": "stream",
          "text": [
            "+-------+--------------------+----------+----------------+--------------+------------+--------------------+--------------------+--------+--------------------+-----------+\n",
            "|Bus_Key|            Bus_Name|Start_Date|           Route|Departure_Time|Arrival_Time|     Departure_Place|       Arrival_Place|Duration|            Type_Bus|      Price|\n",
            "+-------+--------------------+----------+----------------+--------------+------------+--------------------+--------------------+--------+--------------------+-----------+\n",
            "|      1|   Vũ Linh limousine|07-03-2025|TP.HCM - Can Tho|         10:00|       13:15| • Văn Phòng Sài Gòn|• Văn Phòng Công ...|   3h15m|Huyndai Solati 11...|Từ 200.000đ|\n",
            "|      2|   Vũ Linh limousine|07-03-2025|TP.HCM - Can Tho|         12:00|       15:15| • Văn Phòng Sài Gòn|• Văn Phòng Công ...|   3h15m|Huyndai Solati 11...|Từ 200.000đ|\n",
            "|      3|   Vũ Linh limousine|07-03-2025|TP.HCM - Can Tho|         11:01|       14:16| • Văn Phòng Sài Gòn|• Văn Phòng Công ...|   3h15m|Huyndai Solati 11...|Từ 200.000đ|\n",
            "|      4|            Văn Lang|07-03-2025|TP.HCM - Can Tho|         07:30|       11:00|• Văn Phòng Bình Tân|    • Metro Hưng Lợi|   3h30m|   Giường nằm 41 chỗ|   170.000đ|\n",
            "|      5|           Toàn Khải|07-03-2025|TP.HCM - Can Tho|         18:20|       21:50|   • Bến Xe An Sương|• Bến xe trung tâ...|   3h30m|  Limousine 34 phòng|   200.000đ|\n",
            "|      6|            Văn Lang|07-03-2025|TP.HCM - Can Tho|         09:00|       13:00|  • Văn phòng Quận 5|    • Metro Hưng Lợi|      4h|   Giường nằm 41 chỗ|   170.000đ|\n",
            "|      7|            Văn Lang|07-03-2025|TP.HCM - Can Tho|         14:00|       18:30|  • Văn phòng Quận 5|• Văn phòng Thốt Nốt|   4h30m|   Giường nằm 41 chỗ|   170.000đ|\n",
            "|      8|            Văn Lang|07-03-2025|TP.HCM - Can Tho|         07:00|       11:00|  • Văn phòng Quận 5|    • Metro Hưng Lợi|      4h|   Giường nằm 41 chỗ|   170.000đ|\n",
            "|      9|            Trí Nhân|07-03-2025|TP.HCM - Can Tho|         08:30|       11:57|   • Bến xe Miền Tây|• Cổng Bến xe tru...|   3h27m|   Giường nằm 41 chỗ|   180.000đ|\n",
            "|     10|            Trí Nhân|07-03-2025|TP.HCM - Can Tho|         08:30|       11:57| • Văn Phòng Sài Gòn|• Cổng Bến xe tru...|   3h27m|   Giường nằm 41 chỗ|   180.000đ|\n",
            "|     11|            Trí Nhân|07-03-2025|TP.HCM - Can Tho|         20:30|       23:57|   • Bến xe Miền Tây|• Cổng Bến xe tru...|   3h27m|   Giường nằm 41 chỗ|   180.000đ|\n",
            "|     12|            Trí Nhân|07-03-2025|TP.HCM - Can Tho|         20:30|       23:57| • Văn Phòng Sài Gòn|• Cổng Bến xe tru...|   3h27m|   Giường nằm 41 chỗ|   180.000đ|\n",
            "|     13|           Tuấn Hiệp|07-03-2025|TP.HCM - Can Tho|         07:30|       11:00|   • Bến Xe An Sương|• Bến xe Cần Thơ mới|   3h30m|   Giường nằm 40 chỗ|   200.000đ|\n",
            "|     14|           Tuấn Hiệp|07-03-2025|TP.HCM - Can Tho|         07:20|       11:00|  • Bến xe Ngã Tư Ga|• Bến xe Cần Thơ mới|   3h40m|   Giường nằm 40 chỗ|   200.000đ|\n",
            "|     15|           Tuấn Hiệp|07-03-2025|TP.HCM - Can Tho|         19:20|       23:00|  • Bến xe Ngã Tư Ga|• Bến xe Cần Thơ mới|   3h40m|   Giường nằm 44 chỗ|   200.000đ|\n",
            "|     16|           Tuấn Hiệp|07-03-2025|TP.HCM - Can Tho|         19:30|       23:00|• Bến xe An Sương...|• Bến xe Cần Thơ mới|   3h30m|   Giường nằm 44 chỗ|   200.000đ|\n",
            "|     17|Thiện Thành Limou...|07-03-2025|TP.HCM - Can Tho|         23:35|       05:35|        • VP Tân Phú|       • VP Rạch Giá|      6h|  Limousine 24 phòng|   350.000đ|\n",
            "|     18|Thiện Thành Limou...|07-03-2025|TP.HCM - Can Tho|         23:33|       05:33|        • VP Tân Phú|       • VP Rạch Giá|      6h|  Limousine 24 phòng|   350.000đ|\n",
            "|     19|Thiện Thành Limou...|07-03-2025|TP.HCM - Can Tho|         23:34|       05:34|        • VP Tân Phú|       • VP Rạch Giá|      6h|  Limousine 24 phòng|   350.000đ|\n",
            "|     20|   Vũ Linh limousine|07-03-2025|TP.HCM - Can Tho|         14:00|       17:15| • Văn Phòng Sài Gòn|• Văn Phòng Công ...|   3h15m|Huyndai Solati 11...|Từ 200.000đ|\n",
            "+-------+--------------------+----------+----------------+--------------+------------+--------------------+--------------------+--------+--------------------+-----------+\n",
            "only showing top 20 rows\n",
            "\n"
          ]
        }
      ],
      "source": [
        "from pyspark.sql.window import Window\n",
        "from pyspark.sql.functions import row_number, monotonically_increasing_id\n",
        "\n",
        "bus_ticket = bus_ticket.withColumn(\"Bus_Key\", bus_ticket[\"Bus_Key\"].cast(\"int\"))\n",
        "\n",
        "# Thêm cột tạm thời để tạo thứ tự (vì monotonically_increasing_id() không liên tiếp)\n",
        "bus_ticket = bus_ticket.withColumn(\"temp_id\", monotonically_increasing_id())\n",
        "\n",
        "# Định nghĩa cửa sổ sắp xếp theo temp_id\n",
        "window_spec = Window.orderBy(\"temp_id\")\n",
        "\n",
        "# Đánh số từ 1\n",
        "bus_ticket = bus_ticket.withColumn(\"Bus_Key\", row_number().over(window_spec))\n",
        "\n",
        "# Xóa cột tạm\n",
        "bus_ticket = bus_ticket.drop(\"temp_id\")\n",
        "\n",
        "bus_ticket.show(20)"
      ]
    },
    {
      "cell_type": "markdown",
      "metadata": {},
      "source": [
        "#### Convert data type column Start_Date"
      ]
    },
    {
      "cell_type": "code",
      "execution_count": 19,
      "metadata": {
        "colab": {
          "base_uri": "https://localhost:8080/"
        },
        "id": "IzlgPOz5ljHb",
        "outputId": "eb53016a-c0fc-4d6d-ea8f-b16c0d541ee4"
      },
      "outputs": [
        {
          "name": "stdout",
          "output_type": "stream",
          "text": [
            "+-------+--------------------+----------+----------------+--------------+------------+--------------------+--------------------+--------+--------------------+-----------+\n",
            "|Bus_Key|            Bus_Name|Start_Date|           Route|Departure_Time|Arrival_Time|     Departure_Place|       Arrival_Place|Duration|            Type_Bus|      Price|\n",
            "+-------+--------------------+----------+----------------+--------------+------------+--------------------+--------------------+--------+--------------------+-----------+\n",
            "|      1|   Vũ Linh limousine|2025-07-03|TP.HCM - Can Tho|         10:00|       13:15| • Văn Phòng Sài Gòn|• Văn Phòng Công ...|   3h15m|Huyndai Solati 11...|Từ 200.000đ|\n",
            "|      2|   Vũ Linh limousine|2025-07-03|TP.HCM - Can Tho|         12:00|       15:15| • Văn Phòng Sài Gòn|• Văn Phòng Công ...|   3h15m|Huyndai Solati 11...|Từ 200.000đ|\n",
            "|      3|   Vũ Linh limousine|2025-07-03|TP.HCM - Can Tho|         11:01|       14:16| • Văn Phòng Sài Gòn|• Văn Phòng Công ...|   3h15m|Huyndai Solati 11...|Từ 200.000đ|\n",
            "|      4|            Văn Lang|2025-07-03|TP.HCM - Can Tho|         07:30|       11:00|• Văn Phòng Bình Tân|    • Metro Hưng Lợi|   3h30m|   Giường nằm 41 chỗ|   170.000đ|\n",
            "|      5|           Toàn Khải|2025-07-03|TP.HCM - Can Tho|         18:20|       21:50|   • Bến Xe An Sương|• Bến xe trung tâ...|   3h30m|  Limousine 34 phòng|   200.000đ|\n",
            "|      6|            Văn Lang|2025-07-03|TP.HCM - Can Tho|         09:00|       13:00|  • Văn phòng Quận 5|    • Metro Hưng Lợi|      4h|   Giường nằm 41 chỗ|   170.000đ|\n",
            "|      7|            Văn Lang|2025-07-03|TP.HCM - Can Tho|         14:00|       18:30|  • Văn phòng Quận 5|• Văn phòng Thốt Nốt|   4h30m|   Giường nằm 41 chỗ|   170.000đ|\n",
            "|      8|            Văn Lang|2025-07-03|TP.HCM - Can Tho|         07:00|       11:00|  • Văn phòng Quận 5|    • Metro Hưng Lợi|      4h|   Giường nằm 41 chỗ|   170.000đ|\n",
            "|      9|            Trí Nhân|2025-07-03|TP.HCM - Can Tho|         08:30|       11:57|   • Bến xe Miền Tây|• Cổng Bến xe tru...|   3h27m|   Giường nằm 41 chỗ|   180.000đ|\n",
            "|     10|            Trí Nhân|2025-07-03|TP.HCM - Can Tho|         08:30|       11:57| • Văn Phòng Sài Gòn|• Cổng Bến xe tru...|   3h27m|   Giường nằm 41 chỗ|   180.000đ|\n",
            "|     11|            Trí Nhân|2025-07-03|TP.HCM - Can Tho|         20:30|       23:57|   • Bến xe Miền Tây|• Cổng Bến xe tru...|   3h27m|   Giường nằm 41 chỗ|   180.000đ|\n",
            "|     12|            Trí Nhân|2025-07-03|TP.HCM - Can Tho|         20:30|       23:57| • Văn Phòng Sài Gòn|• Cổng Bến xe tru...|   3h27m|   Giường nằm 41 chỗ|   180.000đ|\n",
            "|     13|           Tuấn Hiệp|2025-07-03|TP.HCM - Can Tho|         07:30|       11:00|   • Bến Xe An Sương|• Bến xe Cần Thơ mới|   3h30m|   Giường nằm 40 chỗ|   200.000đ|\n",
            "|     14|           Tuấn Hiệp|2025-07-03|TP.HCM - Can Tho|         07:20|       11:00|  • Bến xe Ngã Tư Ga|• Bến xe Cần Thơ mới|   3h40m|   Giường nằm 40 chỗ|   200.000đ|\n",
            "|     15|           Tuấn Hiệp|2025-07-03|TP.HCM - Can Tho|         19:20|       23:00|  • Bến xe Ngã Tư Ga|• Bến xe Cần Thơ mới|   3h40m|   Giường nằm 44 chỗ|   200.000đ|\n",
            "|     16|           Tuấn Hiệp|2025-07-03|TP.HCM - Can Tho|         19:30|       23:00|• Bến xe An Sương...|• Bến xe Cần Thơ mới|   3h30m|   Giường nằm 44 chỗ|   200.000đ|\n",
            "|     17|Thiện Thành Limou...|2025-07-03|TP.HCM - Can Tho|         23:35|       05:35|        • VP Tân Phú|       • VP Rạch Giá|      6h|  Limousine 24 phòng|   350.000đ|\n",
            "|     18|Thiện Thành Limou...|2025-07-03|TP.HCM - Can Tho|         23:33|       05:33|        • VP Tân Phú|       • VP Rạch Giá|      6h|  Limousine 24 phòng|   350.000đ|\n",
            "|     19|Thiện Thành Limou...|2025-07-03|TP.HCM - Can Tho|         23:34|       05:34|        • VP Tân Phú|       • VP Rạch Giá|      6h|  Limousine 24 phòng|   350.000đ|\n",
            "|     20|   Vũ Linh limousine|2025-07-03|TP.HCM - Can Tho|         14:00|       17:15| • Văn Phòng Sài Gòn|• Văn Phòng Công ...|   3h15m|Huyndai Solati 11...|Từ 200.000đ|\n",
            "+-------+--------------------+----------+----------------+--------------+------------+--------------------+--------------------+--------+--------------------+-----------+\n",
            "only showing top 20 rows\n",
            "\n"
          ]
        }
      ],
      "source": [
        "from pyspark.sql.functions import to_date\n",
        "\n",
        "bus_ticket = bus_ticket.withColumn(\"Start_Date\", to_date(\"Start_Date\", \"MM-dd-yyyy\"))\n",
        "\n",
        "bus_ticket.show(20)"
      ]
    },
    {
      "cell_type": "markdown",
      "metadata": {},
      "source": [
        "#### Regex column"
      ]
    },
    {
      "cell_type": "code",
      "execution_count": 20,
      "metadata": {
        "colab": {
          "base_uri": "https://localhost:8080/"
        },
        "id": "WuUiTE2v2nf5",
        "outputId": "f782501d-9159-48ab-b76c-d9dfefe5f5e7"
      },
      "outputs": [
        {
          "name": "stdout",
          "output_type": "stream",
          "text": [
            "+-------+--------------------+----------+----------------+--------------+------------+--------------------+--------------------+--------+--------------------+-----------+\n",
            "|Bus_Key|            Bus_Name|Start_Date|           Route|Departure_Time|Arrival_Time|     Departure_Place|       Arrival_Place|Duration|            Type_Bus|      Price|\n",
            "+-------+--------------------+----------+----------------+--------------+------------+--------------------+--------------------+--------+--------------------+-----------+\n",
            "|      1|   Vũ Linh limousine|2025-07-03|TP.HCM - Can Tho|         10:00|       13:15|   văn phòng sài gòn| văn phòng công t...|   3h15m|Huyndai Solati 11...|Từ 200.000đ|\n",
            "|      2|   Vũ Linh limousine|2025-07-03|TP.HCM - Can Tho|         12:00|       15:15|   văn phòng sài gòn| văn phòng công t...|   3h15m|Huyndai Solati 11...|Từ 200.000đ|\n",
            "|      3|   Vũ Linh limousine|2025-07-03|TP.HCM - Can Tho|         11:01|       14:16|   văn phòng sài gòn| văn phòng công t...|   3h15m|Huyndai Solati 11...|Từ 200.000đ|\n",
            "|      4|            Văn Lang|2025-07-03|TP.HCM - Can Tho|         07:30|       11:00|  văn phòng bình tân|      metro hưng lợi|   3h30m|   Giường nằm 41 chỗ|   170.000đ|\n",
            "|      5|           Toàn Khải|2025-07-03|TP.HCM - Can Tho|         18:20|       21:50|     bến xe an sương| bến xe trung tâm...|   3h30m|  Limousine 34 phòng|   200.000đ|\n",
            "|      6|            Văn Lang|2025-07-03|TP.HCM - Can Tho|         09:00|       13:00|    văn phòng quận 5|      metro hưng lợi|      4h|   Giường nằm 41 chỗ|   170.000đ|\n",
            "|      7|            Văn Lang|2025-07-03|TP.HCM - Can Tho|         14:00|       18:30|    văn phòng quận 5|  văn phòng thốt nốt|   4h30m|   Giường nằm 41 chỗ|   170.000đ|\n",
            "|      8|            Văn Lang|2025-07-03|TP.HCM - Can Tho|         07:00|       11:00|    văn phòng quận 5|      metro hưng lợi|      4h|   Giường nằm 41 chỗ|   170.000đ|\n",
            "|      9|            Trí Nhân|2025-07-03|TP.HCM - Can Tho|         08:30|       11:57|     bến xe miền tây| cổng bến xe trun...|   3h27m|   Giường nằm 41 chỗ|   180.000đ|\n",
            "|     10|            Trí Nhân|2025-07-03|TP.HCM - Can Tho|         08:30|       11:57|   văn phòng sài gòn| cổng bến xe trun...|   3h27m|   Giường nằm 41 chỗ|   180.000đ|\n",
            "|     11|            Trí Nhân|2025-07-03|TP.HCM - Can Tho|         20:30|       23:57|     bến xe miền tây| cổng bến xe trun...|   3h27m|   Giường nằm 41 chỗ|   180.000đ|\n",
            "|     12|            Trí Nhân|2025-07-03|TP.HCM - Can Tho|         20:30|       23:57|   văn phòng sài gòn| cổng bến xe trun...|   3h27m|   Giường nằm 41 chỗ|   180.000đ|\n",
            "|     13|           Tuấn Hiệp|2025-07-03|TP.HCM - Can Tho|         07:30|       11:00|     bến xe an sương|  bến xe cần thơ mới|   3h30m|   Giường nằm 40 chỗ|   200.000đ|\n",
            "|     14|           Tuấn Hiệp|2025-07-03|TP.HCM - Can Tho|         07:20|       11:00|    bến xe ngã tư ga|  bến xe cần thơ mới|   3h40m|   Giường nằm 40 chỗ|   200.000đ|\n",
            "|     15|           Tuấn Hiệp|2025-07-03|TP.HCM - Can Tho|         19:20|       23:00|    bến xe ngã tư ga|  bến xe cần thơ mới|   3h40m|   Giường nằm 44 chỗ|   200.000đ|\n",
            "|     16|           Tuấn Hiệp|2025-07-03|TP.HCM - Can Tho|         19:30|       23:00| bến xe an sương ...|  bến xe cần thơ mới|   3h30m|   Giường nằm 44 chỗ|   200.000đ|\n",
            "|     17|Thiện Thành Limou...|2025-07-03|TP.HCM - Can Tho|         23:35|       05:35|   văn phòng tân phú|  văn phòng rạch giá|      6h|  Limousine 24 phòng|   350.000đ|\n",
            "|     18|Thiện Thành Limou...|2025-07-03|TP.HCM - Can Tho|         23:33|       05:33|   văn phòng tân phú|  văn phòng rạch giá|      6h|  Limousine 24 phòng|   350.000đ|\n",
            "|     19|Thiện Thành Limou...|2025-07-03|TP.HCM - Can Tho|         23:34|       05:34|   văn phòng tân phú|  văn phòng rạch giá|      6h|  Limousine 24 phòng|   350.000đ|\n",
            "|     20|   Vũ Linh limousine|2025-07-03|TP.HCM - Can Tho|         14:00|       17:15|   văn phòng sài gòn| văn phòng công t...|   3h15m|Huyndai Solati 11...|Từ 200.000đ|\n",
            "+-------+--------------------+----------+----------------+--------------+------------+--------------------+--------------------+--------+--------------------+-----------+\n",
            "only showing top 20 rows\n",
            "\n"
          ]
        }
      ],
      "source": [
        "from pyspark.sql.functions import regexp_replace, lower\n",
        "\n",
        "def standardize_string(text):\n",
        "  if text is not None:\n",
        "    text = lower(text)\n",
        "    text = regexp_replace(text, \"[^a-zA-Z0-9\\sáàảãạăắằẳẵặâấầẩẫậéèẻẽẹêếềểễệíìỉĩịóòỏõọôốồổỗộơớờởỡợúùủũụưứừửữựýỳỷỹỵđ]\", \"\")\n",
        "    text = regexp_replace(text, r\"\\bvp\\b\", \"văn phòng\")\n",
        "    return text\n",
        "  else:\n",
        "    return text\n",
        "\n",
        "bus_ticket = bus_ticket.withColumn(\"Departure_Place\", standardize_string(bus_ticket[\"Departure_Place\"]))\n",
        "bus_ticket = bus_ticket.withColumn(\"Arrival_Place\", standardize_string(bus_ticket[\"Arrival_Place\"]))\n",
        "\n",
        "bus_ticket.show(20)"
      ]
    },
    {
      "cell_type": "markdown",
      "metadata": {},
      "source": [
        "#### Calculate and convert column Duration"
      ]
    },
    {
      "cell_type": "code",
      "execution_count": 21,
      "metadata": {
        "id": "iuzR06vUb7fN"
      },
      "outputs": [
        {
          "name": "stdout",
          "output_type": "stream",
          "text": [
            "+-------+--------------------+----------+----------------+--------------+------------+--------------------+--------------------+--------+--------------------+-----------+\n",
            "|Bus_Key|            Bus_Name|Start_Date|           Route|Departure_Time|Arrival_Time|     Departure_Place|       Arrival_Place|Duration|            Type_Bus|      Price|\n",
            "+-------+--------------------+----------+----------------+--------------+------------+--------------------+--------------------+--------+--------------------+-----------+\n",
            "|      1|   Vũ Linh limousine|2025-07-03|TP.HCM - Can Tho|         10:00|       13:15|   văn phòng sài gòn| văn phòng công t...|    3.25|Huyndai Solati 11...|Từ 200.000đ|\n",
            "|      2|   Vũ Linh limousine|2025-07-03|TP.HCM - Can Tho|         12:00|       15:15|   văn phòng sài gòn| văn phòng công t...|    3.25|Huyndai Solati 11...|Từ 200.000đ|\n",
            "|      3|   Vũ Linh limousine|2025-07-03|TP.HCM - Can Tho|         11:01|       14:16|   văn phòng sài gòn| văn phòng công t...|    3.25|Huyndai Solati 11...|Từ 200.000đ|\n",
            "|      4|            Văn Lang|2025-07-03|TP.HCM - Can Tho|         07:30|       11:00|  văn phòng bình tân|      metro hưng lợi|     3.5|   Giường nằm 41 chỗ|   170.000đ|\n",
            "|      5|           Toàn Khải|2025-07-03|TP.HCM - Can Tho|         18:20|       21:50|     bến xe an sương| bến xe trung tâm...|     3.5|  Limousine 34 phòng|   200.000đ|\n",
            "|      6|            Văn Lang|2025-07-03|TP.HCM - Can Tho|         09:00|       13:00|    văn phòng quận 5|      metro hưng lợi|     4.0|   Giường nằm 41 chỗ|   170.000đ|\n",
            "|      7|            Văn Lang|2025-07-03|TP.HCM - Can Tho|         14:00|       18:30|    văn phòng quận 5|  văn phòng thốt nốt|     4.5|   Giường nằm 41 chỗ|   170.000đ|\n",
            "|      8|            Văn Lang|2025-07-03|TP.HCM - Can Tho|         07:00|       11:00|    văn phòng quận 5|      metro hưng lợi|     4.0|   Giường nằm 41 chỗ|   170.000đ|\n",
            "|      9|            Trí Nhân|2025-07-03|TP.HCM - Can Tho|         08:30|       11:57|     bến xe miền tây| cổng bến xe trun...|    3.45|   Giường nằm 41 chỗ|   180.000đ|\n",
            "|     10|            Trí Nhân|2025-07-03|TP.HCM - Can Tho|         08:30|       11:57|   văn phòng sài gòn| cổng bến xe trun...|    3.45|   Giường nằm 41 chỗ|   180.000đ|\n",
            "|     11|            Trí Nhân|2025-07-03|TP.HCM - Can Tho|         20:30|       23:57|     bến xe miền tây| cổng bến xe trun...|    3.45|   Giường nằm 41 chỗ|   180.000đ|\n",
            "|     12|            Trí Nhân|2025-07-03|TP.HCM - Can Tho|         20:30|       23:57|   văn phòng sài gòn| cổng bến xe trun...|    3.45|   Giường nằm 41 chỗ|   180.000đ|\n",
            "|     13|           Tuấn Hiệp|2025-07-03|TP.HCM - Can Tho|         07:30|       11:00|     bến xe an sương|  bến xe cần thơ mới|     3.5|   Giường nằm 40 chỗ|   200.000đ|\n",
            "|     14|           Tuấn Hiệp|2025-07-03|TP.HCM - Can Tho|         07:20|       11:00|    bến xe ngã tư ga|  bến xe cần thơ mới|    3.67|   Giường nằm 40 chỗ|   200.000đ|\n",
            "|     15|           Tuấn Hiệp|2025-07-03|TP.HCM - Can Tho|         19:20|       23:00|    bến xe ngã tư ga|  bến xe cần thơ mới|    3.67|   Giường nằm 44 chỗ|   200.000đ|\n",
            "|     16|           Tuấn Hiệp|2025-07-03|TP.HCM - Can Tho|         19:30|       23:00| bến xe an sương ...|  bến xe cần thơ mới|     3.5|   Giường nằm 44 chỗ|   200.000đ|\n",
            "|     17|Thiện Thành Limou...|2025-07-03|TP.HCM - Can Tho|         23:35|       05:35|   văn phòng tân phú|  văn phòng rạch giá|     6.0|  Limousine 24 phòng|   350.000đ|\n",
            "|     18|Thiện Thành Limou...|2025-07-03|TP.HCM - Can Tho|         23:33|       05:33|   văn phòng tân phú|  văn phòng rạch giá|     6.0|  Limousine 24 phòng|   350.000đ|\n",
            "|     19|Thiện Thành Limou...|2025-07-03|TP.HCM - Can Tho|         23:34|       05:34|   văn phòng tân phú|  văn phòng rạch giá|     6.0|  Limousine 24 phòng|   350.000đ|\n",
            "|     20|   Vũ Linh limousine|2025-07-03|TP.HCM - Can Tho|         14:00|       17:15|   văn phòng sài gòn| văn phòng công t...|    3.25|Huyndai Solati 11...|Từ 200.000đ|\n",
            "+-------+--------------------+----------+----------------+--------------+------------+--------------------+--------------------+--------+--------------------+-----------+\n",
            "only showing top 20 rows\n",
            "\n"
          ]
        }
      ],
      "source": [
        "import re\n",
        "from pyspark.sql.functions import udf, round as F_round\n",
        "from pyspark.sql.types import FloatType\n",
        "\n",
        "def convert_duration(duration):\n",
        "    if duration is None:\n",
        "        return None\n",
        "    match = re.match(r\"(\\d+)h?(\\d*)m?\", duration)\n",
        "    if match:\n",
        "        hours = int(match.group(1)) if match.group(1) else 0\n",
        "        minutes = int(match.group(2)) if match.group(2) else 0\n",
        "        return hours + minutes / 60\n",
        "    return None\n",
        "\n",
        "convert_duration_udf = udf(convert_duration, FloatType())\n",
        "\n",
        "bus_ticket = bus_ticket.withColumn(\"Duration\", F_round(convert_duration_udf(bus_ticket[\"Duration\"]), 2))\n",
        "bus_ticket.show(20)"
      ]
    },
    {
      "cell_type": "markdown",
      "metadata": {},
      "source": [
        "#### Convert column Price"
      ]
    },
    {
      "cell_type": "code",
      "execution_count": 22,
      "metadata": {
        "id": "D_x9mBHWfRKM"
      },
      "outputs": [
        {
          "name": "stdout",
          "output_type": "stream",
          "text": [
            "+-------+--------------------+----------+----------------+--------------+------------+--------------------+--------------------+--------+--------------------+------+\n",
            "|Bus_Key|            Bus_Name|Start_Date|           Route|Departure_Time|Arrival_Time|     Departure_Place|       Arrival_Place|Duration|            Type_Bus| Price|\n",
            "+-------+--------------------+----------+----------------+--------------+------------+--------------------+--------------------+--------+--------------------+------+\n",
            "|      1|   Vũ Linh limousine|2025-07-03|TP.HCM - Can Tho|         10:00|       13:15|   văn phòng sài gòn| văn phòng công t...|    3.25|Huyndai Solati 11...|200000|\n",
            "|      2|   Vũ Linh limousine|2025-07-03|TP.HCM - Can Tho|         12:00|       15:15|   văn phòng sài gòn| văn phòng công t...|    3.25|Huyndai Solati 11...|200000|\n",
            "|      3|   Vũ Linh limousine|2025-07-03|TP.HCM - Can Tho|         11:01|       14:16|   văn phòng sài gòn| văn phòng công t...|    3.25|Huyndai Solati 11...|200000|\n",
            "|      4|            Văn Lang|2025-07-03|TP.HCM - Can Tho|         07:30|       11:00|  văn phòng bình tân|      metro hưng lợi|     3.5|   Giường nằm 41 chỗ|170000|\n",
            "|      5|           Toàn Khải|2025-07-03|TP.HCM - Can Tho|         18:20|       21:50|     bến xe an sương| bến xe trung tâm...|     3.5|  Limousine 34 phòng|200000|\n",
            "|      6|            Văn Lang|2025-07-03|TP.HCM - Can Tho|         09:00|       13:00|    văn phòng quận 5|      metro hưng lợi|     4.0|   Giường nằm 41 chỗ|170000|\n",
            "|      7|            Văn Lang|2025-07-03|TP.HCM - Can Tho|         14:00|       18:30|    văn phòng quận 5|  văn phòng thốt nốt|     4.5|   Giường nằm 41 chỗ|170000|\n",
            "|      8|            Văn Lang|2025-07-03|TP.HCM - Can Tho|         07:00|       11:00|    văn phòng quận 5|      metro hưng lợi|     4.0|   Giường nằm 41 chỗ|170000|\n",
            "|      9|            Trí Nhân|2025-07-03|TP.HCM - Can Tho|         08:30|       11:57|     bến xe miền tây| cổng bến xe trun...|    3.45|   Giường nằm 41 chỗ|180000|\n",
            "|     10|            Trí Nhân|2025-07-03|TP.HCM - Can Tho|         08:30|       11:57|   văn phòng sài gòn| cổng bến xe trun...|    3.45|   Giường nằm 41 chỗ|180000|\n",
            "|     11|            Trí Nhân|2025-07-03|TP.HCM - Can Tho|         20:30|       23:57|     bến xe miền tây| cổng bến xe trun...|    3.45|   Giường nằm 41 chỗ|180000|\n",
            "|     12|            Trí Nhân|2025-07-03|TP.HCM - Can Tho|         20:30|       23:57|   văn phòng sài gòn| cổng bến xe trun...|    3.45|   Giường nằm 41 chỗ|180000|\n",
            "|     13|           Tuấn Hiệp|2025-07-03|TP.HCM - Can Tho|         07:30|       11:00|     bến xe an sương|  bến xe cần thơ mới|     3.5|   Giường nằm 40 chỗ|200000|\n",
            "|     14|           Tuấn Hiệp|2025-07-03|TP.HCM - Can Tho|         07:20|       11:00|    bến xe ngã tư ga|  bến xe cần thơ mới|    3.67|   Giường nằm 40 chỗ|200000|\n",
            "|     15|           Tuấn Hiệp|2025-07-03|TP.HCM - Can Tho|         19:20|       23:00|    bến xe ngã tư ga|  bến xe cần thơ mới|    3.67|   Giường nằm 44 chỗ|200000|\n",
            "|     16|           Tuấn Hiệp|2025-07-03|TP.HCM - Can Tho|         19:30|       23:00| bến xe an sương ...|  bến xe cần thơ mới|     3.5|   Giường nằm 44 chỗ|200000|\n",
            "|     17|Thiện Thành Limou...|2025-07-03|TP.HCM - Can Tho|         23:35|       05:35|   văn phòng tân phú|  văn phòng rạch giá|     6.0|  Limousine 24 phòng|350000|\n",
            "|     18|Thiện Thành Limou...|2025-07-03|TP.HCM - Can Tho|         23:33|       05:33|   văn phòng tân phú|  văn phòng rạch giá|     6.0|  Limousine 24 phòng|350000|\n",
            "|     19|Thiện Thành Limou...|2025-07-03|TP.HCM - Can Tho|         23:34|       05:34|   văn phòng tân phú|  văn phòng rạch giá|     6.0|  Limousine 24 phòng|350000|\n",
            "|     20|   Vũ Linh limousine|2025-07-03|TP.HCM - Can Tho|         14:00|       17:15|   văn phòng sài gòn| văn phòng công t...|    3.25|Huyndai Solati 11...|200000|\n",
            "+-------+--------------------+----------+----------------+--------------+------------+--------------------+--------------------+--------+--------------------+------+\n",
            "only showing top 20 rows\n",
            "\n"
          ]
        }
      ],
      "source": [
        "import re\n",
        "from pyspark.sql.functions import udf, col\n",
        "from pyspark.sql.types import IntegerType\n",
        "\n",
        "def remove_price_chars(price_str):\n",
        "    if price_str is not None:\n",
        "        price_str = re.sub(r\"[^0-9]\", \"\", price_str)\n",
        "        return int(price_str) if price_str else None\n",
        "    return None\n",
        "\n",
        "remove_price_chars_udf = udf(remove_price_chars, IntegerType())\n",
        "\n",
        "bus_ticket = bus_ticket.withColumn(\"Price\", remove_price_chars_udf(col(\"Price\")))\n",
        "bus_ticket.show(20)"
      ]
    },
    {
      "cell_type": "markdown",
      "metadata": {},
      "source": [
        "#### Data type"
      ]
    },
    {
      "cell_type": "code",
      "execution_count": 23,
      "metadata": {
        "colab": {
          "base_uri": "https://localhost:8080/"
        },
        "id": "W3WHOKlVji1U",
        "outputId": "3dda5ae6-26c2-4a41-cccf-bcbde38e5be6"
      },
      "outputs": [
        {
          "name": "stdout",
          "output_type": "stream",
          "text": [
            "root\n",
            " |-- Bus_Key: integer (nullable = false)\n",
            " |-- Bus_Name: string (nullable = true)\n",
            " |-- Start_Date: date (nullable = true)\n",
            " |-- Route: string (nullable = true)\n",
            " |-- Departure_Time: string (nullable = true)\n",
            " |-- Arrival_Time: string (nullable = true)\n",
            " |-- Departure_Place: string (nullable = true)\n",
            " |-- Arrival_Place: string (nullable = true)\n",
            " |-- Duration: float (nullable = true)\n",
            " |-- Type_Bus: string (nullable = true)\n",
            " |-- Price: integer (nullable = true)\n",
            "\n"
          ]
        }
      ],
      "source": [
        "bus_ticket.printSchema()"
      ]
    }
  ],
  "metadata": {
    "colab": {
      "provenance": []
    },
    "kernelspec": {
      "display_name": "Python 3",
      "name": "python3"
    },
    "language_info": {
      "codemirror_mode": {
        "name": "ipython",
        "version": 3
      },
      "file_extension": ".py",
      "mimetype": "text/x-python",
      "name": "python",
      "nbconvert_exporter": "python",
      "pygments_lexer": "ipython3",
      "version": "3.11.6"
    }
  },
  "nbformat": 4,
  "nbformat_minor": 0
}
