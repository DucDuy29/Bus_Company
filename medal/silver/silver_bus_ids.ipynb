{
 "cells": [
  {
   "cell_type": "code",
   "execution_count": 1,
   "metadata": {},
   "outputs": [],
   "source": [
    "from pyspark.sql import SparkSession\n",
    "from pyspark.sql.functions import col, udf, concat_ws\n",
    "from pyspark.sql.functions import udf\n",
    "from pyspark.sql.types import StringType\n",
    "\n",
    "import pandas as pd\n",
    "import numpy as np\n",
    "import unicodedata\n",
    "import re"
   ]
  },
  {
   "cell_type": "code",
   "execution_count": 2,
   "metadata": {},
   "outputs": [],
   "source": [
    "spark = SparkSession.builder \\\n",
    "        .appName(\"Silver_BusIds\") \\\n",
    "        .master(\"local[*]\") \\\n",
    "        .getOrCreate()"
   ]
  },
  {
   "cell_type": "code",
   "execution_count": 4,
   "metadata": {},
   "outputs": [
    {
     "name": "stdout",
     "output_type": "stream",
     "text": [
      "+--------------------+----------+\n",
      "|            Bus_Name|Company_ID|\n",
      "+--------------------+----------+\n",
      "|   Vũ Linh limousine|       768|\n",
      "|             Ba Châu|     13078|\n",
      "|            Văn Lang|     11826|\n",
      "|            Trí Nhân|     12911|\n",
      "|           Tuấn Hiệp|     11899|\n",
      "|Thiện Thành Limou...|     21843|\n",
      "|                 Hảo|     12797|\n",
      "|  Trí Nhân Limousine|     12911|\n",
      "|               Hà My|     12507|\n",
      "|           Toàn Khải|     46289|\n",
      "+--------------------+----------+\n",
      "only showing top 10 rows\n",
      "\n"
     ]
    }
   ],
   "source": [
    "bus_ids = spark.read.csv(\"../raw/bus_company_ids.csv\", header=True)\n",
    "\n",
    "bus_ids.show(10)"
   ]
  },
  {
   "cell_type": "code",
   "execution_count": null,
   "metadata": {},
   "outputs": [],
   "source": [
    "def remove_accents(text):\n",
    "    if text is None:\n",
    "        return \"No Info\"\n",
    "    # Thay thế riêng biệt chữ \"đ\" và \"Đ\" trước khi chuẩn hóa\n",
    "    text = text.replace(\"đ\", \"d\").replace(\"Đ\", \"D\")\n",
    "    # Chuẩn hóa và loại bỏ dấu tiếng Việt\n",
    "    text = unicodedata.normalize('NFKD', text).encode('ASCII', 'ignore').decode('utf-8')\n",
    "    # Thay thế các ký tự đặc biệt (ngoại trừ chữ, số) bằng dấu gạch ngang \"-\"\n",
    "    text = re.sub(r\"[^a-zA-Z0-9]+\", \"-\", text)\n",
    "    # Xóa dấu gạch ngang ở đầu và cuối nếu có\n",
    "    return text.strip(\"-\").lower()\n",
    "\n",
    "remove_accents_udf = udf(remove_accents, StringType())\n",
    "\n",
    "bus_ids = bus_ids.withColumn(\"Bus_Id\", concat_ws(\"_\", remove_accents_udf(col(\"Bus_Name\")), col(\"Company_Id\"))).select(\"Bus_Id\", \"Bus_Name\", \"Company_Id\")\n",
    "bus_ids.show()"
   ]
  },
  {
   "cell_type": "code",
   "execution_count": 6,
   "metadata": {},
   "outputs": [],
   "source": [
    "spark.stop()"
   ]
  }
 ],
 "metadata": {
  "kernelspec": {
   "display_name": "Python 3",
   "language": "python",
   "name": "python3"
  },
  "language_info": {
   "codemirror_mode": {
    "name": "ipython",
    "version": 3
   },
   "file_extension": ".py",
   "mimetype": "text/x-python",
   "name": "python",
   "nbconvert_exporter": "python",
   "pygments_lexer": "ipython3",
   "version": "3.11.6"
  }
 },
 "nbformat": 4,
 "nbformat_minor": 2
}
