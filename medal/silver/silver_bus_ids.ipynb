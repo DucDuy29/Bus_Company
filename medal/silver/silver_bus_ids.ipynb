{
 "cells": [
  {
   "cell_type": "code",
   "execution_count": 1,
   "metadata": {},
   "outputs": [],
   "source": [
    "from pyspark.sql import SparkSession\n",
    "from pyspark.sql.functions import col, udf, concat_ws, pandas_udf\n",
    "from pyspark.sql.functions import udf\n",
    "from pyspark.sql.types import StringType\n",
    "\n",
    "import pandas as pd\n",
    "import numpy as np\n",
    "import unidecode\n",
    "import unicodedata\n",
    "import re"
   ]
  },
  {
   "cell_type": "code",
   "execution_count": 2,
   "metadata": {},
   "outputs": [],
   "source": [
    "spark = SparkSession.builder \\\n",
    "    .appName(\"Silver_BusIds\") \\\n",
    "    .master(\"local[*]\") \\\n",
    "    .getOrCreate()"
   ]
  },
  {
   "cell_type": "code",
   "execution_count": 3,
   "metadata": {},
   "outputs": [
    {
     "data": {
      "text/html": [
       "\n",
       "            <div>\n",
       "                <p><b>SparkSession - in-memory</b></p>\n",
       "                \n",
       "        <div>\n",
       "            <p><b>SparkContext</b></p>\n",
       "\n",
       "            <p><a href=\"http://DucDuy:4040\">Spark UI</a></p>\n",
       "\n",
       "            <dl>\n",
       "              <dt>Version</dt>\n",
       "                <dd><code>v3.5.5</code></dd>\n",
       "              <dt>Master</dt>\n",
       "                <dd><code>local[*]</code></dd>\n",
       "              <dt>AppName</dt>\n",
       "                <dd><code>Silver_BusIds</code></dd>\n",
       "            </dl>\n",
       "        </div>\n",
       "        \n",
       "            </div>\n",
       "        "
      ],
      "text/plain": [
       "<pyspark.sql.session.SparkSession at 0x26c21c9a190>"
      ]
     },
     "execution_count": 3,
     "metadata": {},
     "output_type": "execute_result"
    }
   ],
   "source": [
    "spark"
   ]
  },
  {
   "cell_type": "code",
   "execution_count": 4,
   "metadata": {},
   "outputs": [],
   "source": [
    "bus_ids = spark.read.csv(\"../raw/bus_company_ids.csv\", header=True)"
   ]
  },
  {
   "cell_type": "code",
   "execution_count": 5,
   "metadata": {},
   "outputs": [
    {
     "name": "stdout",
     "output_type": "stream",
     "text": [
      "+--------------------+----------+\n",
      "|            Bus_Name|Company_ID|\n",
      "+--------------------+----------+\n",
      "|   Vũ Linh limousine|       768|\n",
      "|             Ba Châu|     13078|\n",
      "|            Văn Lang|     11826|\n",
      "|            Trí Nhân|     12911|\n",
      "|           Tuấn Hiệp|     11899|\n",
      "|Thiện Thành Limou...|     21843|\n",
      "|                 Hảo|     12797|\n",
      "|  Trí Nhân Limousine|     12911|\n",
      "|               Hà My|     12507|\n",
      "|           Toàn Khải|     46289|\n",
      "|           Giáp Diệp|     12772|\n",
      "|             Tư Tiến|     13184|\n",
      "|           Mạnh Hùng|     11188|\n",
      "|           Ngọc Diễm|     40437|\n",
      "|            Tân Niên|     12462|\n",
      "|Duy Thảo (Kiên Gi...|     44740|\n",
      "|             Dũng Lệ|     12944|\n",
      "|            Hải Luân|     36137|\n",
      "|           Liên Hưng|       808|\n",
      "|Hùng Cường - An G...|       529|\n",
      "+--------------------+----------+\n",
      "only showing top 20 rows\n",
      "\n"
     ]
    }
   ],
   "source": [
    "bus_ids.show()"
   ]
  },
  {
   "cell_type": "code",
   "execution_count": 6,
   "metadata": {},
   "outputs": [],
   "source": [
    "import re\n",
    "\n",
    "def remove_accents(text):\n",
    "    if text is None:\n",
    "        return \"\"\n",
    "    # Thay thế riêng biệt chữ \"đ\" và \"Đ\" trước khi chuẩn hóa\n",
    "    text = text.replace(\"đ\", \"d\").replace(\"Đ\", \"D\")\n",
    "    # Chuẩn hóa và loại bỏ dấu tiếng Việt\n",
    "    text = unicodedata.normalize('NFKD', text).encode('ASCII', 'ignore').decode('utf-8')\n",
    "    # Thay thế các ký tự đặc biệt (ngoại trừ chữ, số) bằng dấu gạch ngang \"-\"\n",
    "    text = re.sub(r\"[^a-zA-Z0-9]+\", \"-\", text)\n",
    "    # Xóa dấu gạch ngang ở đầu và cuối nếu có\n",
    "    return text.strip(\"-\").lower()\n",
    "\n",
    "# Tạo UDF mới\n",
    "remove_accents_udf = udf(remove_accents, StringType())"
   ]
  },
  {
   "cell_type": "code",
   "execution_count": 7,
   "metadata": {},
   "outputs": [],
   "source": [
    "bus_ids = bus_ids.withColumn(\"Bus_Id\", concat_ws(\"_\", remove_accents_udf(col(\"Bus_Name\")), col(\"Company_Id\"))).select(\"Bus_Id\", \"Bus_Name\", \"Company_Id\")"
   ]
  },
  {
   "cell_type": "code",
   "execution_count": 8,
   "metadata": {},
   "outputs": [
    {
     "name": "stdout",
     "output_type": "stream",
     "text": [
      "+--------------------+--------------------+----------+\n",
      "|              Bus_Id|            Bus_Name|Company_Id|\n",
      "+--------------------+--------------------+----------+\n",
      "|vu-linh-limousine...|   Vũ Linh limousine|       768|\n",
      "|       ba-chau_13078|             Ba Châu|     13078|\n",
      "|      van-lang_11826|            Văn Lang|     11826|\n",
      "|      tri-nhan_12911|            Trí Nhân|     12911|\n",
      "|     tuan-hiep_11899|           Tuấn Hiệp|     11899|\n",
      "|thien-thanh-limou...|Thiện Thành Limou...|     21843|\n",
      "|           hao_12797|                 Hảo|     12797|\n",
      "|tri-nhan-limousin...|  Trí Nhân Limousine|     12911|\n",
      "|         ha-my_12507|               Hà My|     12507|\n",
      "|     toan-khai_46289|           Toàn Khải|     46289|\n",
      "|     giap-diep_12772|           Giáp Diệp|     12772|\n",
      "|       tu-tien_13184|             Tư Tiến|     13184|\n",
      "|     manh-hung_11188|           Mạnh Hùng|     11188|\n",
      "|     ngoc-diem_40437|           Ngọc Diễm|     40437|\n",
      "|      tan-nien_12462|            Tân Niên|     12462|\n",
      "|duy-thao-kien-gia...|Duy Thảo (Kiên Gi...|     44740|\n",
      "|       dung-le_12944|             Dũng Lệ|     12944|\n",
      "|      hai-luan_36137|            Hải Luân|     36137|\n",
      "|       lien-hung_808|           Liên Hưng|       808|\n",
      "|hung-cuong-an-gia...|Hùng Cường - An G...|       529|\n",
      "+--------------------+--------------------+----------+\n",
      "only showing top 20 rows\n",
      "\n"
     ]
    }
   ],
   "source": [
    "# Hiển thị kết quả\n",
    "bus_ids.show()"
   ]
  }
 ],
 "metadata": {
  "kernelspec": {
   "display_name": "Python 3",
   "language": "python",
   "name": "python3"
  },
  "language_info": {
   "codemirror_mode": {
    "name": "ipython",
    "version": 3
   },
   "file_extension": ".py",
   "mimetype": "text/x-python",
   "name": "python",
   "nbconvert_exporter": "python",
   "pygments_lexer": "ipython3",
   "version": "3.11.6"
  }
 },
 "nbformat": 4,
 "nbformat_minor": 2
}
