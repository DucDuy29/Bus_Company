{
  "cells": [
    {
      "cell_type": "code",
      "execution_count": 2,
      "metadata": {
        "id": "qJK2_MiqkBEs"
      },
      "outputs": [],
      "source": [
        "from pyspark.sql import SparkSession\n",
        "import numpy as np\n",
        "import pandas as pd\n",
        "import os"
      ]
    },
    {
      "cell_type": "code",
      "execution_count": 3,
      "metadata": {
        "id": "XSCMCdf0kUeI"
      },
      "outputs": [],
      "source": [
        "spark = SparkSession.builder \\\n",
        "        .appName(\"Silver\") \\\n",
        "        .master(\"local[*]\") \\\n",
        "        .getOrCreate()"
      ]
    },
    {
      "cell_type": "code",
      "execution_count": 4,
      "metadata": {
        "colab": {
          "base_uri": "https://localhost:8080/",
          "height": 219
        },
        "id": "VsX_ik1EkWwK",
        "outputId": "870d50be-e26a-4f2d-f858-e320a1c7f288"
      },
      "outputs": [
        {
          "data": {
            "text/html": [
              "\n",
              "            <div>\n",
              "                <p><b>SparkSession - in-memory</b></p>\n",
              "                \n",
              "        <div>\n",
              "            <p><b>SparkContext</b></p>\n",
              "\n",
              "            <p><a href=\"http://714befa61327:4040\">Spark UI</a></p>\n",
              "\n",
              "            <dl>\n",
              "              <dt>Version</dt>\n",
              "                <dd><code>v3.5.5</code></dd>\n",
              "              <dt>Master</dt>\n",
              "                <dd><code>local[*]</code></dd>\n",
              "              <dt>AppName</dt>\n",
              "                <dd><code>Silver</code></dd>\n",
              "            </dl>\n",
              "        </div>\n",
              "        \n",
              "            </div>\n",
              "        "
            ],
            "text/plain": [
              "<pyspark.sql.session.SparkSession at 0x785cda3b75d0>"
            ]
          },
          "execution_count": 4,
          "metadata": {},
          "output_type": "execute_result"
        }
      ],
      "source": [
        "spark"
      ]
    },
    {
      "cell_type": "code",
      "execution_count": 31,
      "metadata": {
        "colab": {
          "base_uri": "https://localhost:8080/"
        },
        "id": "OISjP3SxkaDo",
        "outputId": "b65f70d7-91f3-402d-dda9-9a12f93d4c28"
      },
      "outputs": [
        {
          "name": "stdout",
          "output_type": "stream",
          "text": [
            "+---+---------------------+--------------------------------------------------------------------------------------------------------------------------------------------------------------------------------------------------------------------------------------------------------+\n",
            "|Id |Bus_Name             |Facilities                                                                                                                                                                                                                                              |\n",
            "+---+---------------------+--------------------------------------------------------------------------------------------------------------------------------------------------------------------------------------------------------------------------------------------------------+\n",
            "|1  |Mạnh Hùng            |['Đèn đọc sách', 'Dép', 'Dây đai an toàn', 'Gửi kèm xe máy', 'Nước uống', 'Gối nằm', 'Búa phá kính', 'Tivi LED', 'Sạc điện thoại', 'Rèm cửa', 'Dàn âm thanh (Loa)', 'Chăn đắp', 'Wifi', 'Điều hòa']                                                     |\n",
            "|2  |Toàn Khải            |['Dây đai an toàn', 'Nước uống', 'Rèm cửa', 'Chăn đắp', 'Wifi', 'Điều hòa']                                                                                                                                                                             |\n",
            "|3  |Ba Châu              |['Dây đai an toàn', 'Gửi kèm xe máy', 'Xe trung chuyển', 'Nước uống', 'Rèm cửa', 'Chăn đắp', 'Điều hòa']                                                                                                                                                |\n",
            "|4  |Duy Thảo (Kiên Giang)|['Chăn đắp', 'Wifi', 'Điều hòa', 'Khăn lạnh']                                                                                                                                                                                                           |\n",
            "|5  |Hà My                |['Gối ôm', 'Dép', 'Dây đai an toàn', 'Gửi kèm xe máy', 'Xe trung chuyển', 'Nước uống', 'Gối nằm', 'Búa phá kính', 'Tivi LED', 'Sạc điện thoại', 'Rèm cửa', 'Chăn đắp', 'Điều hòa', 'Khăn lạnh']                                                         |\n",
            "|6  |Thiện Thành Limousine|[]                                                                                                                                                                                                                                                      |\n",
            "|7  |Kế Nghi              |['Dây đai an toàn', 'Nước uống', 'Búa phá kính', 'Sạc điện thoại', 'Rèm cửa', 'Dàn âm thanh (Loa)', 'Chăn đắp', 'Wifi', 'Điều hòa', 'Khăn lạnh']                                                                                                        |\n",
            "|8  |Văn Lang             |['Dây đai an toàn', 'Búa phá kính', 'Chăn đắp', 'Điều hòa']                                                                                                                                                                                             |\n",
            "|9  |Tuấn Hiệp            |['Dây đai an toàn', 'Gửi kèm xe máy', 'Xe trung chuyển', 'Nước uống', 'Gối nằm', 'Búa phá kính', 'Rèm cửa', 'Dàn âm thanh (Loa)', 'Chăn đắp', 'Điều hòa']                                                                                               |\n",
            "|10 |Hảo                  |['Dây đai an toàn', 'Gửi kèm xe máy', 'Xe trung chuyển', 'Nước uống', 'Gối nằm', 'Búa phá kính', 'Rèm cửa', 'Dàn âm thanh (Loa)', 'Chăn đắp', 'Điều hòa']                                                                                               |\n",
            "|11 |Giáp Diệp            |['Dép', 'Dây đai an toàn', 'Gửi kèm xe máy', 'Xe trung chuyển', 'Nước uống', 'Gối nằm', 'Búa phá kính', 'Rèm cửa', 'Dàn âm thanh (Loa)', 'Chăn đắp', 'Wifi', 'Điều hòa', 'Khăn lạnh']                                                                   |\n",
            "|12 |Hải Luân             |['Dép', 'Dây đai an toàn', 'Gửi kèm xe máy', 'Nước uống', 'Gối nằm', 'Búa phá kính', 'Tivi LED', 'Sạc điện thoại', 'Rèm cửa', 'Dàn âm thanh (Loa)', 'Chăn đắp', 'Wifi', 'Điều hòa', 'Khăn lạnh']                                                        |\n",
            "|13 |Liên Hưng            |['Ghế massage', 'Toilet', 'Đèn đọc sách', 'Dép', 'Dây đai an toàn', 'Nước uống', 'Gối nằm', 'Búa phá kính', 'Tivi LED', 'Sạc điện thoại', 'Rèm cửa', 'Dàn âm thanh (Loa)', 'Chăn đắp', 'Wifi', 'Điều hòa', 'Khăn lạnh']                                 |\n",
            "|14 |Tư Tiến              |['Dép', 'Nước uống', 'Rèm cửa', 'Chăn đắp', 'Wifi', 'Điều hòa', 'Khăn lạnh']                                                                                                                                                                            |\n",
            "|15 |Tân Niên             |['Nhân viên sử dụng tiếng anh', 'Ghế massage', 'Gối ôm', 'Dép', 'Dây đai an toàn', 'Gửi kèm xe máy', 'Nước uống', 'Gối nằm', 'Búa phá kính', 'Tivi LED', 'Sạc điện thoại', 'Rèm cửa', 'Dàn âm thanh (Loa)', 'Chăn đắp', 'Wifi', 'Điều hòa', 'Khăn lạnh']|\n",
            "|16 |Vũ Linh limousine    |['Ghế massage', 'Dây đai an toàn', 'Xe trung chuyển', 'Nước uống', 'Búa phá kính', 'Sạc điện thoại', 'Rèm cửa', 'Wifi', 'Điều hòa', 'Khăn lạnh']                                                                                                        |\n",
            "|17 |Dũng Lệ              |['Gối ôm', 'Đèn đọc sách', 'Xe trung chuyển', 'Nước uống', 'Gối nằm', 'Sạc điện thoại', 'Rèm cửa', 'Chăn đắp', 'Khăn lạnh']                                                                                                                             |\n",
            "|18 |Trí Nhân             |['Dép', 'Dây đai an toàn', 'Gửi kèm xe máy', 'Xe trung chuyển', 'Nước uống', 'Gối nằm', 'Búa phá kính', 'Rèm cửa', 'Dàn âm thanh (Loa)', 'Chăn đắp', 'Điều hòa', 'Khăn lạnh']                                                                           |\n",
            "|19 |Trí Nhân Limousine   |[]                                                                                                                                                                                                                                                      |\n",
            "|20 |Thiên Thiên Hương    |['Xe trung chuyển', 'Nước uống', 'Gối nằm', 'Tivi LED', 'Sạc điện thoại', 'Rèm cửa', 'Chăn đắp']                                                                                                                                                        |\n",
            "+---+---------------------+--------------------------------------------------------------------------------------------------------------------------------------------------------------------------------------------------------------------------------------------------------+\n",
            "only showing top 20 rows\n",
            "\n"
          ]
        }
      ],
      "source": [
        "bus_facility = spark.read.csv(\"/content/bus_facilities.csv\", header=True)\n",
        "\n",
        "bus_facility.show(truncate=False)"
      ]
    },
    {
      "cell_type": "code",
      "execution_count": 32,
      "metadata": {
        "colab": {
          "base_uri": "https://localhost:8080/"
        },
        "id": "tTkcACsomBOv",
        "outputId": "6ebad07d-c6ac-45ca-9a9f-780c4033d4f9"
      },
      "outputs": [
        {
          "name": "stdout",
          "output_type": "stream",
          "text": [
            "root\n",
            " |-- Id: string (nullable = true)\n",
            " |-- Bus_Name: string (nullable = true)\n",
            " |-- Facilities: string (nullable = true)\n",
            "\n"
          ]
        }
      ],
      "source": [
        "bus_facility.printSchema()"
      ]
    },
    {
      "cell_type": "code",
      "execution_count": 33,
      "metadata": {
        "colab": {
          "base_uri": "https://localhost:8080/"
        },
        "id": "-GPwKeFfoKIa",
        "outputId": "9a47cc71-c41f-4e70-8923-9acb56eb2f2a"
      },
      "outputs": [
        {
          "name": "stdout",
          "output_type": "stream",
          "text": [
            "+---+---------------------+----------------------------------------------------------------------------------------------------------------------------------------------------------------------------------------------------------------------+\n",
            "|Id |Bus_Name             |Facilities                                                                                                                                                                                                            |\n",
            "+---+---------------------+----------------------------------------------------------------------------------------------------------------------------------------------------------------------------------------------------------------------+\n",
            "|1  |Mạnh Hùng            |[Đèn đọc sách, Dép, Dây đai an toàn, Gửi kèm xe máy, Nước uống, Gối nằm, Búa phá kính, Tivi LED, Sạc điện thoại, Rèm cửa, Dàn âm thanh (Loa), Chăn đắp, Wifi, Điều hòa]                                               |\n",
            "|2  |Toàn Khải            |[Dây đai an toàn, Nước uống, Rèm cửa, Chăn đắp, Wifi, Điều hòa]                                                                                                                                                       |\n",
            "|3  |Ba Châu              |[Dây đai an toàn, Gửi kèm xe máy, Xe trung chuyển, Nước uống, Rèm cửa, Chăn đắp, Điều hòa]                                                                                                                            |\n",
            "|4  |Duy Thảo (Kiên Giang)|[Chăn đắp, Wifi, Điều hòa, Khăn lạnh]                                                                                                                                                                                 |\n",
            "|5  |Hà My                |[Gối ôm, Dép, Dây đai an toàn, Gửi kèm xe máy, Xe trung chuyển, Nước uống, Gối nằm, Búa phá kính, Tivi LED, Sạc điện thoại, Rèm cửa, Chăn đắp, Điều hòa, Khăn lạnh]                                                   |\n",
            "|7  |Kế Nghi              |[Dây đai an toàn, Nước uống, Búa phá kính, Sạc điện thoại, Rèm cửa, Dàn âm thanh (Loa), Chăn đắp, Wifi, Điều hòa, Khăn lạnh]                                                                                          |\n",
            "|8  |Văn Lang             |[Dây đai an toàn, Búa phá kính, Chăn đắp, Điều hòa]                                                                                                                                                                   |\n",
            "|9  |Tuấn Hiệp            |[Dây đai an toàn, Gửi kèm xe máy, Xe trung chuyển, Nước uống, Gối nằm, Búa phá kính, Rèm cửa, Dàn âm thanh (Loa), Chăn đắp, Điều hòa]                                                                                 |\n",
            "|10 |Hảo                  |[Dây đai an toàn, Gửi kèm xe máy, Xe trung chuyển, Nước uống, Gối nằm, Búa phá kính, Rèm cửa, Dàn âm thanh (Loa), Chăn đắp, Điều hòa]                                                                                 |\n",
            "|11 |Giáp Diệp            |[Dép, Dây đai an toàn, Gửi kèm xe máy, Xe trung chuyển, Nước uống, Gối nằm, Búa phá kính, Rèm cửa, Dàn âm thanh (Loa), Chăn đắp, Wifi, Điều hòa, Khăn lạnh]                                                           |\n",
            "|12 |Hải Luân             |[Dép, Dây đai an toàn, Gửi kèm xe máy, Nước uống, Gối nằm, Búa phá kính, Tivi LED, Sạc điện thoại, Rèm cửa, Dàn âm thanh (Loa), Chăn đắp, Wifi, Điều hòa, Khăn lạnh]                                                  |\n",
            "|13 |Liên Hưng            |[Ghế massage, Toilet, Đèn đọc sách, Dép, Dây đai an toàn, Nước uống, Gối nằm, Búa phá kính, Tivi LED, Sạc điện thoại, Rèm cửa, Dàn âm thanh (Loa), Chăn đắp, Wifi, Điều hòa, Khăn lạnh]                               |\n",
            "|14 |Tư Tiến              |[Dép, Nước uống, Rèm cửa, Chăn đắp, Wifi, Điều hòa, Khăn lạnh]                                                                                                                                                        |\n",
            "|15 |Tân Niên             |[Nhân viên sử dụng tiếng anh, Ghế massage, Gối ôm, Dép, Dây đai an toàn, Gửi kèm xe máy, Nước uống, Gối nằm, Búa phá kính, Tivi LED, Sạc điện thoại, Rèm cửa, Dàn âm thanh (Loa), Chăn đắp, Wifi, Điều hòa, Khăn lạnh]|\n",
            "|16 |Vũ Linh limousine    |[Ghế massage, Dây đai an toàn, Xe trung chuyển, Nước uống, Búa phá kính, Sạc điện thoại, Rèm cửa, Wifi, Điều hòa, Khăn lạnh]                                                                                          |\n",
            "|17 |Dũng Lệ              |[Gối ôm, Đèn đọc sách, Xe trung chuyển, Nước uống, Gối nằm, Sạc điện thoại, Rèm cửa, Chăn đắp, Khăn lạnh]                                                                                                             |\n",
            "|18 |Trí Nhân             |[Dép, Dây đai an toàn, Gửi kèm xe máy, Xe trung chuyển, Nước uống, Gối nằm, Búa phá kính, Rèm cửa, Dàn âm thanh (Loa), Chăn đắp, Điều hòa, Khăn lạnh]                                                                 |\n",
            "|20 |Thiên Thiên Hương    |[Xe trung chuyển, Nước uống, Gối nằm, Tivi LED, Sạc điện thoại, Rèm cửa, Chăn đắp]                                                                                                                                    |\n",
            "|22 |Quang Huy            |[Nước uống, Gối nằm, Chăn đắp, Điều hòa]                                                                                                                                                                              |\n",
            "|23 |An Hoà Hiệp          |[Dép, Dây đai an toàn, Gửi kèm xe máy, Xe trung chuyển, Nước uống, Gối nằm, Búa phá kính, Rèm cửa, Dàn âm thanh (Loa), Chăn đắp, Điều hòa, Khăn lạnh]                                                                 |\n",
            "+---+---------------------+----------------------------------------------------------------------------------------------------------------------------------------------------------------------------------------------------------------------+\n",
            "only showing top 20 rows\n",
            "\n",
            "root\n",
            " |-- Id: string (nullable = true)\n",
            " |-- Bus_Name: string (nullable = true)\n",
            " |-- Facilities: array (nullable = true)\n",
            " |    |-- element: string (containsNull = false)\n",
            "\n"
          ]
        }
      ],
      "source": [
        "import numpy as np\n",
        "import pandas as pd\n",
        "from pyspark.sql.functions import regexp_replace, split, col, size, array_contains\n",
        "\n",
        "\n",
        "# Loại bỏ ký tự [ và ] trong cột Facilities\n",
        "bus_facility = bus_facility.withColumn(\"Facilities\", regexp_replace(col(\"Facilities\"), \"[\\\\[\\\\]']\", \"\"))\n",
        "\n",
        "# Chuyển STRING thành ARRAY bằng cách tách theo dấu phẩy và khoảng trắng\n",
        "bus_facility = bus_facility.withColumn(\"Facilities\", split(col(\"Facilities\"), \", \"))\n",
        "\n",
        "# Remove rows where the Facilities array is empty or contains only empty strings\n",
        "bus_facility = bus_facility.filter((size(col(\"Facilities\")) > 0) & (~array_contains(col(\"Facilities\"), \"\")))\n",
        "\n",
        "\n",
        "bus_facility.show(truncate=False)\n",
        "\n",
        "bus_facility.printSchema()\n"
      ]
    },
    {
      "cell_type": "markdown",
      "metadata": {
        "id": "KeRP9_HCPmQ-"
      },
      "source": [
        "#### Khúc này là xong, xử lý code dưới là lưu thành 1 bảng"
      ]
    },
    {
      "cell_type": "code",
      "execution_count": 39,
      "metadata": {
        "colab": {
          "base_uri": "https://localhost:8080/"
        },
        "id": "Cxxezi1YqOFm",
        "outputId": "1c9f4b2e-235d-48d7-9fa6-055f1d6f1493"
      },
      "outputs": [
        {
          "name": "stdout",
          "output_type": "stream",
          "text": [
            "+---------+-----------+\n",
            "| Bus_Name|Facility_Id|\n",
            "+---------+-----------+\n",
            "|Mạnh Hùng|          0|\n",
            "|Mạnh Hùng|          1|\n",
            "|Mạnh Hùng|          2|\n",
            "|Mạnh Hùng|          3|\n",
            "|Mạnh Hùng|          4|\n",
            "|Mạnh Hùng|          5|\n",
            "|Mạnh Hùng|          6|\n",
            "|Mạnh Hùng|          7|\n",
            "|Mạnh Hùng|          8|\n",
            "|Mạnh Hùng|          9|\n",
            "+---------+-----------+\n",
            "only showing top 10 rows\n",
            "\n"
          ]
        }
      ],
      "source": [
        "from pyspark.sql import functions as F\n",
        "\n",
        "# Chuyển đổi Facilities từ ARRAY thành STRUCT với index làm key\n",
        "bus_facilities = bus_facility.select(\n",
        "    \"Bus_Name\",\n",
        "    *[F.col(\"Facilities\")[i].alias(f\"{i}\") for i in range(len(bus_facility.select(\"Facilities\").first()[0]))]\n",
        ")\n",
        "\n",
        "# Tạo biểu thức stack động\n",
        "stack_expr = f\"stack({len(bus_facilities.columns) - 1}, \" + \", \".join(\n",
        "    [f\"'{col}', {col}\" for col in bus_facilities.columns[1:]]\n",
        ") + \") as (Facility_Id, value)\"\n",
        "\n",
        "# Chuyển đổi DataFrame sử dụng stack\n",
        "bus_facilities_convert = (\n",
        "    bus_facilities\n",
        "    .selectExpr(\"Bus_Name\", stack_expr)\n",
        "    .filter(F.col(\"value\").isNotNull())  # Lọc bỏ giá trị null\n",
        "    .select(\"Bus_Name\", \"Facility_Id\" )  # Lấy ra tên bus và các facility tương ứng\n",
        ")\n",
        "\n",
        "bus_facilities_convert.show(10)"
      ]
    },
    {
      "cell_type": "markdown",
      "metadata": {
        "id": "rfs2DlxXOMj-"
      },
      "source": [
        "#### Tách ra 1 bảng mới ở khúc này"
      ]
    },
    {
      "cell_type": "code",
      "execution_count": 40,
      "metadata": {
        "colab": {
          "base_uri": "https://localhost:8080/"
        },
        "id": "pnpHrkKmsZH1",
        "outputId": "eb9aba74-25f4-4a77-e035-af5d531c532b"
      },
      "outputs": [
        {
          "name": "stdout",
          "output_type": "stream",
          "text": [
            "+-----------+--------------------+\n",
            "|Facility_Id|       Facility_Name|\n",
            "+-----------+--------------------+\n",
            "|          0|                 Dép|\n",
            "|          1|      Gửi kèm xe máy|\n",
            "|          2|             Rèm cửa|\n",
            "|          3|Nhân viên sử dụng...|\n",
            "|          4|      Sạc điện thoại|\n",
            "|          5|            Điều hòa|\n",
            "|          6|              Toilet|\n",
            "|          7|            Tai nghe|\n",
            "|          8|              Gối ôm|\n",
            "|          9|            Chăn đắp|\n",
            "|         10|     Xe trung chuyển|\n",
            "|         11|           Nước uống|\n",
            "|         12|         Ghế massage|\n",
            "|         13|  Dàn âm thanh (Loa)|\n",
            "|         14|        Búa phá kính|\n",
            "|         15|            Tivi LED|\n",
            "|         16|        Đèn đọc sách|\n",
            "|         17|                Wifi|\n",
            "|         18|     Dây đai an toàn|\n",
            "|         19|             Gối nằm|\n",
            "+-----------+--------------------+\n",
            "only showing top 20 rows\n",
            "\n"
          ]
        }
      ],
      "source": [
        "from pyspark.sql import Row\n",
        "from pyspark.sql import functions as F\n",
        "\n",
        "# Lấy danh sách giá trị duy nhất từ Facilities bằng cách explode\n",
        "Facility_Names = (\n",
        "    bus_facility\n",
        "    .select(F.explode(\"Facilities\").alias(\"Facility_Name\"))\n",
        "    .distinct()  # Loại bỏ trùng lặp\n",
        "    .rdd.map(lambda row: row[\"Facility_Name\"])  # Chuyển thành danh sách Python\n",
        "    .collect()\n",
        ")\n",
        "\n",
        "# Tạo DataFrame Spark với cột `Facility_Id` và `Facility_Name`\n",
        "Facility_Names = spark.createDataFrame(\n",
        "    [Row(Facility_Id=i, Facility_Name=name) for i, name in enumerate(Facility_Names)]\n",
        ")\n",
        "\n",
        "# Hiển thị DataFrame\n",
        "Facility_Names.show()"
      ]
    }
  ],
  "metadata": {
    "colab": {
      "provenance": []
    },
    "kernelspec": {
      "display_name": "Python 3",
      "name": "python3"
    },
    "language_info": {
      "name": "python"
    }
  },
  "nbformat": 4,
  "nbformat_minor": 0
}
