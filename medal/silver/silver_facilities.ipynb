{
  "cells": [
    {
      "cell_type": "code",
      "execution_count": 6,
      "metadata": {
        "id": "qJK2_MiqkBEs"
      },
      "outputs": [],
      "source": [
        "from pyspark.sql import SparkSession\n",
        "from pyspark.sql.functions import regexp_replace, split, col, size, array_contains\n",
        "import numpy as np\n",
        "import pandas as pd\n",
        "import os\n",
        "import numpy as np\n",
        "import pandas as pd\n"
      ]
    },
    {
      "cell_type": "code",
      "execution_count": 2,
      "metadata": {
        "id": "XSCMCdf0kUeI"
      },
      "outputs": [],
      "source": [
        "spark = SparkSession.builder \\\n",
        "        .appName(\"Silver\") \\\n",
        "        .master(\"local[*]\") \\\n",
        "        .getOrCreate()"
      ]
    },
    {
      "cell_type": "markdown",
      "metadata": {},
      "source": [
        "#### Read CSV file"
      ]
    },
    {
      "cell_type": "code",
      "execution_count": 23,
      "metadata": {
        "colab": {
          "base_uri": "https://localhost:8080/"
        },
        "id": "OISjP3SxkaDo",
        "outputId": "b65f70d7-91f3-402d-dda9-9a12f93d4c28"
      },
      "outputs": [
        {
          "name": "stdout",
          "output_type": "stream",
          "text": [
            "+---+---------------------+--------------------------------------------------------------------------------------------------------------------------------------------------------------------------------------------------------------------------------------------------------+\n",
            "|Id |Bus_Name             |Facilities                                                                                                                                                                                                                                              |\n",
            "+---+---------------------+--------------------------------------------------------------------------------------------------------------------------------------------------------------------------------------------------------------------------------------------------------+\n",
            "|1  |Mạnh Hùng            |['Đèn đọc sách', 'Dép', 'Dây đai an toàn', 'Gửi kèm xe máy', 'Nước uống', 'Gối nằm', 'Búa phá kính', 'Tivi LED', 'Sạc điện thoại', 'Rèm cửa', 'Dàn âm thanh (Loa)', 'Chăn đắp', 'Wifi', 'Điều hòa']                                                     |\n",
            "|2  |Toàn Khải            |['Dây đai an toàn', 'Nước uống', 'Rèm cửa', 'Chăn đắp', 'Wifi', 'Điều hòa']                                                                                                                                                                             |\n",
            "|3  |Ba Châu              |['Dây đai an toàn', 'Gửi kèm xe máy', 'Xe trung chuyển', 'Nước uống', 'Rèm cửa', 'Chăn đắp', 'Điều hòa']                                                                                                                                                |\n",
            "|4  |Duy Thảo (Kiên Giang)|['Chăn đắp', 'Wifi', 'Điều hòa', 'Khăn lạnh']                                                                                                                                                                                                           |\n",
            "|5  |Hà My                |['Gối ôm', 'Dép', 'Dây đai an toàn', 'Gửi kèm xe máy', 'Xe trung chuyển', 'Nước uống', 'Gối nằm', 'Búa phá kính', 'Tivi LED', 'Sạc điện thoại', 'Rèm cửa', 'Chăn đắp', 'Điều hòa', 'Khăn lạnh']                                                         |\n",
            "|6  |Thiện Thành Limousine|[]                                                                                                                                                                                                                                                      |\n",
            "|7  |Kế Nghi              |['Dây đai an toàn', 'Nước uống', 'Búa phá kính', 'Sạc điện thoại', 'Rèm cửa', 'Dàn âm thanh (Loa)', 'Chăn đắp', 'Wifi', 'Điều hòa', 'Khăn lạnh']                                                                                                        |\n",
            "|8  |Văn Lang             |['Dây đai an toàn', 'Búa phá kính', 'Chăn đắp', 'Điều hòa']                                                                                                                                                                                             |\n",
            "|9  |Tuấn Hiệp            |['Dây đai an toàn', 'Gửi kèm xe máy', 'Xe trung chuyển', 'Nước uống', 'Gối nằm', 'Búa phá kính', 'Rèm cửa', 'Dàn âm thanh (Loa)', 'Chăn đắp', 'Điều hòa']                                                                                               |\n",
            "|10 |Hảo                  |['Dây đai an toàn', 'Gửi kèm xe máy', 'Xe trung chuyển', 'Nước uống', 'Gối nằm', 'Búa phá kính', 'Rèm cửa', 'Dàn âm thanh (Loa)', 'Chăn đắp', 'Điều hòa']                                                                                               |\n",
            "|11 |Giáp Diệp            |['Dép', 'Dây đai an toàn', 'Gửi kèm xe máy', 'Xe trung chuyển', 'Nước uống', 'Gối nằm', 'Búa phá kính', 'Rèm cửa', 'Dàn âm thanh (Loa)', 'Chăn đắp', 'Wifi', 'Điều hòa', 'Khăn lạnh']                                                                   |\n",
            "|12 |Hải Luân             |['Dép', 'Dây đai an toàn', 'Gửi kèm xe máy', 'Nước uống', 'Gối nằm', 'Búa phá kính', 'Tivi LED', 'Sạc điện thoại', 'Rèm cửa', 'Dàn âm thanh (Loa)', 'Chăn đắp', 'Wifi', 'Điều hòa', 'Khăn lạnh']                                                        |\n",
            "|13 |Liên Hưng            |['Ghế massage', 'Toilet', 'Đèn đọc sách', 'Dép', 'Dây đai an toàn', 'Nước uống', 'Gối nằm', 'Búa phá kính', 'Tivi LED', 'Sạc điện thoại', 'Rèm cửa', 'Dàn âm thanh (Loa)', 'Chăn đắp', 'Wifi', 'Điều hòa', 'Khăn lạnh']                                 |\n",
            "|14 |Tư Tiến              |['Dép', 'Nước uống', 'Rèm cửa', 'Chăn đắp', 'Wifi', 'Điều hòa', 'Khăn lạnh']                                                                                                                                                                            |\n",
            "|15 |Tân Niên             |['Nhân viên sử dụng tiếng anh', 'Ghế massage', 'Gối ôm', 'Dép', 'Dây đai an toàn', 'Gửi kèm xe máy', 'Nước uống', 'Gối nằm', 'Búa phá kính', 'Tivi LED', 'Sạc điện thoại', 'Rèm cửa', 'Dàn âm thanh (Loa)', 'Chăn đắp', 'Wifi', 'Điều hòa', 'Khăn lạnh']|\n",
            "|16 |Vũ Linh limousine    |['Ghế massage', 'Dây đai an toàn', 'Xe trung chuyển', 'Nước uống', 'Búa phá kính', 'Sạc điện thoại', 'Rèm cửa', 'Wifi', 'Điều hòa', 'Khăn lạnh']                                                                                                        |\n",
            "|17 |Dũng Lệ              |['Gối ôm', 'Đèn đọc sách', 'Xe trung chuyển', 'Nước uống', 'Gối nằm', 'Sạc điện thoại', 'Rèm cửa', 'Chăn đắp', 'Khăn lạnh']                                                                                                                             |\n",
            "|18 |Trí Nhân             |['Dép', 'Dây đai an toàn', 'Gửi kèm xe máy', 'Xe trung chuyển', 'Nước uống', 'Gối nằm', 'Búa phá kính', 'Rèm cửa', 'Dàn âm thanh (Loa)', 'Chăn đắp', 'Điều hòa', 'Khăn lạnh']                                                                           |\n",
            "|19 |Trí Nhân Limousine   |[]                                                                                                                                                                                                                                                      |\n",
            "|20 |Thiên Thiên Hương    |['Xe trung chuyển', 'Nước uống', 'Gối nằm', 'Tivi LED', 'Sạc điện thoại', 'Rèm cửa', 'Chăn đắp']                                                                                                                                                        |\n",
            "+---+---------------------+--------------------------------------------------------------------------------------------------------------------------------------------------------------------------------------------------------------------------------------------------------+\n",
            "only showing top 20 rows\n",
            "\n"
          ]
        }
      ],
      "source": [
        "bus_facility = spark.read.csv(\"../raw/bus_facilities.csv\", header=True)\n",
        "\n",
        "bus_facility.show(truncate=False)"
      ]
    },
    {
      "cell_type": "code",
      "execution_count": 24,
      "metadata": {
        "colab": {
          "base_uri": "https://localhost:8080/"
        },
        "id": "tTkcACsomBOv",
        "outputId": "6ebad07d-c6ac-45ca-9a9f-780c4033d4f9"
      },
      "outputs": [
        {
          "name": "stdout",
          "output_type": "stream",
          "text": [
            "root\n",
            " |-- Id: string (nullable = true)\n",
            " |-- Bus_Name: string (nullable = true)\n",
            " |-- Facilities: string (nullable = true)\n",
            "\n"
          ]
        }
      ],
      "source": [
        "bus_facility.printSchema()"
      ]
    },
    {
      "cell_type": "markdown",
      "metadata": {},
      "source": [
        "#### Regex column Facilities"
      ]
    },
    {
      "cell_type": "code",
      "execution_count": 25,
      "metadata": {
        "colab": {
          "base_uri": "https://localhost:8080/"
        },
        "id": "-GPwKeFfoKIa",
        "outputId": "9a47cc71-c41f-4e70-8923-9acb56eb2f2a"
      },
      "outputs": [
        {
          "name": "stdout",
          "output_type": "stream",
          "text": [
            "+---+---------------------+----------------------------------------------------------------------------------------------------------------------------------------------------------------------------------------------------------------------+\n",
            "|Id |Bus_Name             |Facilities                                                                                                                                                                                                            |\n",
            "+---+---------------------+----------------------------------------------------------------------------------------------------------------------------------------------------------------------------------------------------------------------+\n",
            "|1  |Mạnh Hùng            |[Đèn đọc sách, Dép, Dây đai an toàn, Gửi kèm xe máy, Nước uống, Gối nằm, Búa phá kính, Tivi LED, Sạc điện thoại, Rèm cửa, Dàn âm thanh (Loa), Chăn đắp, Wifi, Điều hòa]                                               |\n",
            "|2  |Toàn Khải            |[Dây đai an toàn, Nước uống, Rèm cửa, Chăn đắp, Wifi, Điều hòa]                                                                                                                                                       |\n",
            "|3  |Ba Châu              |[Dây đai an toàn, Gửi kèm xe máy, Xe trung chuyển, Nước uống, Rèm cửa, Chăn đắp, Điều hòa]                                                                                                                            |\n",
            "|4  |Duy Thảo (Kiên Giang)|[Chăn đắp, Wifi, Điều hòa, Khăn lạnh]                                                                                                                                                                                 |\n",
            "|5  |Hà My                |[Gối ôm, Dép, Dây đai an toàn, Gửi kèm xe máy, Xe trung chuyển, Nước uống, Gối nằm, Búa phá kính, Tivi LED, Sạc điện thoại, Rèm cửa, Chăn đắp, Điều hòa, Khăn lạnh]                                                   |\n",
            "|7  |Kế Nghi              |[Dây đai an toàn, Nước uống, Búa phá kính, Sạc điện thoại, Rèm cửa, Dàn âm thanh (Loa), Chăn đắp, Wifi, Điều hòa, Khăn lạnh]                                                                                          |\n",
            "|8  |Văn Lang             |[Dây đai an toàn, Búa phá kính, Chăn đắp, Điều hòa]                                                                                                                                                                   |\n",
            "|9  |Tuấn Hiệp            |[Dây đai an toàn, Gửi kèm xe máy, Xe trung chuyển, Nước uống, Gối nằm, Búa phá kính, Rèm cửa, Dàn âm thanh (Loa), Chăn đắp, Điều hòa]                                                                                 |\n",
            "|10 |Hảo                  |[Dây đai an toàn, Gửi kèm xe máy, Xe trung chuyển, Nước uống, Gối nằm, Búa phá kính, Rèm cửa, Dàn âm thanh (Loa), Chăn đắp, Điều hòa]                                                                                 |\n",
            "|11 |Giáp Diệp            |[Dép, Dây đai an toàn, Gửi kèm xe máy, Xe trung chuyển, Nước uống, Gối nằm, Búa phá kính, Rèm cửa, Dàn âm thanh (Loa), Chăn đắp, Wifi, Điều hòa, Khăn lạnh]                                                           |\n",
            "|12 |Hải Luân             |[Dép, Dây đai an toàn, Gửi kèm xe máy, Nước uống, Gối nằm, Búa phá kính, Tivi LED, Sạc điện thoại, Rèm cửa, Dàn âm thanh (Loa), Chăn đắp, Wifi, Điều hòa, Khăn lạnh]                                                  |\n",
            "|13 |Liên Hưng            |[Ghế massage, Toilet, Đèn đọc sách, Dép, Dây đai an toàn, Nước uống, Gối nằm, Búa phá kính, Tivi LED, Sạc điện thoại, Rèm cửa, Dàn âm thanh (Loa), Chăn đắp, Wifi, Điều hòa, Khăn lạnh]                               |\n",
            "|14 |Tư Tiến              |[Dép, Nước uống, Rèm cửa, Chăn đắp, Wifi, Điều hòa, Khăn lạnh]                                                                                                                                                        |\n",
            "|15 |Tân Niên             |[Nhân viên sử dụng tiếng anh, Ghế massage, Gối ôm, Dép, Dây đai an toàn, Gửi kèm xe máy, Nước uống, Gối nằm, Búa phá kính, Tivi LED, Sạc điện thoại, Rèm cửa, Dàn âm thanh (Loa), Chăn đắp, Wifi, Điều hòa, Khăn lạnh]|\n",
            "|16 |Vũ Linh limousine    |[Ghế massage, Dây đai an toàn, Xe trung chuyển, Nước uống, Búa phá kính, Sạc điện thoại, Rèm cửa, Wifi, Điều hòa, Khăn lạnh]                                                                                          |\n",
            "|17 |Dũng Lệ              |[Gối ôm, Đèn đọc sách, Xe trung chuyển, Nước uống, Gối nằm, Sạc điện thoại, Rèm cửa, Chăn đắp, Khăn lạnh]                                                                                                             |\n",
            "|18 |Trí Nhân             |[Dép, Dây đai an toàn, Gửi kèm xe máy, Xe trung chuyển, Nước uống, Gối nằm, Búa phá kính, Rèm cửa, Dàn âm thanh (Loa), Chăn đắp, Điều hòa, Khăn lạnh]                                                                 |\n",
            "|20 |Thiên Thiên Hương    |[Xe trung chuyển, Nước uống, Gối nằm, Tivi LED, Sạc điện thoại, Rèm cửa, Chăn đắp]                                                                                                                                    |\n",
            "|22 |Quang Huy            |[Nước uống, Gối nằm, Chăn đắp, Điều hòa]                                                                                                                                                                              |\n",
            "|23 |An Hoà Hiệp          |[Dép, Dây đai an toàn, Gửi kèm xe máy, Xe trung chuyển, Nước uống, Gối nằm, Búa phá kính, Rèm cửa, Dàn âm thanh (Loa), Chăn đắp, Điều hòa, Khăn lạnh]                                                                 |\n",
            "+---+---------------------+----------------------------------------------------------------------------------------------------------------------------------------------------------------------------------------------------------------------+\n",
            "only showing top 20 rows\n",
            "\n",
            "root\n",
            " |-- Id: string (nullable = true)\n",
            " |-- Bus_Name: string (nullable = true)\n",
            " |-- Facilities: array (nullable = true)\n",
            " |    |-- element: string (containsNull = false)\n",
            "\n"
          ]
        }
      ],
      "source": [
        "# Loại bỏ ký tự [ và ] trong cột Facilities\n",
        "bus_facility = bus_facility.withColumn(\"Facilities\", regexp_replace(col(\"Facilities\"), \"[\\\\[\\\\]']\", \"\"))\n",
        "\n",
        "# Chuyển STRING thành ARRAY bằng cách tách theo dấu phẩy và khoảng trắng\n",
        "bus_facility = bus_facility.withColumn(\"Facilities\", split(col(\"Facilities\"), \", \"))\n",
        "\n",
        "# Remove rows where the Facilities array is empty or contains only empty strings\n",
        "bus_facility = bus_facility.filter((size(col(\"Facilities\")) > 0) & (~array_contains(col(\"Facilities\"), \"\")))\n",
        "\n",
        "\n",
        "bus_facility.show(truncate=False)\n",
        "\n",
        "bus_facility.printSchema()\n"
      ]
    },
    {
      "cell_type": "markdown",
      "metadata": {},
      "source": [
        "#### Read bus id company file"
      ]
    },
    {
      "cell_type": "code",
      "execution_count": 26,
      "metadata": {},
      "outputs": [
        {
          "name": "stdout",
          "output_type": "stream",
          "text": [
            "+--------------------+--------------------+----------+\n",
            "|              Bus_Id|            Bus_Name|Company_ID|\n",
            "+--------------------+--------------------+----------+\n",
            "|vu-linh-limousine...|   Vũ Linh limousine|       768|\n",
            "|       ba-chau_13078|             Ba Châu|     13078|\n",
            "|      van-lang_11826|            Văn Lang|     11826|\n",
            "|      tri-nhan_12911|            Trí Nhân|     12911|\n",
            "|     tuan-hiep_11899|           Tuấn Hiệp|     11899|\n",
            "|thien-thanh-limou...|Thiện Thành Limou...|     21843|\n",
            "|           hao_12797|                 Hảo|     12797|\n",
            "|tri-nhan-limousin...|  Trí Nhân Limousine|     12911|\n",
            "|         ha-my_12507|               Hà My|     12507|\n",
            "|     toan-khai_46289|           Toàn Khải|     46289|\n",
            "|     giap-diep_12772|           Giáp Diệp|     12772|\n",
            "|       tu-tien_13184|             Tư Tiến|     13184|\n",
            "|     manh-hung_11188|           Mạnh Hùng|     11188|\n",
            "|     ngoc-diem_40437|           Ngọc Diễm|     40437|\n",
            "|      tan-nien_12462|            Tân Niên|     12462|\n",
            "|duy-thao-kien-gia...|Duy Thảo (Kiên Gi...|     44740|\n",
            "|       dung-le_12944|             Dũng Lệ|     12944|\n",
            "|      hai-luan_36137|            Hải Luân|     36137|\n",
            "|       lien-hung_808|           Liên Hưng|       808|\n",
            "|hung-cuong-an-gia...|Hùng Cường - An G...|       529|\n",
            "+--------------------+--------------------+----------+\n",
            "only showing top 20 rows\n",
            "\n"
          ]
        }
      ],
      "source": [
        "bus_ids_company = spark.read.csv(\"../raw/bus_ids.csv\", header=True)\n",
        "\n",
        "bus_ids_company.show(20)"
      ]
    },
    {
      "cell_type": "markdown",
      "metadata": {},
      "source": [
        "#### Join 2 tables and pick column Bus_Id"
      ]
    },
    {
      "cell_type": "code",
      "execution_count": 27,
      "metadata": {},
      "outputs": [],
      "source": [
        "from pyspark.sql.functions import col\n",
        "\n",
        "def add_bus_id(bus_facility, bus_ids_company, join_column=\"Bus_Name\"):\n",
        "    bus_facility_with_id = bus_facility.join(\n",
        "        bus_ids_company.select(col(join_column), col(\"Bus_Id\")),\n",
        "        on=join_column,\n",
        "        how=\"left\"\n",
        "    )\n",
        "    \n",
        "    # Sắp xếp lại thứ tự cột\n",
        "    columns_order = [\"Id\", \"Bus_Id\" , \"Bus_Name\"] + [col for col in bus_facility_with_id.columns if col not in [\"Id\", \"Bus_Id\" , \"Bus_Name\"]]\n",
        "    bus_facility_with_id = bus_facility_with_id.select(*columns_order)\n",
        "    \n",
        "    return bus_facility_with_id\n",
        "\n",
        "# Gọi hàm để thêm cột bus_id và sắp xếp lại thứ tự cột\n",
        "bus_facility = add_bus_id(bus_facility, bus_ids_company)"
      ]
    },
    {
      "cell_type": "code",
      "execution_count": 28,
      "metadata": {},
      "outputs": [
        {
          "name": "stdout",
          "output_type": "stream",
          "text": [
            "+---+-------------------------+---------------------+----------------------------------------------------------------------------------------------------------------------------------------------------------------------------------------------------------------------+\n",
            "|Id |Bus_Id                   |Bus_Name             |Facilities                                                                                                                                                                                                            |\n",
            "+---+-------------------------+---------------------+----------------------------------------------------------------------------------------------------------------------------------------------------------------------------------------------------------------------+\n",
            "|1  |manh-hung_11188          |Mạnh Hùng            |[Đèn đọc sách, Dép, Dây đai an toàn, Gửi kèm xe máy, Nước uống, Gối nằm, Búa phá kính, Tivi LED, Sạc điện thoại, Rèm cửa, Dàn âm thanh (Loa), Chăn đắp, Wifi, Điều hòa]                                               |\n",
            "|2  |toan-khai_46289          |Toàn Khải            |[Dây đai an toàn, Nước uống, Rèm cửa, Chăn đắp, Wifi, Điều hòa]                                                                                                                                                       |\n",
            "|3  |ba-chau_13078            |Ba Châu              |[Dây đai an toàn, Gửi kèm xe máy, Xe trung chuyển, Nước uống, Rèm cửa, Chăn đắp, Điều hòa]                                                                                                                            |\n",
            "|4  |duy-thao-kien-giang_44740|Duy Thảo (Kiên Giang)|[Chăn đắp, Wifi, Điều hòa, Khăn lạnh]                                                                                                                                                                                 |\n",
            "|5  |ha-my_12507              |Hà My                |[Gối ôm, Dép, Dây đai an toàn, Gửi kèm xe máy, Xe trung chuyển, Nước uống, Gối nằm, Búa phá kính, Tivi LED, Sạc điện thoại, Rèm cửa, Chăn đắp, Điều hòa, Khăn lạnh]                                                   |\n",
            "|7  |null                     |Kế Nghi              |[Dây đai an toàn, Nước uống, Búa phá kính, Sạc điện thoại, Rèm cửa, Dàn âm thanh (Loa), Chăn đắp, Wifi, Điều hòa, Khăn lạnh]                                                                                          |\n",
            "|8  |van-lang_11826           |Văn Lang             |[Dây đai an toàn, Búa phá kính, Chăn đắp, Điều hòa]                                                                                                                                                                   |\n",
            "|9  |tuan-hiep_11899          |Tuấn Hiệp            |[Dây đai an toàn, Gửi kèm xe máy, Xe trung chuyển, Nước uống, Gối nằm, Búa phá kính, Rèm cửa, Dàn âm thanh (Loa), Chăn đắp, Điều hòa]                                                                                 |\n",
            "|10 |hao_12797                |Hảo                  |[Dây đai an toàn, Gửi kèm xe máy, Xe trung chuyển, Nước uống, Gối nằm, Búa phá kính, Rèm cửa, Dàn âm thanh (Loa), Chăn đắp, Điều hòa]                                                                                 |\n",
            "|11 |giap-diep_12772          |Giáp Diệp            |[Dép, Dây đai an toàn, Gửi kèm xe máy, Xe trung chuyển, Nước uống, Gối nằm, Búa phá kính, Rèm cửa, Dàn âm thanh (Loa), Chăn đắp, Wifi, Điều hòa, Khăn lạnh]                                                           |\n",
            "|12 |hai-luan_36137           |Hải Luân             |[Dép, Dây đai an toàn, Gửi kèm xe máy, Nước uống, Gối nằm, Búa phá kính, Tivi LED, Sạc điện thoại, Rèm cửa, Dàn âm thanh (Loa), Chăn đắp, Wifi, Điều hòa, Khăn lạnh]                                                  |\n",
            "|13 |lien-hung_808            |Liên Hưng            |[Ghế massage, Toilet, Đèn đọc sách, Dép, Dây đai an toàn, Nước uống, Gối nằm, Búa phá kính, Tivi LED, Sạc điện thoại, Rèm cửa, Dàn âm thanh (Loa), Chăn đắp, Wifi, Điều hòa, Khăn lạnh]                               |\n",
            "|14 |tu-tien_13184            |Tư Tiến              |[Dép, Nước uống, Rèm cửa, Chăn đắp, Wifi, Điều hòa, Khăn lạnh]                                                                                                                                                        |\n",
            "|15 |tan-nien_12462           |Tân Niên             |[Nhân viên sử dụng tiếng anh, Ghế massage, Gối ôm, Dép, Dây đai an toàn, Gửi kèm xe máy, Nước uống, Gối nằm, Búa phá kính, Tivi LED, Sạc điện thoại, Rèm cửa, Dàn âm thanh (Loa), Chăn đắp, Wifi, Điều hòa, Khăn lạnh]|\n",
            "|16 |vu-linh-limousine_768    |Vũ Linh limousine    |[Ghế massage, Dây đai an toàn, Xe trung chuyển, Nước uống, Búa phá kính, Sạc điện thoại, Rèm cửa, Wifi, Điều hòa, Khăn lạnh]                                                                                          |\n",
            "|17 |dung-le_12944            |Dũng Lệ              |[Gối ôm, Đèn đọc sách, Xe trung chuyển, Nước uống, Gối nằm, Sạc điện thoại, Rèm cửa, Chăn đắp, Khăn lạnh]                                                                                                             |\n",
            "|18 |tri-nhan_12911           |Trí Nhân             |[Dép, Dây đai an toàn, Gửi kèm xe máy, Xe trung chuyển, Nước uống, Gối nằm, Búa phá kính, Rèm cửa, Dàn âm thanh (Loa), Chăn đắp, Điều hòa, Khăn lạnh]                                                                 |\n",
            "|20 |thien-thien-huong_12483  |Thiên Thiên Hương    |[Xe trung chuyển, Nước uống, Gối nằm, Tivi LED, Sạc điện thoại, Rèm cửa, Chăn đắp]                                                                                                                                    |\n",
            "|22 |quang-huy_13087          |Quang Huy            |[Nước uống, Gối nằm, Chăn đắp, Điều hòa]                                                                                                                                                                              |\n",
            "|23 |an-hoa-hiep_11720        |An Hoà Hiệp          |[Dép, Dây đai an toàn, Gửi kèm xe máy, Xe trung chuyển, Nước uống, Gối nằm, Búa phá kính, Rèm cửa, Dàn âm thanh (Loa), Chăn đắp, Điều hòa, Khăn lạnh]                                                                 |\n",
            "+---+-------------------------+---------------------+----------------------------------------------------------------------------------------------------------------------------------------------------------------------------------------------------------------------+\n",
            "only showing top 20 rows\n",
            "\n"
          ]
        }
      ],
      "source": [
        "bus_facility.show(20, truncate=False)"
      ]
    },
    {
      "cell_type": "markdown",
      "metadata": {
        "id": "KeRP9_HCPmQ-"
      },
      "source": [
        "#### Table Facility_Name"
      ]
    },
    {
      "cell_type": "code",
      "execution_count": 29,
      "metadata": {
        "colab": {
          "base_uri": "https://localhost:8080/"
        },
        "id": "Cxxezi1YqOFm",
        "outputId": "1c9f4b2e-235d-48d7-9fa6-055f1d6f1493"
      },
      "outputs": [
        {
          "name": "stdout",
          "output_type": "stream",
          "text": [
            "+-----------+--------------------+\n",
            "|Facility_Id|       Facility_Name|\n",
            "+-----------+--------------------+\n",
            "|          1|        Búa phá kính|\n",
            "|          2|            Chăn đắp|\n",
            "|          3|  Dàn âm thanh (Loa)|\n",
            "|          4|     Dây đai an toàn|\n",
            "|          5|                 Dép|\n",
            "|          6|         Ghế massage|\n",
            "|          7|             Gối nằm|\n",
            "|          8|              Gối ôm|\n",
            "|          9|      Gửi kèm xe máy|\n",
            "|         10|           Khăn lạnh|\n",
            "|         11|Nhân viên sử dụng...|\n",
            "|         12|           Nước uống|\n",
            "|         13|             Rèm cửa|\n",
            "|         14|      Sạc điện thoại|\n",
            "|         15|            Tai nghe|\n",
            "|         16|            Tivi LED|\n",
            "|         17|              Toilet|\n",
            "|         18|                Wifi|\n",
            "|         19|     Xe trung chuyển|\n",
            "|         20|            Điều hòa|\n",
            "+-----------+--------------------+\n",
            "only showing top 20 rows\n",
            "\n"
          ]
        }
      ],
      "source": [
        "from pyspark.sql import Row\n",
        "from pyspark.sql import functions as F\n",
        "from pyspark.sql.types import IntegerType\n",
        "from pyspark.sql.window import Window\n",
        "\n",
        "# Tách các giá trị duy nhất từ cột Facilities\n",
        "facility_names = (\n",
        "    bus_facility\n",
        "    .select(F.explode(\"Facilities\").alias(\"Facility_Name\"))  # Tách từng giá trị\n",
        "    .distinct()  # Loại bỏ trùng lặp\n",
        "    .orderBy(\"Facility_Name\")  # Sắp xếp theo thứ tự\n",
        ")\n",
        "\n",
        "# Gán Facility_Id theo thứ tự từ 1 trở đi\n",
        "facility_names = facility_names.withColumn(\n",
        "    \"Facility_Id\", F.row_number().over(Window.orderBy(\"Facility_Name\"))\n",
        ")\n",
        "\n",
        "# Hiển thị bảng Facility_Names\n",
        "facility_names.select(\"Facility_Id\", \"Facility_Name\").show()"
      ]
    },
    {
      "cell_type": "markdown",
      "metadata": {
        "id": "rfs2DlxXOMj-"
      },
      "source": [
        "#### Table Facility"
      ]
    },
    {
      "cell_type": "code",
      "execution_count": 34,
      "metadata": {
        "colab": {
          "base_uri": "https://localhost:8080/"
        },
        "id": "pnpHrkKmsZH1",
        "outputId": "eb9aba74-25f4-4a77-e035-af5d531c532b"
      },
      "outputs": [
        {
          "name": "stdout",
          "output_type": "stream",
          "text": [
            "+--------------------+-------------------+-----------+\n",
            "|              Bus_Id|           Bus_Name|Facility_Id|\n",
            "+--------------------+-------------------+-----------+\n",
            "|   an-hoa-hiep_11720|        An Hoà Hiệp|          1|\n",
            "|   an-hoa-hiep_11720|        An Hoà Hiệp|          2|\n",
            "|   an-hoa-hiep_11720|        An Hoà Hiệp|          3|\n",
            "|   an-hoa-hiep_11720|        An Hoà Hiệp|          4|\n",
            "|   an-hoa-hiep_11720|        An Hoà Hiệp|          5|\n",
            "|   an-hoa-hiep_11720|        An Hoà Hiệp|          7|\n",
            "|   an-hoa-hiep_11720|        An Hoà Hiệp|          9|\n",
            "|   an-hoa-hiep_11720|        An Hoà Hiệp|         10|\n",
            "|   an-hoa-hiep_11720|        An Hoà Hiệp|         12|\n",
            "|   an-hoa-hiep_11720|        An Hoà Hiệp|         13|\n",
            "|   an-hoa-hiep_11720|        An Hoà Hiệp|         19|\n",
            "|   an-hoa-hiep_11720|        An Hoà Hiệp|         20|\n",
            "|     anh-chinh_49740|          Anh Chính|          2|\n",
            "|     anh-chinh_49740|          Anh Chính|          4|\n",
            "|     anh-chinh_49740|          Anh Chính|          7|\n",
            "|     anh-chinh_49740|          Anh Chính|          9|\n",
            "|     anh-chinh_49740|          Anh Chính|         10|\n",
            "|     anh-chinh_49740|          Anh Chính|         12|\n",
            "|     anh-chinh_49740|          Anh Chính|         13|\n",
            "|     anh-chinh_49740|          Anh Chính|         14|\n",
            "|     anh-chinh_49740|          Anh Chính|         20|\n",
            "|anh-tuan-bac-lieu...|Anh Tuấn (Bạc Liêu)|          1|\n",
            "|anh-tuan-bac-lieu...|Anh Tuấn (Bạc Liêu)|          2|\n",
            "|anh-tuan-bac-lieu...|Anh Tuấn (Bạc Liêu)|          7|\n",
            "|anh-tuan-bac-lieu...|Anh Tuấn (Bạc Liêu)|         10|\n",
            "|anh-tuan-bac-lieu...|Anh Tuấn (Bạc Liêu)|         12|\n",
            "|anh-tuan-bac-lieu...|Anh Tuấn (Bạc Liêu)|         14|\n",
            "|anh-tuan-bac-lieu...|Anh Tuấn (Bạc Liêu)|         18|\n",
            "|anh-tuan-bac-lieu...|Anh Tuấn (Bạc Liêu)|         20|\n",
            "|       ba-chau_13078|            Ba Châu|          2|\n",
            "|       ba-chau_13078|            Ba Châu|          4|\n",
            "|       ba-chau_13078|            Ba Châu|          9|\n",
            "|       ba-chau_13078|            Ba Châu|         12|\n",
            "|       ba-chau_13078|            Ba Châu|         13|\n",
            "|       ba-chau_13078|            Ba Châu|         19|\n",
            "|       ba-chau_13078|            Ba Châu|         20|\n",
            "|     bao-quynh_25337|          Bảo Quỳnh|          4|\n",
            "|     bao-quynh_25337|          Bảo Quỳnh|         13|\n",
            "|     bao-quynh_25337|          Bảo Quỳnh|         20|\n",
            "|bon-luyen-express...|  Bốn Luyện Express|          2|\n",
            "|bon-luyen-express...|  Bốn Luyện Express|          4|\n",
            "|bon-luyen-express...|  Bốn Luyện Express|          9|\n",
            "|bon-luyen-express...|  Bốn Luyện Express|         12|\n",
            "|bon-luyen-express...|  Bốn Luyện Express|         13|\n",
            "|bon-luyen-express...|  Bốn Luyện Express|         14|\n",
            "|bon-luyen-express...|  Bốn Luyện Express|         18|\n",
            "|bon-luyen-express...|  Bốn Luyện Express|         20|\n",
            "|       duy-quy_20454|            Duy Quý|          4|\n",
            "|       duy-quy_20454|            Duy Quý|         12|\n",
            "|       duy-quy_20454|            Duy Quý|         13|\n",
            "+--------------------+-------------------+-----------+\n",
            "only showing top 50 rows\n",
            "\n"
          ]
        }
      ],
      "source": [
        "from pyspark.sql import functions as F\n",
        "from pyspark.sql.window import Window\n",
        "\n",
        "# Tách từng giá trị Facilities của mỗi Bus_Id\n",
        "bus_facilities_exploded = bus_facility.select(\n",
        "    \"Bus_Id\",\"Bus_Name\", F.explode(\"Facilities\").alias(\"Facility_Name\")\n",
        ")\n",
        "\n",
        "# Gán Facility_Id cho mỗi Bus_Id\n",
        "bus_facilities_with_id = bus_facilities_exploded.join(\n",
        "    facility_names, on=\"Facility_Name\", how=\"inner\"\n",
        ").select(\"Bus_Id\",\"Bus_Name\", \"Facility_Id\").distinct()\n",
        "\n",
        "# Hiển thị kết quả\n",
        "bus_facilities_with_id.orderBy(\"Bus_Name\", \"Facility_Id\").show(50)\n"
      ]
    }
  ],
  "metadata": {
    "colab": {
      "provenance": []
    },
    "kernelspec": {
      "display_name": "Python 3",
      "name": "python3"
    },
    "language_info": {
      "codemirror_mode": {
        "name": "ipython",
        "version": 3
      },
      "file_extension": ".py",
      "mimetype": "text/x-python",
      "name": "python",
      "nbconvert_exporter": "python",
      "pygments_lexer": "ipython3",
      "version": "3.11.6"
    }
  },
  "nbformat": 4,
  "nbformat_minor": 0
}
